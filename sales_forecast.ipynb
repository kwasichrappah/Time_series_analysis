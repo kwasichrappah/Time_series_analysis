{
 "cells": [
  {
   "cell_type": "code",
   "execution_count": null,
   "metadata": {},
   "outputs": [],
   "source": []
  },
  {
   "cell_type": "markdown",
   "metadata": {},
   "source": [
    "# `BUILDING A REGRESSION MODEL TO FORECAST SALES` \n",
    "#### Using the CRISP-DM framework"
   ]
  },
  {
   "cell_type": "markdown",
   "metadata": {},
   "source": [
    "## `Business Understanding`\n"
   ]
  },
  {
   "cell_type": "markdown",
   "metadata": {},
   "source": [
    "#### Goal/Description\n",
    "To create a machine learning model to forecast the demand of products in various locations."
   ]
  },
  {
   "cell_type": "markdown",
   "metadata": {},
   "source": [
    "#### `Null Hypothesis`\n",
    "There is no relationship between the average sales and the average sales of the various branches\n",
    "\n",
    "#### `Alternate Hypothesis`\n",
    "There is a relationship between the average sales and the average sales of the various branches"
   ]
  },
  {
   "cell_type": "markdown",
   "metadata": {},
   "source": [
    "### `Key Metrics and Success Criteria`\n",
    "\n",
    "The success of this poject will be evaluated based on several key metrics and success criteria including;\n",
    "\n",
    "\n",
    "\n"
   ]
  },
  {
   "cell_type": "markdown",
   "metadata": {},
   "source": [
    "#### `Analytical Questions`\n",
    "\n",
    "Is the train dataset complete (has all the required dates)?\n",
    "Which dates have the lowest and highest sales for each year (excluding days the store was closed)?\n",
    "Compare the sales for each month across the years and determine which month of which year had the highest sales.\n",
    "Did the earthquake impact sales?\n",
    "Are certain stores or groups of stores selling more products? (Cluster, city, state, type)\n",
    "Are sales affected by promotions, oil prices and holidays?\n",
    "What analysis can we get from the date and its extractable features?\n",
    "Which product family and stores did the promotions affect.\n",
    "What is the difference between RMSLE, RMSE, MSE (or why is the MAE greater than all of them?)\n",
    "Does the payment of wages in the public sector on the 15th and last days of the month influence the store sales."
   ]
  },
  {
   "cell_type": "markdown",
   "metadata": {},
   "source": [
    "## `Data Understanding`"
   ]
  },
  {
   "cell_type": "markdown",
   "metadata": {},
   "source": [
    "#### Data Source\n",
    "The data was sourced from three places:\n",
    "- Three tables from Corporation Favorita's database \n",
    "- Two csv files from a OneDrive location\n",
    "- Two csv files from a GitHub repository \n",
    " "
   ]
  },
  {
   "cell_type": "markdown",
   "metadata": {},
   "source": [
    "#### Data Features\n",
    "\n",
    "- store_nbr : Identifies the store at which the products are sold.\n",
    "\n",
    "- family : identifies the type of product sold.\n",
    "\n",
    "- sales : gives the total sales for a product family at a particular store at a given date. Fractional values are possible since products can be sold in fractional units (1.5 kg of cheese, for instance, as opposed to 1 bag of chips).\n",
    "\n",
    "- onpromotion : gives the total number of items in a product family that were being promoted at a store at a given date."
   ]
  },
  {
   "cell_type": "markdown",
   "metadata": {},
   "source": [
    "#### Data Exploration"
   ]
  },
  {
   "cell_type": "markdown",
   "metadata": {},
   "source": [
    "##### `Libraries`"
   ]
  },
  {
   "cell_type": "code",
   "execution_count": 137,
   "metadata": {},
   "outputs": [],
   "source": [
    "#Libraries imported\n",
    "import sqlalchemy as sa\n",
    "import pyodbc  \n",
    "from dotenv import dotenv_values \n",
    "import pandas as pd\n",
    "from scipy import stats \n",
    "from scipy.stats import kruskal\n",
    "import matplotlib.pyplot as plt\n",
    "import plotly.express as px\n",
    "import plotly.graph_objects as go\n",
    "import seaborn as sns\n",
    "import collections\n",
    "import numpy as np\n",
    "import warnings"
   ]
  },
  {
   "cell_type": "markdown",
   "metadata": {},
   "source": [
    "##### `Database Connection`"
   ]
  },
  {
   "cell_type": "code",
   "execution_count": 138,
   "metadata": {},
   "outputs": [
    {
     "name": "stderr",
     "output_type": "stream",
     "text": [
      "Python-dotenv could not parse statement starting at line 5\n"
     ]
    }
   ],
   "source": [
    "#Access protocols for the SQL Database\n",
    "env_variables = dotenv_values('logins.env')\n",
    "database = env_variables.get('database')\n",
    "server = env_variables.get('server')\n",
    "username = env_variables.get('username')\n",
    "password = env_variables.get('password')"
   ]
  },
  {
   "cell_type": "code",
   "execution_count": 139,
   "metadata": {},
   "outputs": [],
   "source": [
    "#Creation of Connection to Database\n",
    "connection_string = f\"DRIVER={{SQL Server}};SERVER={server};DATABASE={database};UID={username};PWD={password};MARS_Connection=yes;MinProtocolVersion=TLSv1.2;\"\n",
    "connection = pyodbc.connect(connection_string)"
   ]
  },
  {
   "cell_type": "code",
   "execution_count": 140,
   "metadata": {},
   "outputs": [
    {
     "name": "stderr",
     "output_type": "stream",
     "text": [
      "C:\\Users\\chrap\\AppData\\Local\\Temp\\ipykernel_8180\\1268661856.py:4: UserWarning:\n",
      "\n",
      "pandas only supports SQLAlchemy connectable (engine/connection) or database string URI or sqlite3 DBAPI2 connection. Other DBAPI2 objects are not tested. Please consider using SQLAlchemy.\n",
      "\n"
     ]
    },
    {
     "data": {
      "text/html": [
       "<div>\n",
       "<style scoped>\n",
       "    .dataframe tbody tr th:only-of-type {\n",
       "        vertical-align: middle;\n",
       "    }\n",
       "\n",
       "    .dataframe tbody tr th {\n",
       "        vertical-align: top;\n",
       "    }\n",
       "\n",
       "    .dataframe thead th {\n",
       "        text-align: right;\n",
       "    }\n",
       "</style>\n",
       "<table border=\"1\" class=\"dataframe\">\n",
       "  <thead>\n",
       "    <tr style=\"text-align: right;\">\n",
       "      <th></th>\n",
       "      <th>date</th>\n",
       "      <th>dcoilwtico</th>\n",
       "    </tr>\n",
       "  </thead>\n",
       "  <tbody>\n",
       "    <tr>\n",
       "      <th>0</th>\n",
       "      <td>2013-01-01</td>\n",
       "      <td>NaN</td>\n",
       "    </tr>\n",
       "    <tr>\n",
       "      <th>1</th>\n",
       "      <td>2013-01-02</td>\n",
       "      <td>93.139999</td>\n",
       "    </tr>\n",
       "    <tr>\n",
       "      <th>2</th>\n",
       "      <td>2013-01-03</td>\n",
       "      <td>92.970001</td>\n",
       "    </tr>\n",
       "    <tr>\n",
       "      <th>3</th>\n",
       "      <td>2013-01-04</td>\n",
       "      <td>93.120003</td>\n",
       "    </tr>\n",
       "    <tr>\n",
       "      <th>4</th>\n",
       "      <td>2013-01-07</td>\n",
       "      <td>93.199997</td>\n",
       "    </tr>\n",
       "  </tbody>\n",
       "</table>\n",
       "</div>"
      ],
      "text/plain": [
       "        date  dcoilwtico\n",
       "0 2013-01-01         NaN\n",
       "1 2013-01-02   93.139999\n",
       "2 2013-01-03   92.970001\n",
       "3 2013-01-04   93.120003\n",
       "4 2013-01-07   93.199997"
      ]
     },
     "execution_count": 140,
     "metadata": {},
     "output_type": "execute_result"
    }
   ],
   "source": [
    "#Querying SQL Database and reading the table into a dataframe\n",
    "query = \"SELECT * FROM oil\"\n",
    "\n",
    "oil_df = pd.read_sql(query, connection,parse_dates= 'date')#,index_col=['date'])\n",
    "\n",
    "oil_df.head(5)"
   ]
  },
  {
   "cell_type": "code",
   "execution_count": 141,
   "metadata": {},
   "outputs": [
    {
     "name": "stderr",
     "output_type": "stream",
     "text": [
      "C:\\Users\\chrap\\AppData\\Local\\Temp\\ipykernel_8180\\527256426.py:4: UserWarning:\n",
      "\n",
      "pandas only supports SQLAlchemy connectable (engine/connection) or database string URI or sqlite3 DBAPI2 connection. Other DBAPI2 objects are not tested. Please consider using SQLAlchemy.\n",
      "\n"
     ]
    },
    {
     "data": {
      "text/html": [
       "<div>\n",
       "<style scoped>\n",
       "    .dataframe tbody tr th:only-of-type {\n",
       "        vertical-align: middle;\n",
       "    }\n",
       "\n",
       "    .dataframe tbody tr th {\n",
       "        vertical-align: top;\n",
       "    }\n",
       "\n",
       "    .dataframe thead th {\n",
       "        text-align: right;\n",
       "    }\n",
       "</style>\n",
       "<table border=\"1\" class=\"dataframe\">\n",
       "  <thead>\n",
       "    <tr style=\"text-align: right;\">\n",
       "      <th></th>\n",
       "      <th>date</th>\n",
       "      <th>type</th>\n",
       "      <th>locale</th>\n",
       "      <th>locale_name</th>\n",
       "      <th>description</th>\n",
       "      <th>transferred</th>\n",
       "    </tr>\n",
       "  </thead>\n",
       "  <tbody>\n",
       "    <tr>\n",
       "      <th>0</th>\n",
       "      <td>2012-03-02</td>\n",
       "      <td>Holiday</td>\n",
       "      <td>Local</td>\n",
       "      <td>Manta</td>\n",
       "      <td>Fundacion de Manta</td>\n",
       "      <td>False</td>\n",
       "    </tr>\n",
       "    <tr>\n",
       "      <th>1</th>\n",
       "      <td>2012-04-01</td>\n",
       "      <td>Holiday</td>\n",
       "      <td>Regional</td>\n",
       "      <td>Cotopaxi</td>\n",
       "      <td>Provincializacion de Cotopaxi</td>\n",
       "      <td>False</td>\n",
       "    </tr>\n",
       "    <tr>\n",
       "      <th>2</th>\n",
       "      <td>2012-04-12</td>\n",
       "      <td>Holiday</td>\n",
       "      <td>Local</td>\n",
       "      <td>Cuenca</td>\n",
       "      <td>Fundacion de Cuenca</td>\n",
       "      <td>False</td>\n",
       "    </tr>\n",
       "    <tr>\n",
       "      <th>3</th>\n",
       "      <td>2012-04-14</td>\n",
       "      <td>Holiday</td>\n",
       "      <td>Local</td>\n",
       "      <td>Libertad</td>\n",
       "      <td>Cantonizacion de Libertad</td>\n",
       "      <td>False</td>\n",
       "    </tr>\n",
       "    <tr>\n",
       "      <th>4</th>\n",
       "      <td>2012-04-21</td>\n",
       "      <td>Holiday</td>\n",
       "      <td>Local</td>\n",
       "      <td>Riobamba</td>\n",
       "      <td>Cantonizacion de Riobamba</td>\n",
       "      <td>False</td>\n",
       "    </tr>\n",
       "  </tbody>\n",
       "</table>\n",
       "</div>"
      ],
      "text/plain": [
       "        date     type    locale locale_name                    description  \\\n",
       "0 2012-03-02  Holiday     Local       Manta             Fundacion de Manta   \n",
       "1 2012-04-01  Holiday  Regional    Cotopaxi  Provincializacion de Cotopaxi   \n",
       "2 2012-04-12  Holiday     Local      Cuenca            Fundacion de Cuenca   \n",
       "3 2012-04-14  Holiday     Local    Libertad      Cantonizacion de Libertad   \n",
       "4 2012-04-21  Holiday     Local    Riobamba      Cantonizacion de Riobamba   \n",
       "\n",
       "   transferred  \n",
       "0        False  \n",
       "1        False  \n",
       "2        False  \n",
       "3        False  \n",
       "4        False  "
      ]
     },
     "execution_count": 141,
     "metadata": {},
     "output_type": "execute_result"
    }
   ],
   "source": [
    "#Querying SQL Database and reading the table into a dataframe\n",
    "query = \"SELECT * FROM holidays_events\"\n",
    "\n",
    "hdays_df = pd.read_sql(query, connection,parse_dates='date')\n",
    "\n",
    "hdays_df.head(5)"
   ]
  },
  {
   "cell_type": "code",
   "execution_count": 142,
   "metadata": {},
   "outputs": [
    {
     "name": "stderr",
     "output_type": "stream",
     "text": [
      "C:\\Users\\chrap\\AppData\\Local\\Temp\\ipykernel_8180\\289228698.py:4: UserWarning:\n",
      "\n",
      "pandas only supports SQLAlchemy connectable (engine/connection) or database string URI or sqlite3 DBAPI2 connection. Other DBAPI2 objects are not tested. Please consider using SQLAlchemy.\n",
      "\n"
     ]
    },
    {
     "data": {
      "text/html": [
       "<div>\n",
       "<style scoped>\n",
       "    .dataframe tbody tr th:only-of-type {\n",
       "        vertical-align: middle;\n",
       "    }\n",
       "\n",
       "    .dataframe tbody tr th {\n",
       "        vertical-align: top;\n",
       "    }\n",
       "\n",
       "    .dataframe thead th {\n",
       "        text-align: right;\n",
       "    }\n",
       "</style>\n",
       "<table border=\"1\" class=\"dataframe\">\n",
       "  <thead>\n",
       "    <tr style=\"text-align: right;\">\n",
       "      <th></th>\n",
       "      <th>store_nbr</th>\n",
       "      <th>city</th>\n",
       "      <th>state</th>\n",
       "      <th>type</th>\n",
       "      <th>cluster</th>\n",
       "    </tr>\n",
       "  </thead>\n",
       "  <tbody>\n",
       "    <tr>\n",
       "      <th>0</th>\n",
       "      <td>1</td>\n",
       "      <td>Quito</td>\n",
       "      <td>Pichincha</td>\n",
       "      <td>D</td>\n",
       "      <td>13</td>\n",
       "    </tr>\n",
       "    <tr>\n",
       "      <th>1</th>\n",
       "      <td>2</td>\n",
       "      <td>Quito</td>\n",
       "      <td>Pichincha</td>\n",
       "      <td>D</td>\n",
       "      <td>13</td>\n",
       "    </tr>\n",
       "    <tr>\n",
       "      <th>2</th>\n",
       "      <td>3</td>\n",
       "      <td>Quito</td>\n",
       "      <td>Pichincha</td>\n",
       "      <td>D</td>\n",
       "      <td>8</td>\n",
       "    </tr>\n",
       "    <tr>\n",
       "      <th>3</th>\n",
       "      <td>4</td>\n",
       "      <td>Quito</td>\n",
       "      <td>Pichincha</td>\n",
       "      <td>D</td>\n",
       "      <td>9</td>\n",
       "    </tr>\n",
       "    <tr>\n",
       "      <th>4</th>\n",
       "      <td>5</td>\n",
       "      <td>Santo Domingo</td>\n",
       "      <td>Santo Domingo de los Tsachilas</td>\n",
       "      <td>D</td>\n",
       "      <td>4</td>\n",
       "    </tr>\n",
       "    <tr>\n",
       "      <th>5</th>\n",
       "      <td>6</td>\n",
       "      <td>Quito</td>\n",
       "      <td>Pichincha</td>\n",
       "      <td>D</td>\n",
       "      <td>13</td>\n",
       "    </tr>\n",
       "    <tr>\n",
       "      <th>6</th>\n",
       "      <td>7</td>\n",
       "      <td>Quito</td>\n",
       "      <td>Pichincha</td>\n",
       "      <td>D</td>\n",
       "      <td>8</td>\n",
       "    </tr>\n",
       "    <tr>\n",
       "      <th>7</th>\n",
       "      <td>8</td>\n",
       "      <td>Quito</td>\n",
       "      <td>Pichincha</td>\n",
       "      <td>D</td>\n",
       "      <td>8</td>\n",
       "    </tr>\n",
       "    <tr>\n",
       "      <th>8</th>\n",
       "      <td>9</td>\n",
       "      <td>Quito</td>\n",
       "      <td>Pichincha</td>\n",
       "      <td>B</td>\n",
       "      <td>6</td>\n",
       "    </tr>\n",
       "    <tr>\n",
       "      <th>9</th>\n",
       "      <td>10</td>\n",
       "      <td>Quito</td>\n",
       "      <td>Pichincha</td>\n",
       "      <td>C</td>\n",
       "      <td>15</td>\n",
       "    </tr>\n",
       "  </tbody>\n",
       "</table>\n",
       "</div>"
      ],
      "text/plain": [
       "   store_nbr           city                           state type  cluster\n",
       "0          1          Quito                       Pichincha    D       13\n",
       "1          2          Quito                       Pichincha    D       13\n",
       "2          3          Quito                       Pichincha    D        8\n",
       "3          4          Quito                       Pichincha    D        9\n",
       "4          5  Santo Domingo  Santo Domingo de los Tsachilas    D        4\n",
       "5          6          Quito                       Pichincha    D       13\n",
       "6          7          Quito                       Pichincha    D        8\n",
       "7          8          Quito                       Pichincha    D        8\n",
       "8          9          Quito                       Pichincha    B        6\n",
       "9         10          Quito                       Pichincha    C       15"
      ]
     },
     "execution_count": 142,
     "metadata": {},
     "output_type": "execute_result"
    }
   ],
   "source": [
    "#Querying SQL Database and reading the table into a dataframe\n",
    "query = \"SELECT * FROM stores\"\n",
    "\n",
    "stores_df= pd.read_sql(query, connection)\n",
    "stores_df.head(10)"
   ]
  },
  {
   "cell_type": "code",
   "execution_count": null,
   "metadata": {},
   "outputs": [],
   "source": []
  },
  {
   "cell_type": "code",
   "execution_count": 156,
   "metadata": {},
   "outputs": [
    {
     "data": {
      "text/html": [
       "<div>\n",
       "<style scoped>\n",
       "    .dataframe tbody tr th:only-of-type {\n",
       "        vertical-align: middle;\n",
       "    }\n",
       "\n",
       "    .dataframe tbody tr th {\n",
       "        vertical-align: top;\n",
       "    }\n",
       "\n",
       "    .dataframe thead th {\n",
       "        text-align: right;\n",
       "    }\n",
       "</style>\n",
       "<table border=\"1\" class=\"dataframe\">\n",
       "  <thead>\n",
       "    <tr style=\"text-align: right;\">\n",
       "      <th></th>\n",
       "      <th>id</th>\n",
       "      <th>date</th>\n",
       "      <th>store_nbr</th>\n",
       "      <th>family</th>\n",
       "      <th>sales</th>\n",
       "      <th>onpromotion</th>\n",
       "    </tr>\n",
       "  </thead>\n",
       "  <tbody>\n",
       "    <tr>\n",
       "      <th>3000878</th>\n",
       "      <td>3000878</td>\n",
       "      <td>2017-08-15</td>\n",
       "      <td>9</td>\n",
       "      <td>MAGAZINES</td>\n",
       "      <td>11.000</td>\n",
       "      <td>0</td>\n",
       "    </tr>\n",
       "    <tr>\n",
       "      <th>3000879</th>\n",
       "      <td>3000879</td>\n",
       "      <td>2017-08-15</td>\n",
       "      <td>9</td>\n",
       "      <td>MEATS</td>\n",
       "      <td>449.228</td>\n",
       "      <td>0</td>\n",
       "    </tr>\n",
       "    <tr>\n",
       "      <th>3000880</th>\n",
       "      <td>3000880</td>\n",
       "      <td>2017-08-15</td>\n",
       "      <td>9</td>\n",
       "      <td>PERSONAL CARE</td>\n",
       "      <td>522.000</td>\n",
       "      <td>11</td>\n",
       "    </tr>\n",
       "    <tr>\n",
       "      <th>3000881</th>\n",
       "      <td>3000881</td>\n",
       "      <td>2017-08-15</td>\n",
       "      <td>9</td>\n",
       "      <td>PET SUPPLIES</td>\n",
       "      <td>6.000</td>\n",
       "      <td>0</td>\n",
       "    </tr>\n",
       "    <tr>\n",
       "      <th>3000882</th>\n",
       "      <td>3000882</td>\n",
       "      <td>2017-08-15</td>\n",
       "      <td>9</td>\n",
       "      <td>PLAYERS AND ELECTRONICS</td>\n",
       "      <td>6.000</td>\n",
       "      <td>0</td>\n",
       "    </tr>\n",
       "    <tr>\n",
       "      <th>3000883</th>\n",
       "      <td>3000883</td>\n",
       "      <td>2017-08-15</td>\n",
       "      <td>9</td>\n",
       "      <td>POULTRY</td>\n",
       "      <td>438.133</td>\n",
       "      <td>0</td>\n",
       "    </tr>\n",
       "    <tr>\n",
       "      <th>3000884</th>\n",
       "      <td>3000884</td>\n",
       "      <td>2017-08-15</td>\n",
       "      <td>9</td>\n",
       "      <td>PREPARED FOODS</td>\n",
       "      <td>154.553</td>\n",
       "      <td>1</td>\n",
       "    </tr>\n",
       "    <tr>\n",
       "      <th>3000885</th>\n",
       "      <td>3000885</td>\n",
       "      <td>2017-08-15</td>\n",
       "      <td>9</td>\n",
       "      <td>PRODUCE</td>\n",
       "      <td>2419.729</td>\n",
       "      <td>148</td>\n",
       "    </tr>\n",
       "    <tr>\n",
       "      <th>3000886</th>\n",
       "      <td>3000886</td>\n",
       "      <td>2017-08-15</td>\n",
       "      <td>9</td>\n",
       "      <td>SCHOOL AND OFFICE SUPPLIES</td>\n",
       "      <td>121.000</td>\n",
       "      <td>8</td>\n",
       "    </tr>\n",
       "    <tr>\n",
       "      <th>3000887</th>\n",
       "      <td>3000887</td>\n",
       "      <td>2017-08-15</td>\n",
       "      <td>9</td>\n",
       "      <td>SEAFOOD</td>\n",
       "      <td>16.000</td>\n",
       "      <td>0</td>\n",
       "    </tr>\n",
       "  </tbody>\n",
       "</table>\n",
       "</div>"
      ],
      "text/plain": [
       "              id       date  store_nbr                      family     sales  \\\n",
       "3000878  3000878 2017-08-15          9                   MAGAZINES    11.000   \n",
       "3000879  3000879 2017-08-15          9                       MEATS   449.228   \n",
       "3000880  3000880 2017-08-15          9               PERSONAL CARE   522.000   \n",
       "3000881  3000881 2017-08-15          9                PET SUPPLIES     6.000   \n",
       "3000882  3000882 2017-08-15          9     PLAYERS AND ELECTRONICS     6.000   \n",
       "3000883  3000883 2017-08-15          9                     POULTRY   438.133   \n",
       "3000884  3000884 2017-08-15          9              PREPARED FOODS   154.553   \n",
       "3000885  3000885 2017-08-15          9                     PRODUCE  2419.729   \n",
       "3000886  3000886 2017-08-15          9  SCHOOL AND OFFICE SUPPLIES   121.000   \n",
       "3000887  3000887 2017-08-15          9                     SEAFOOD    16.000   \n",
       "\n",
       "         onpromotion  \n",
       "3000878            0  \n",
       "3000879            0  \n",
       "3000880           11  \n",
       "3000881            0  \n",
       "3000882            0  \n",
       "3000883            0  \n",
       "3000884            1  \n",
       "3000885          148  \n",
       "3000886            8  \n",
       "3000887            0  "
      ]
     },
     "execution_count": 156,
     "metadata": {},
     "output_type": "execute_result"
    }
   ],
   "source": [
    "##Accessing the csv data \n",
    "sales_df = pd.read_csv(\"data\\\\store-sales-forecasting\\\\train.csv\",parse_dates = ['date'])\n",
    "sales_df.tail(10)"
   ]
  },
  {
   "cell_type": "code",
   "execution_count": 144,
   "metadata": {},
   "outputs": [
    {
     "data": {
      "text/html": [
       "<div>\n",
       "<style scoped>\n",
       "    .dataframe tbody tr th:only-of-type {\n",
       "        vertical-align: middle;\n",
       "    }\n",
       "\n",
       "    .dataframe tbody tr th {\n",
       "        vertical-align: top;\n",
       "    }\n",
       "\n",
       "    .dataframe thead th {\n",
       "        text-align: right;\n",
       "    }\n",
       "</style>\n",
       "<table border=\"1\" class=\"dataframe\">\n",
       "  <thead>\n",
       "    <tr style=\"text-align: right;\">\n",
       "      <th></th>\n",
       "      <th>store_nbr</th>\n",
       "      <th>transactions</th>\n",
       "    </tr>\n",
       "    <tr>\n",
       "      <th>date</th>\n",
       "      <th></th>\n",
       "      <th></th>\n",
       "    </tr>\n",
       "  </thead>\n",
       "  <tbody>\n",
       "    <tr>\n",
       "      <th>2013-01-01</th>\n",
       "      <td>25</td>\n",
       "      <td>770</td>\n",
       "    </tr>\n",
       "    <tr>\n",
       "      <th>2013-01-02</th>\n",
       "      <td>1</td>\n",
       "      <td>2111</td>\n",
       "    </tr>\n",
       "    <tr>\n",
       "      <th>2013-01-02</th>\n",
       "      <td>2</td>\n",
       "      <td>2358</td>\n",
       "    </tr>\n",
       "    <tr>\n",
       "      <th>2013-01-02</th>\n",
       "      <td>3</td>\n",
       "      <td>3487</td>\n",
       "    </tr>\n",
       "    <tr>\n",
       "      <th>2013-01-02</th>\n",
       "      <td>4</td>\n",
       "      <td>1922</td>\n",
       "    </tr>\n",
       "    <tr>\n",
       "      <th>2013-01-02</th>\n",
       "      <td>5</td>\n",
       "      <td>1903</td>\n",
       "    </tr>\n",
       "    <tr>\n",
       "      <th>2013-01-02</th>\n",
       "      <td>6</td>\n",
       "      <td>2143</td>\n",
       "    </tr>\n",
       "    <tr>\n",
       "      <th>2013-01-02</th>\n",
       "      <td>7</td>\n",
       "      <td>1874</td>\n",
       "    </tr>\n",
       "    <tr>\n",
       "      <th>2013-01-02</th>\n",
       "      <td>8</td>\n",
       "      <td>3250</td>\n",
       "    </tr>\n",
       "    <tr>\n",
       "      <th>2013-01-02</th>\n",
       "      <td>9</td>\n",
       "      <td>2940</td>\n",
       "    </tr>\n",
       "  </tbody>\n",
       "</table>\n",
       "</div>"
      ],
      "text/plain": [
       "            store_nbr  transactions\n",
       "date                               \n",
       "2013-01-01         25           770\n",
       "2013-01-02          1          2111\n",
       "2013-01-02          2          2358\n",
       "2013-01-02          3          3487\n",
       "2013-01-02          4          1922\n",
       "2013-01-02          5          1903\n",
       "2013-01-02          6          2143\n",
       "2013-01-02          7          1874\n",
       "2013-01-02          8          3250\n",
       "2013-01-02          9          2940"
      ]
     },
     "execution_count": 144,
     "metadata": {},
     "output_type": "execute_result"
    }
   ],
   "source": [
    "##Accessing the csv data \n",
    "transact_df = pd.read_csv(\"data\\\\store-sales-forecasting\\\\transactions.csv\",index_col='date',parse_dates = ['date'])\n",
    "transact_df.head(10)\n"
   ]
  },
  {
   "cell_type": "markdown",
   "metadata": {},
   "source": [
    "### EDA"
   ]
  },
  {
   "cell_type": "code",
   "execution_count": 157,
   "metadata": {},
   "outputs": [
    {
     "name": "stdout",
     "output_type": "stream",
     "text": [
      "2013-01-01 00:00:00 \n",
      "\n",
      " 2017-08-15 00:00:00\n",
      "DatetimeIndex(['2013-01-01', '2013-01-02', '2013-01-03', '2013-01-04',\n",
      "               '2013-01-05', '2013-01-06', '2013-01-07', '2013-01-08',\n",
      "               '2013-01-09', '2013-01-10',\n",
      "               ...\n",
      "               '2017-08-06', '2017-08-07', '2017-08-08', '2017-08-09',\n",
      "               '2017-08-10', '2017-08-11', '2017-08-12', '2017-08-13',\n",
      "               '2017-08-14', '2017-08-15'],\n",
      "              dtype='datetime64[ns]', length=1688, freq='D')\n"
     ]
    }
   ],
   "source": [
    "### finding missing days in the sales data\n",
    "sales_df.isnull().sum()\n",
    "\n",
    "start_day = sales_df.date.min()\n",
    "end_day = sales_df.date.max()\n",
    "\n",
    "print(f'{start_day} \\n\\n {end_day}')\n",
    "\n",
    "existing_date = pd.date_range(start=start_day,end = end_day,freq=\"D\")\n",
    "\n",
    "missing_dates = existing_date[~existing_date.isin(sales_df.index)]\n",
    "print(missing_dates)"
   ]
  },
  {
   "cell_type": "markdown",
   "metadata": {},
   "source": [
    "#Lets look for trends,seasonality and cyclic in each df\n"
   ]
  },
  {
   "cell_type": "code",
   "execution_count": 159,
   "metadata": {},
   "outputs": [
    {
     "name": "stdout",
     "output_type": "stream",
     "text": [
      "Day names for specific dates:\n",
      "2013-01-01 00:00:00: Tuesday\n",
      "2013-01-02 00:00:00: Wednesday\n",
      "2013-01-03 00:00:00: Thursday\n",
      "2013-01-04 00:00:00: Friday\n",
      "2013-01-05 00:00:00: Saturday\n",
      "2013-01-06 00:00:00: Sunday\n",
      "2013-01-07 00:00:00: Monday\n",
      "2013-01-08 00:00:00: Tuesday\n",
      "2013-01-09 00:00:00: Wednesday\n",
      "2013-01-10 00:00:00: Thursday\n",
      "2013-01-11 00:00:00: Friday\n",
      "2013-01-12 00:00:00: Saturday\n",
      "2013-01-13 00:00:00: Sunday\n",
      "2013-01-14 00:00:00: Monday\n",
      "2013-01-15 00:00:00: Tuesday\n",
      "2013-01-16 00:00:00: Wednesday\n",
      "2013-01-17 00:00:00: Thursday\n",
      "2013-01-18 00:00:00: Friday\n",
      "2013-01-19 00:00:00: Saturday\n",
      "2013-01-20 00:00:00: Sunday\n",
      "2013-01-21 00:00:00: Monday\n",
      "2013-01-22 00:00:00: Tuesday\n",
      "2013-01-23 00:00:00: Wednesday\n",
      "2013-01-24 00:00:00: Thursday\n",
      "2013-01-25 00:00:00: Friday\n",
      "2013-01-26 00:00:00: Saturday\n",
      "2013-01-27 00:00:00: Sunday\n",
      "2013-01-28 00:00:00: Monday\n",
      "2013-01-29 00:00:00: Tuesday\n",
      "2013-01-30 00:00:00: Wednesday\n",
      "2013-01-31 00:00:00: Thursday\n",
      "2013-02-01 00:00:00: Friday\n",
      "2013-02-02 00:00:00: Saturday\n",
      "2013-02-03 00:00:00: Sunday\n",
      "2013-02-04 00:00:00: Monday\n",
      "2013-02-05 00:00:00: Tuesday\n",
      "2013-02-06 00:00:00: Wednesday\n",
      "2013-02-07 00:00:00: Thursday\n",
      "2013-02-08 00:00:00: Friday\n",
      "2013-02-09 00:00:00: Saturday\n",
      "2013-02-10 00:00:00: Sunday\n",
      "2013-02-11 00:00:00: Monday\n",
      "2013-02-12 00:00:00: Tuesday\n",
      "2013-02-13 00:00:00: Wednesday\n",
      "2013-02-14 00:00:00: Thursday\n",
      "2013-02-15 00:00:00: Friday\n",
      "2013-02-16 00:00:00: Saturday\n",
      "2013-02-17 00:00:00: Sunday\n",
      "2013-02-18 00:00:00: Monday\n",
      "2013-02-19 00:00:00: Tuesday\n",
      "2013-02-20 00:00:00: Wednesday\n",
      "2013-02-21 00:00:00: Thursday\n",
      "2013-02-22 00:00:00: Friday\n",
      "2013-02-23 00:00:00: Saturday\n",
      "2013-02-24 00:00:00: Sunday\n",
      "2013-02-25 00:00:00: Monday\n",
      "2013-02-26 00:00:00: Tuesday\n",
      "2013-02-27 00:00:00: Wednesday\n",
      "2013-02-28 00:00:00: Thursday\n",
      "2013-03-01 00:00:00: Friday\n",
      "2013-03-02 00:00:00: Saturday\n",
      "2013-03-03 00:00:00: Sunday\n",
      "2013-03-04 00:00:00: Monday\n",
      "2013-03-05 00:00:00: Tuesday\n",
      "2013-03-06 00:00:00: Wednesday\n",
      "2013-03-07 00:00:00: Thursday\n",
      "2013-03-08 00:00:00: Friday\n",
      "2013-03-09 00:00:00: Saturday\n",
      "2013-03-10 00:00:00: Sunday\n",
      "2013-03-11 00:00:00: Monday\n",
      "2013-03-12 00:00:00: Tuesday\n",
      "2013-03-13 00:00:00: Wednesday\n",
      "2013-03-14 00:00:00: Thursday\n",
      "2013-03-15 00:00:00: Friday\n",
      "2013-03-16 00:00:00: Saturday\n",
      "2013-03-17 00:00:00: Sunday\n",
      "2013-03-18 00:00:00: Monday\n",
      "2013-03-19 00:00:00: Tuesday\n",
      "2013-03-20 00:00:00: Wednesday\n",
      "2013-03-21 00:00:00: Thursday\n",
      "2013-03-22 00:00:00: Friday\n",
      "2013-03-23 00:00:00: Saturday\n",
      "2013-03-24 00:00:00: Sunday\n",
      "2013-03-25 00:00:00: Monday\n",
      "2013-03-26 00:00:00: Tuesday\n",
      "2013-03-27 00:00:00: Wednesday\n",
      "2013-03-28 00:00:00: Thursday\n",
      "2013-03-29 00:00:00: Friday\n",
      "2013-03-30 00:00:00: Saturday\n",
      "2013-03-31 00:00:00: Sunday\n",
      "2013-04-01 00:00:00: Monday\n",
      "2013-04-02 00:00:00: Tuesday\n",
      "2013-04-03 00:00:00: Wednesday\n",
      "2013-04-04 00:00:00: Thursday\n",
      "2013-04-05 00:00:00: Friday\n",
      "2013-04-06 00:00:00: Saturday\n",
      "2013-04-07 00:00:00: Sunday\n",
      "2013-04-08 00:00:00: Monday\n",
      "2013-04-09 00:00:00: Tuesday\n",
      "2013-04-10 00:00:00: Wednesday\n",
      "2013-04-11 00:00:00: Thursday\n",
      "2013-04-12 00:00:00: Friday\n",
      "2013-04-13 00:00:00: Saturday\n",
      "2013-04-14 00:00:00: Sunday\n",
      "2013-04-15 00:00:00: Monday\n",
      "2013-04-16 00:00:00: Tuesday\n",
      "2013-04-17 00:00:00: Wednesday\n",
      "2013-04-18 00:00:00: Thursday\n",
      "2013-04-19 00:00:00: Friday\n",
      "2013-04-20 00:00:00: Saturday\n",
      "2013-04-21 00:00:00: Sunday\n",
      "2013-04-22 00:00:00: Monday\n",
      "2013-04-23 00:00:00: Tuesday\n",
      "2013-04-24 00:00:00: Wednesday\n",
      "2013-04-25 00:00:00: Thursday\n",
      "2013-04-26 00:00:00: Friday\n",
      "2013-04-27 00:00:00: Saturday\n",
      "2013-04-28 00:00:00: Sunday\n",
      "2013-04-29 00:00:00: Monday\n",
      "2013-04-30 00:00:00: Tuesday\n",
      "2013-05-01 00:00:00: Wednesday\n",
      "2013-05-02 00:00:00: Thursday\n",
      "2013-05-03 00:00:00: Friday\n",
      "2013-05-04 00:00:00: Saturday\n",
      "2013-05-05 00:00:00: Sunday\n",
      "2013-05-06 00:00:00: Monday\n",
      "2013-05-07 00:00:00: Tuesday\n",
      "2013-05-08 00:00:00: Wednesday\n",
      "2013-05-09 00:00:00: Thursday\n",
      "2013-05-10 00:00:00: Friday\n",
      "2013-05-11 00:00:00: Saturday\n",
      "2013-05-12 00:00:00: Sunday\n",
      "2013-05-13 00:00:00: Monday\n",
      "2013-05-14 00:00:00: Tuesday\n",
      "2013-05-15 00:00:00: Wednesday\n",
      "2013-05-16 00:00:00: Thursday\n",
      "2013-05-17 00:00:00: Friday\n",
      "2013-05-18 00:00:00: Saturday\n",
      "2013-05-19 00:00:00: Sunday\n",
      "2013-05-20 00:00:00: Monday\n",
      "2013-05-21 00:00:00: Tuesday\n",
      "2013-05-22 00:00:00: Wednesday\n",
      "2013-05-23 00:00:00: Thursday\n",
      "2013-05-24 00:00:00: Friday\n",
      "2013-05-25 00:00:00: Saturday\n",
      "2013-05-26 00:00:00: Sunday\n",
      "2013-05-27 00:00:00: Monday\n",
      "2013-05-28 00:00:00: Tuesday\n",
      "2013-05-29 00:00:00: Wednesday\n",
      "2013-05-30 00:00:00: Thursday\n",
      "2013-05-31 00:00:00: Friday\n",
      "2013-06-01 00:00:00: Saturday\n",
      "2013-06-02 00:00:00: Sunday\n",
      "2013-06-03 00:00:00: Monday\n",
      "2013-06-04 00:00:00: Tuesday\n",
      "2013-06-05 00:00:00: Wednesday\n",
      "2013-06-06 00:00:00: Thursday\n",
      "2013-06-07 00:00:00: Friday\n",
      "2013-06-08 00:00:00: Saturday\n",
      "2013-06-09 00:00:00: Sunday\n",
      "2013-06-10 00:00:00: Monday\n",
      "2013-06-11 00:00:00: Tuesday\n",
      "2013-06-12 00:00:00: Wednesday\n",
      "2013-06-13 00:00:00: Thursday\n",
      "2013-06-14 00:00:00: Friday\n",
      "2013-06-15 00:00:00: Saturday\n",
      "2013-06-16 00:00:00: Sunday\n",
      "2013-06-17 00:00:00: Monday\n",
      "2013-06-18 00:00:00: Tuesday\n",
      "2013-06-19 00:00:00: Wednesday\n",
      "2013-06-20 00:00:00: Thursday\n",
      "2013-06-21 00:00:00: Friday\n",
      "2013-06-22 00:00:00: Saturday\n",
      "2013-06-23 00:00:00: Sunday\n",
      "2013-06-24 00:00:00: Monday\n",
      "2013-06-25 00:00:00: Tuesday\n",
      "2013-06-26 00:00:00: Wednesday\n",
      "2013-06-27 00:00:00: Thursday\n",
      "2013-06-28 00:00:00: Friday\n",
      "2013-06-29 00:00:00: Saturday\n",
      "2013-06-30 00:00:00: Sunday\n",
      "2013-07-01 00:00:00: Monday\n",
      "2013-07-02 00:00:00: Tuesday\n",
      "2013-07-03 00:00:00: Wednesday\n",
      "2013-07-04 00:00:00: Thursday\n",
      "2013-07-05 00:00:00: Friday\n",
      "2013-07-06 00:00:00: Saturday\n",
      "2013-07-07 00:00:00: Sunday\n",
      "2013-07-08 00:00:00: Monday\n",
      "2013-07-09 00:00:00: Tuesday\n",
      "2013-07-10 00:00:00: Wednesday\n",
      "2013-07-11 00:00:00: Thursday\n",
      "2013-07-12 00:00:00: Friday\n",
      "2013-07-13 00:00:00: Saturday\n",
      "2013-07-14 00:00:00: Sunday\n",
      "2013-07-15 00:00:00: Monday\n",
      "2013-07-16 00:00:00: Tuesday\n",
      "2013-07-17 00:00:00: Wednesday\n",
      "2013-07-18 00:00:00: Thursday\n",
      "2013-07-19 00:00:00: Friday\n",
      "2013-07-20 00:00:00: Saturday\n",
      "2013-07-21 00:00:00: Sunday\n",
      "2013-07-22 00:00:00: Monday\n",
      "2013-07-23 00:00:00: Tuesday\n",
      "2013-07-24 00:00:00: Wednesday\n",
      "2013-07-25 00:00:00: Thursday\n",
      "2013-07-26 00:00:00: Friday\n",
      "2013-07-27 00:00:00: Saturday\n",
      "2013-07-28 00:00:00: Sunday\n",
      "2013-07-29 00:00:00: Monday\n",
      "2013-07-30 00:00:00: Tuesday\n",
      "2013-07-31 00:00:00: Wednesday\n",
      "2013-08-01 00:00:00: Thursday\n",
      "2013-08-02 00:00:00: Friday\n",
      "2013-08-03 00:00:00: Saturday\n",
      "2013-08-04 00:00:00: Sunday\n",
      "2013-08-05 00:00:00: Monday\n",
      "2013-08-06 00:00:00: Tuesday\n",
      "2013-08-07 00:00:00: Wednesday\n",
      "2013-08-08 00:00:00: Thursday\n",
      "2013-08-09 00:00:00: Friday\n",
      "2013-08-10 00:00:00: Saturday\n",
      "2013-08-11 00:00:00: Sunday\n",
      "2013-08-12 00:00:00: Monday\n",
      "2013-08-13 00:00:00: Tuesday\n",
      "2013-08-14 00:00:00: Wednesday\n",
      "2013-08-15 00:00:00: Thursday\n",
      "2013-08-16 00:00:00: Friday\n",
      "2013-08-17 00:00:00: Saturday\n",
      "2013-08-18 00:00:00: Sunday\n",
      "2013-08-19 00:00:00: Monday\n",
      "2013-08-20 00:00:00: Tuesday\n",
      "2013-08-21 00:00:00: Wednesday\n",
      "2013-08-22 00:00:00: Thursday\n",
      "2013-08-23 00:00:00: Friday\n",
      "2013-08-24 00:00:00: Saturday\n",
      "2013-08-25 00:00:00: Sunday\n",
      "2013-08-26 00:00:00: Monday\n",
      "2013-08-27 00:00:00: Tuesday\n",
      "2013-08-28 00:00:00: Wednesday\n",
      "2013-08-29 00:00:00: Thursday\n",
      "2013-08-30 00:00:00: Friday\n",
      "2013-08-31 00:00:00: Saturday\n",
      "2013-09-01 00:00:00: Sunday\n",
      "2013-09-02 00:00:00: Monday\n",
      "2013-09-03 00:00:00: Tuesday\n",
      "2013-09-04 00:00:00: Wednesday\n",
      "2013-09-05 00:00:00: Thursday\n",
      "2013-09-06 00:00:00: Friday\n",
      "2013-09-07 00:00:00: Saturday\n",
      "2013-09-08 00:00:00: Sunday\n",
      "2013-09-09 00:00:00: Monday\n",
      "2013-09-10 00:00:00: Tuesday\n",
      "2013-09-11 00:00:00: Wednesday\n",
      "2013-09-12 00:00:00: Thursday\n",
      "2013-09-13 00:00:00: Friday\n",
      "2013-09-14 00:00:00: Saturday\n",
      "2013-09-15 00:00:00: Sunday\n",
      "2013-09-16 00:00:00: Monday\n",
      "2013-09-17 00:00:00: Tuesday\n",
      "2013-09-18 00:00:00: Wednesday\n",
      "2013-09-19 00:00:00: Thursday\n",
      "2013-09-20 00:00:00: Friday\n",
      "2013-09-21 00:00:00: Saturday\n",
      "2013-09-22 00:00:00: Sunday\n",
      "2013-09-23 00:00:00: Monday\n",
      "2013-09-24 00:00:00: Tuesday\n",
      "2013-09-25 00:00:00: Wednesday\n",
      "2013-09-26 00:00:00: Thursday\n",
      "2013-09-27 00:00:00: Friday\n",
      "2013-09-28 00:00:00: Saturday\n",
      "2013-09-29 00:00:00: Sunday\n",
      "2013-09-30 00:00:00: Monday\n",
      "2013-10-01 00:00:00: Tuesday\n",
      "2013-10-02 00:00:00: Wednesday\n",
      "2013-10-03 00:00:00: Thursday\n",
      "2013-10-04 00:00:00: Friday\n",
      "2013-10-05 00:00:00: Saturday\n",
      "2013-10-06 00:00:00: Sunday\n",
      "2013-10-07 00:00:00: Monday\n",
      "2013-10-08 00:00:00: Tuesday\n",
      "2013-10-09 00:00:00: Wednesday\n",
      "2013-10-10 00:00:00: Thursday\n",
      "2013-10-11 00:00:00: Friday\n",
      "2013-10-12 00:00:00: Saturday\n",
      "2013-10-13 00:00:00: Sunday\n",
      "2013-10-14 00:00:00: Monday\n",
      "2013-10-15 00:00:00: Tuesday\n",
      "2013-10-16 00:00:00: Wednesday\n",
      "2013-10-17 00:00:00: Thursday\n",
      "2013-10-18 00:00:00: Friday\n",
      "2013-10-19 00:00:00: Saturday\n",
      "2013-10-20 00:00:00: Sunday\n",
      "2013-10-21 00:00:00: Monday\n",
      "2013-10-22 00:00:00: Tuesday\n",
      "2013-10-23 00:00:00: Wednesday\n",
      "2013-10-24 00:00:00: Thursday\n",
      "2013-10-25 00:00:00: Friday\n",
      "2013-10-26 00:00:00: Saturday\n",
      "2013-10-27 00:00:00: Sunday\n",
      "2013-10-28 00:00:00: Monday\n",
      "2013-10-29 00:00:00: Tuesday\n",
      "2013-10-30 00:00:00: Wednesday\n",
      "2013-10-31 00:00:00: Thursday\n",
      "2013-11-01 00:00:00: Friday\n",
      "2013-11-02 00:00:00: Saturday\n",
      "2013-11-03 00:00:00: Sunday\n",
      "2013-11-04 00:00:00: Monday\n",
      "2013-11-05 00:00:00: Tuesday\n",
      "2013-11-06 00:00:00: Wednesday\n",
      "2013-11-07 00:00:00: Thursday\n",
      "2013-11-08 00:00:00: Friday\n",
      "2013-11-09 00:00:00: Saturday\n",
      "2013-11-10 00:00:00: Sunday\n",
      "2013-11-11 00:00:00: Monday\n",
      "2013-11-12 00:00:00: Tuesday\n",
      "2013-11-13 00:00:00: Wednesday\n",
      "2013-11-14 00:00:00: Thursday\n",
      "2013-11-15 00:00:00: Friday\n",
      "2013-11-16 00:00:00: Saturday\n",
      "2013-11-17 00:00:00: Sunday\n",
      "2013-11-18 00:00:00: Monday\n",
      "2013-11-19 00:00:00: Tuesday\n",
      "2013-11-20 00:00:00: Wednesday\n",
      "2013-11-21 00:00:00: Thursday\n",
      "2013-11-22 00:00:00: Friday\n",
      "2013-11-23 00:00:00: Saturday\n",
      "2013-11-24 00:00:00: Sunday\n",
      "2013-11-25 00:00:00: Monday\n",
      "2013-11-26 00:00:00: Tuesday\n",
      "2013-11-27 00:00:00: Wednesday\n",
      "2013-11-28 00:00:00: Thursday\n",
      "2013-11-29 00:00:00: Friday\n",
      "2013-11-30 00:00:00: Saturday\n",
      "2013-12-01 00:00:00: Sunday\n",
      "2013-12-02 00:00:00: Monday\n",
      "2013-12-03 00:00:00: Tuesday\n",
      "2013-12-04 00:00:00: Wednesday\n",
      "2013-12-05 00:00:00: Thursday\n",
      "2013-12-06 00:00:00: Friday\n",
      "2013-12-07 00:00:00: Saturday\n",
      "2013-12-08 00:00:00: Sunday\n",
      "2013-12-09 00:00:00: Monday\n",
      "2013-12-10 00:00:00: Tuesday\n",
      "2013-12-11 00:00:00: Wednesday\n",
      "2013-12-12 00:00:00: Thursday\n",
      "2013-12-13 00:00:00: Friday\n",
      "2013-12-14 00:00:00: Saturday\n",
      "2013-12-15 00:00:00: Sunday\n",
      "2013-12-16 00:00:00: Monday\n",
      "2013-12-17 00:00:00: Tuesday\n",
      "2013-12-18 00:00:00: Wednesday\n",
      "2013-12-19 00:00:00: Thursday\n",
      "2013-12-20 00:00:00: Friday\n",
      "2013-12-21 00:00:00: Saturday\n",
      "2013-12-22 00:00:00: Sunday\n",
      "2013-12-23 00:00:00: Monday\n",
      "2013-12-24 00:00:00: Tuesday\n",
      "2013-12-25 00:00:00: Wednesday\n",
      "2013-12-26 00:00:00: Thursday\n",
      "2013-12-27 00:00:00: Friday\n",
      "2013-12-28 00:00:00: Saturday\n",
      "2013-12-29 00:00:00: Sunday\n",
      "2013-12-30 00:00:00: Monday\n",
      "2013-12-31 00:00:00: Tuesday\n",
      "2014-01-01 00:00:00: Wednesday\n",
      "2014-01-02 00:00:00: Thursday\n",
      "2014-01-03 00:00:00: Friday\n",
      "2014-01-04 00:00:00: Saturday\n",
      "2014-01-05 00:00:00: Sunday\n",
      "2014-01-06 00:00:00: Monday\n",
      "2014-01-07 00:00:00: Tuesday\n",
      "2014-01-08 00:00:00: Wednesday\n",
      "2014-01-09 00:00:00: Thursday\n",
      "2014-01-10 00:00:00: Friday\n",
      "2014-01-11 00:00:00: Saturday\n",
      "2014-01-12 00:00:00: Sunday\n",
      "2014-01-13 00:00:00: Monday\n",
      "2014-01-14 00:00:00: Tuesday\n",
      "2014-01-15 00:00:00: Wednesday\n",
      "2014-01-16 00:00:00: Thursday\n",
      "2014-01-17 00:00:00: Friday\n",
      "2014-01-18 00:00:00: Saturday\n",
      "2014-01-19 00:00:00: Sunday\n",
      "2014-01-20 00:00:00: Monday\n",
      "2014-01-21 00:00:00: Tuesday\n",
      "2014-01-22 00:00:00: Wednesday\n",
      "2014-01-23 00:00:00: Thursday\n",
      "2014-01-24 00:00:00: Friday\n",
      "2014-01-25 00:00:00: Saturday\n",
      "2014-01-26 00:00:00: Sunday\n",
      "2014-01-27 00:00:00: Monday\n",
      "2014-01-28 00:00:00: Tuesday\n",
      "2014-01-29 00:00:00: Wednesday\n",
      "2014-01-30 00:00:00: Thursday\n",
      "2014-01-31 00:00:00: Friday\n",
      "2014-02-01 00:00:00: Saturday\n",
      "2014-02-02 00:00:00: Sunday\n",
      "2014-02-03 00:00:00: Monday\n",
      "2014-02-04 00:00:00: Tuesday\n",
      "2014-02-05 00:00:00: Wednesday\n",
      "2014-02-06 00:00:00: Thursday\n",
      "2014-02-07 00:00:00: Friday\n",
      "2014-02-08 00:00:00: Saturday\n",
      "2014-02-09 00:00:00: Sunday\n",
      "2014-02-10 00:00:00: Monday\n",
      "2014-02-11 00:00:00: Tuesday\n",
      "2014-02-12 00:00:00: Wednesday\n",
      "2014-02-13 00:00:00: Thursday\n",
      "2014-02-14 00:00:00: Friday\n",
      "2014-02-15 00:00:00: Saturday\n",
      "2014-02-16 00:00:00: Sunday\n",
      "2014-02-17 00:00:00: Monday\n",
      "2014-02-18 00:00:00: Tuesday\n",
      "2014-02-19 00:00:00: Wednesday\n",
      "2014-02-20 00:00:00: Thursday\n",
      "2014-02-21 00:00:00: Friday\n",
      "2014-02-22 00:00:00: Saturday\n",
      "2014-02-23 00:00:00: Sunday\n",
      "2014-02-24 00:00:00: Monday\n",
      "2014-02-25 00:00:00: Tuesday\n",
      "2014-02-26 00:00:00: Wednesday\n",
      "2014-02-27 00:00:00: Thursday\n",
      "2014-02-28 00:00:00: Friday\n",
      "2014-03-01 00:00:00: Saturday\n",
      "2014-03-02 00:00:00: Sunday\n",
      "2014-03-03 00:00:00: Monday\n",
      "2014-03-04 00:00:00: Tuesday\n",
      "2014-03-05 00:00:00: Wednesday\n",
      "2014-03-06 00:00:00: Thursday\n",
      "2014-03-07 00:00:00: Friday\n",
      "2014-03-08 00:00:00: Saturday\n",
      "2014-03-09 00:00:00: Sunday\n",
      "2014-03-10 00:00:00: Monday\n",
      "2014-03-11 00:00:00: Tuesday\n",
      "2014-03-12 00:00:00: Wednesday\n",
      "2014-03-13 00:00:00: Thursday\n",
      "2014-03-14 00:00:00: Friday\n",
      "2014-03-15 00:00:00: Saturday\n",
      "2014-03-16 00:00:00: Sunday\n",
      "2014-03-17 00:00:00: Monday\n",
      "2014-03-18 00:00:00: Tuesday\n",
      "2014-03-19 00:00:00: Wednesday\n",
      "2014-03-20 00:00:00: Thursday\n",
      "2014-03-21 00:00:00: Friday\n",
      "2014-03-22 00:00:00: Saturday\n",
      "2014-03-23 00:00:00: Sunday\n",
      "2014-03-24 00:00:00: Monday\n",
      "2014-03-25 00:00:00: Tuesday\n",
      "2014-03-26 00:00:00: Wednesday\n",
      "2014-03-27 00:00:00: Thursday\n",
      "2014-03-28 00:00:00: Friday\n",
      "2014-03-29 00:00:00: Saturday\n",
      "2014-03-30 00:00:00: Sunday\n",
      "2014-03-31 00:00:00: Monday\n",
      "2014-04-01 00:00:00: Tuesday\n",
      "2014-04-02 00:00:00: Wednesday\n",
      "2014-04-03 00:00:00: Thursday\n",
      "2014-04-04 00:00:00: Friday\n",
      "2014-04-05 00:00:00: Saturday\n",
      "2014-04-06 00:00:00: Sunday\n",
      "2014-04-07 00:00:00: Monday\n",
      "2014-04-08 00:00:00: Tuesday\n",
      "2014-04-09 00:00:00: Wednesday\n",
      "2014-04-10 00:00:00: Thursday\n",
      "2014-04-11 00:00:00: Friday\n",
      "2014-04-12 00:00:00: Saturday\n",
      "2014-04-13 00:00:00: Sunday\n",
      "2014-04-14 00:00:00: Monday\n",
      "2014-04-15 00:00:00: Tuesday\n",
      "2014-04-16 00:00:00: Wednesday\n",
      "2014-04-17 00:00:00: Thursday\n",
      "2014-04-18 00:00:00: Friday\n",
      "2014-04-19 00:00:00: Saturday\n",
      "2014-04-20 00:00:00: Sunday\n",
      "2014-04-21 00:00:00: Monday\n",
      "2014-04-22 00:00:00: Tuesday\n",
      "2014-04-23 00:00:00: Wednesday\n",
      "2014-04-24 00:00:00: Thursday\n",
      "2014-04-25 00:00:00: Friday\n",
      "2014-04-26 00:00:00: Saturday\n",
      "2014-04-27 00:00:00: Sunday\n",
      "2014-04-28 00:00:00: Monday\n",
      "2014-04-29 00:00:00: Tuesday\n",
      "2014-04-30 00:00:00: Wednesday\n",
      "2014-05-01 00:00:00: Thursday\n",
      "2014-05-02 00:00:00: Friday\n",
      "2014-05-03 00:00:00: Saturday\n",
      "2014-05-04 00:00:00: Sunday\n",
      "2014-05-05 00:00:00: Monday\n",
      "2014-05-06 00:00:00: Tuesday\n",
      "2014-05-07 00:00:00: Wednesday\n",
      "2014-05-08 00:00:00: Thursday\n",
      "2014-05-09 00:00:00: Friday\n",
      "2014-05-10 00:00:00: Saturday\n",
      "2014-05-11 00:00:00: Sunday\n",
      "2014-05-12 00:00:00: Monday\n",
      "2014-05-13 00:00:00: Tuesday\n",
      "2014-05-14 00:00:00: Wednesday\n",
      "2014-05-15 00:00:00: Thursday\n",
      "2014-05-16 00:00:00: Friday\n",
      "2014-05-17 00:00:00: Saturday\n",
      "2014-05-18 00:00:00: Sunday\n",
      "2014-05-19 00:00:00: Monday\n",
      "2014-05-20 00:00:00: Tuesday\n",
      "2014-05-21 00:00:00: Wednesday\n",
      "2014-05-22 00:00:00: Thursday\n",
      "2014-05-23 00:00:00: Friday\n",
      "2014-05-24 00:00:00: Saturday\n",
      "2014-05-25 00:00:00: Sunday\n",
      "2014-05-26 00:00:00: Monday\n",
      "2014-05-27 00:00:00: Tuesday\n",
      "2014-05-28 00:00:00: Wednesday\n",
      "2014-05-29 00:00:00: Thursday\n",
      "2014-05-30 00:00:00: Friday\n",
      "2014-05-31 00:00:00: Saturday\n",
      "2014-06-01 00:00:00: Sunday\n",
      "2014-06-02 00:00:00: Monday\n",
      "2014-06-03 00:00:00: Tuesday\n",
      "2014-06-04 00:00:00: Wednesday\n",
      "2014-06-05 00:00:00: Thursday\n",
      "2014-06-06 00:00:00: Friday\n",
      "2014-06-07 00:00:00: Saturday\n",
      "2014-06-08 00:00:00: Sunday\n",
      "2014-06-09 00:00:00: Monday\n",
      "2014-06-10 00:00:00: Tuesday\n",
      "2014-06-11 00:00:00: Wednesday\n",
      "2014-06-12 00:00:00: Thursday\n",
      "2014-06-13 00:00:00: Friday\n",
      "2014-06-14 00:00:00: Saturday\n",
      "2014-06-15 00:00:00: Sunday\n",
      "2014-06-16 00:00:00: Monday\n",
      "2014-06-17 00:00:00: Tuesday\n",
      "2014-06-18 00:00:00: Wednesday\n",
      "2014-06-19 00:00:00: Thursday\n",
      "2014-06-20 00:00:00: Friday\n",
      "2014-06-21 00:00:00: Saturday\n",
      "2014-06-22 00:00:00: Sunday\n",
      "2014-06-23 00:00:00: Monday\n",
      "2014-06-24 00:00:00: Tuesday\n",
      "2014-06-25 00:00:00: Wednesday\n",
      "2014-06-26 00:00:00: Thursday\n",
      "2014-06-27 00:00:00: Friday\n",
      "2014-06-28 00:00:00: Saturday\n",
      "2014-06-29 00:00:00: Sunday\n",
      "2014-06-30 00:00:00: Monday\n",
      "2014-07-01 00:00:00: Tuesday\n",
      "2014-07-02 00:00:00: Wednesday\n",
      "2014-07-03 00:00:00: Thursday\n",
      "2014-07-04 00:00:00: Friday\n",
      "2014-07-05 00:00:00: Saturday\n",
      "2014-07-06 00:00:00: Sunday\n",
      "2014-07-07 00:00:00: Monday\n",
      "2014-07-08 00:00:00: Tuesday\n",
      "2014-07-09 00:00:00: Wednesday\n",
      "2014-07-10 00:00:00: Thursday\n",
      "2014-07-11 00:00:00: Friday\n",
      "2014-07-12 00:00:00: Saturday\n",
      "2014-07-13 00:00:00: Sunday\n",
      "2014-07-14 00:00:00: Monday\n",
      "2014-07-15 00:00:00: Tuesday\n",
      "2014-07-16 00:00:00: Wednesday\n",
      "2014-07-17 00:00:00: Thursday\n",
      "2014-07-18 00:00:00: Friday\n",
      "2014-07-19 00:00:00: Saturday\n",
      "2014-07-20 00:00:00: Sunday\n",
      "2014-07-21 00:00:00: Monday\n",
      "2014-07-22 00:00:00: Tuesday\n",
      "2014-07-23 00:00:00: Wednesday\n",
      "2014-07-24 00:00:00: Thursday\n",
      "2014-07-25 00:00:00: Friday\n",
      "2014-07-26 00:00:00: Saturday\n",
      "2014-07-27 00:00:00: Sunday\n",
      "2014-07-28 00:00:00: Monday\n",
      "2014-07-29 00:00:00: Tuesday\n",
      "2014-07-30 00:00:00: Wednesday\n",
      "2014-07-31 00:00:00: Thursday\n",
      "2014-08-01 00:00:00: Friday\n",
      "2014-08-02 00:00:00: Saturday\n",
      "2014-08-03 00:00:00: Sunday\n",
      "2014-08-04 00:00:00: Monday\n",
      "2014-08-05 00:00:00: Tuesday\n",
      "2014-08-06 00:00:00: Wednesday\n",
      "2014-08-07 00:00:00: Thursday\n",
      "2014-08-08 00:00:00: Friday\n",
      "2014-08-09 00:00:00: Saturday\n",
      "2014-08-10 00:00:00: Sunday\n",
      "2014-08-11 00:00:00: Monday\n",
      "2014-08-12 00:00:00: Tuesday\n",
      "2014-08-13 00:00:00: Wednesday\n",
      "2014-08-14 00:00:00: Thursday\n",
      "2014-08-15 00:00:00: Friday\n",
      "2014-08-16 00:00:00: Saturday\n",
      "2014-08-17 00:00:00: Sunday\n",
      "2014-08-18 00:00:00: Monday\n",
      "2014-08-19 00:00:00: Tuesday\n",
      "2014-08-20 00:00:00: Wednesday\n",
      "2014-08-21 00:00:00: Thursday\n",
      "2014-08-22 00:00:00: Friday\n",
      "2014-08-23 00:00:00: Saturday\n",
      "2014-08-24 00:00:00: Sunday\n",
      "2014-08-25 00:00:00: Monday\n",
      "2014-08-26 00:00:00: Tuesday\n",
      "2014-08-27 00:00:00: Wednesday\n",
      "2014-08-28 00:00:00: Thursday\n",
      "2014-08-29 00:00:00: Friday\n",
      "2014-08-30 00:00:00: Saturday\n",
      "2014-08-31 00:00:00: Sunday\n",
      "2014-09-01 00:00:00: Monday\n",
      "2014-09-02 00:00:00: Tuesday\n",
      "2014-09-03 00:00:00: Wednesday\n",
      "2014-09-04 00:00:00: Thursday\n",
      "2014-09-05 00:00:00: Friday\n",
      "2014-09-06 00:00:00: Saturday\n",
      "2014-09-07 00:00:00: Sunday\n",
      "2014-09-08 00:00:00: Monday\n",
      "2014-09-09 00:00:00: Tuesday\n",
      "2014-09-10 00:00:00: Wednesday\n",
      "2014-09-11 00:00:00: Thursday\n",
      "2014-09-12 00:00:00: Friday\n",
      "2014-09-13 00:00:00: Saturday\n",
      "2014-09-14 00:00:00: Sunday\n",
      "2014-09-15 00:00:00: Monday\n",
      "2014-09-16 00:00:00: Tuesday\n",
      "2014-09-17 00:00:00: Wednesday\n",
      "2014-09-18 00:00:00: Thursday\n",
      "2014-09-19 00:00:00: Friday\n",
      "2014-09-20 00:00:00: Saturday\n",
      "2014-09-21 00:00:00: Sunday\n",
      "2014-09-22 00:00:00: Monday\n",
      "2014-09-23 00:00:00: Tuesday\n",
      "2014-09-24 00:00:00: Wednesday\n",
      "2014-09-25 00:00:00: Thursday\n",
      "2014-09-26 00:00:00: Friday\n",
      "2014-09-27 00:00:00: Saturday\n",
      "2014-09-28 00:00:00: Sunday\n",
      "2014-09-29 00:00:00: Monday\n",
      "2014-09-30 00:00:00: Tuesday\n",
      "2014-10-01 00:00:00: Wednesday\n",
      "2014-10-02 00:00:00: Thursday\n",
      "2014-10-03 00:00:00: Friday\n",
      "2014-10-04 00:00:00: Saturday\n",
      "2014-10-05 00:00:00: Sunday\n",
      "2014-10-06 00:00:00: Monday\n",
      "2014-10-07 00:00:00: Tuesday\n",
      "2014-10-08 00:00:00: Wednesday\n",
      "2014-10-09 00:00:00: Thursday\n",
      "2014-10-10 00:00:00: Friday\n",
      "2014-10-11 00:00:00: Saturday\n",
      "2014-10-12 00:00:00: Sunday\n",
      "2014-10-13 00:00:00: Monday\n",
      "2014-10-14 00:00:00: Tuesday\n",
      "2014-10-15 00:00:00: Wednesday\n",
      "2014-10-16 00:00:00: Thursday\n",
      "2014-10-17 00:00:00: Friday\n",
      "2014-10-18 00:00:00: Saturday\n",
      "2014-10-19 00:00:00: Sunday\n",
      "2014-10-20 00:00:00: Monday\n",
      "2014-10-21 00:00:00: Tuesday\n",
      "2014-10-22 00:00:00: Wednesday\n",
      "2014-10-23 00:00:00: Thursday\n",
      "2014-10-24 00:00:00: Friday\n",
      "2014-10-25 00:00:00: Saturday\n",
      "2014-10-26 00:00:00: Sunday\n",
      "2014-10-27 00:00:00: Monday\n",
      "2014-10-28 00:00:00: Tuesday\n",
      "2014-10-29 00:00:00: Wednesday\n",
      "2014-10-30 00:00:00: Thursday\n",
      "2014-10-31 00:00:00: Friday\n",
      "2014-11-01 00:00:00: Saturday\n",
      "2014-11-02 00:00:00: Sunday\n",
      "2014-11-03 00:00:00: Monday\n",
      "2014-11-04 00:00:00: Tuesday\n",
      "2014-11-05 00:00:00: Wednesday\n",
      "2014-11-06 00:00:00: Thursday\n",
      "2014-11-07 00:00:00: Friday\n",
      "2014-11-08 00:00:00: Saturday\n",
      "2014-11-09 00:00:00: Sunday\n",
      "2014-11-10 00:00:00: Monday\n",
      "2014-11-11 00:00:00: Tuesday\n",
      "2014-11-12 00:00:00: Wednesday\n",
      "2014-11-13 00:00:00: Thursday\n",
      "2014-11-14 00:00:00: Friday\n",
      "2014-11-15 00:00:00: Saturday\n",
      "2014-11-16 00:00:00: Sunday\n",
      "2014-11-17 00:00:00: Monday\n",
      "2014-11-18 00:00:00: Tuesday\n",
      "2014-11-19 00:00:00: Wednesday\n",
      "2014-11-20 00:00:00: Thursday\n",
      "2014-11-21 00:00:00: Friday\n",
      "2014-11-22 00:00:00: Saturday\n",
      "2014-11-23 00:00:00: Sunday\n",
      "2014-11-24 00:00:00: Monday\n",
      "2014-11-25 00:00:00: Tuesday\n",
      "2014-11-26 00:00:00: Wednesday\n",
      "2014-11-27 00:00:00: Thursday\n",
      "2014-11-28 00:00:00: Friday\n",
      "2014-11-29 00:00:00: Saturday\n",
      "2014-11-30 00:00:00: Sunday\n",
      "2014-12-01 00:00:00: Monday\n",
      "2014-12-02 00:00:00: Tuesday\n",
      "2014-12-03 00:00:00: Wednesday\n",
      "2014-12-04 00:00:00: Thursday\n",
      "2014-12-05 00:00:00: Friday\n",
      "2014-12-06 00:00:00: Saturday\n",
      "2014-12-07 00:00:00: Sunday\n",
      "2014-12-08 00:00:00: Monday\n",
      "2014-12-09 00:00:00: Tuesday\n",
      "2014-12-10 00:00:00: Wednesday\n",
      "2014-12-11 00:00:00: Thursday\n",
      "2014-12-12 00:00:00: Friday\n",
      "2014-12-13 00:00:00: Saturday\n",
      "2014-12-14 00:00:00: Sunday\n",
      "2014-12-15 00:00:00: Monday\n",
      "2014-12-16 00:00:00: Tuesday\n",
      "2014-12-17 00:00:00: Wednesday\n",
      "2014-12-18 00:00:00: Thursday\n",
      "2014-12-19 00:00:00: Friday\n",
      "2014-12-20 00:00:00: Saturday\n",
      "2014-12-21 00:00:00: Sunday\n",
      "2014-12-22 00:00:00: Monday\n",
      "2014-12-23 00:00:00: Tuesday\n",
      "2014-12-24 00:00:00: Wednesday\n",
      "2014-12-25 00:00:00: Thursday\n",
      "2014-12-26 00:00:00: Friday\n",
      "2014-12-27 00:00:00: Saturday\n",
      "2014-12-28 00:00:00: Sunday\n",
      "2014-12-29 00:00:00: Monday\n",
      "2014-12-30 00:00:00: Tuesday\n",
      "2014-12-31 00:00:00: Wednesday\n",
      "2015-01-01 00:00:00: Thursday\n",
      "2015-01-02 00:00:00: Friday\n",
      "2015-01-03 00:00:00: Saturday\n",
      "2015-01-04 00:00:00: Sunday\n",
      "2015-01-05 00:00:00: Monday\n",
      "2015-01-06 00:00:00: Tuesday\n",
      "2015-01-07 00:00:00: Wednesday\n",
      "2015-01-08 00:00:00: Thursday\n",
      "2015-01-09 00:00:00: Friday\n",
      "2015-01-10 00:00:00: Saturday\n",
      "2015-01-11 00:00:00: Sunday\n",
      "2015-01-12 00:00:00: Monday\n",
      "2015-01-13 00:00:00: Tuesday\n",
      "2015-01-14 00:00:00: Wednesday\n",
      "2015-01-15 00:00:00: Thursday\n",
      "2015-01-16 00:00:00: Friday\n",
      "2015-01-17 00:00:00: Saturday\n",
      "2015-01-18 00:00:00: Sunday\n",
      "2015-01-19 00:00:00: Monday\n",
      "2015-01-20 00:00:00: Tuesday\n",
      "2015-01-21 00:00:00: Wednesday\n",
      "2015-01-22 00:00:00: Thursday\n",
      "2015-01-23 00:00:00: Friday\n",
      "2015-01-24 00:00:00: Saturday\n",
      "2015-01-25 00:00:00: Sunday\n",
      "2015-01-26 00:00:00: Monday\n",
      "2015-01-27 00:00:00: Tuesday\n",
      "2015-01-28 00:00:00: Wednesday\n",
      "2015-01-29 00:00:00: Thursday\n",
      "2015-01-30 00:00:00: Friday\n",
      "2015-01-31 00:00:00: Saturday\n",
      "2015-02-01 00:00:00: Sunday\n",
      "2015-02-02 00:00:00: Monday\n",
      "2015-02-03 00:00:00: Tuesday\n",
      "2015-02-04 00:00:00: Wednesday\n",
      "2015-02-05 00:00:00: Thursday\n",
      "2015-02-06 00:00:00: Friday\n",
      "2015-02-07 00:00:00: Saturday\n",
      "2015-02-08 00:00:00: Sunday\n",
      "2015-02-09 00:00:00: Monday\n",
      "2015-02-10 00:00:00: Tuesday\n",
      "2015-02-11 00:00:00: Wednesday\n",
      "2015-02-12 00:00:00: Thursday\n",
      "2015-02-13 00:00:00: Friday\n",
      "2015-02-14 00:00:00: Saturday\n",
      "2015-02-15 00:00:00: Sunday\n",
      "2015-02-16 00:00:00: Monday\n",
      "2015-02-17 00:00:00: Tuesday\n",
      "2015-02-18 00:00:00: Wednesday\n",
      "2015-02-19 00:00:00: Thursday\n",
      "2015-02-20 00:00:00: Friday\n",
      "2015-02-21 00:00:00: Saturday\n",
      "2015-02-22 00:00:00: Sunday\n",
      "2015-02-23 00:00:00: Monday\n",
      "2015-02-24 00:00:00: Tuesday\n",
      "2015-02-25 00:00:00: Wednesday\n",
      "2015-02-26 00:00:00: Thursday\n",
      "2015-02-27 00:00:00: Friday\n",
      "2015-02-28 00:00:00: Saturday\n",
      "2015-03-01 00:00:00: Sunday\n",
      "2015-03-02 00:00:00: Monday\n",
      "2015-03-03 00:00:00: Tuesday\n",
      "2015-03-04 00:00:00: Wednesday\n",
      "2015-03-05 00:00:00: Thursday\n",
      "2015-03-06 00:00:00: Friday\n",
      "2015-03-07 00:00:00: Saturday\n",
      "2015-03-08 00:00:00: Sunday\n",
      "2015-03-09 00:00:00: Monday\n",
      "2015-03-10 00:00:00: Tuesday\n",
      "2015-03-11 00:00:00: Wednesday\n",
      "2015-03-12 00:00:00: Thursday\n",
      "2015-03-13 00:00:00: Friday\n",
      "2015-03-14 00:00:00: Saturday\n",
      "2015-03-15 00:00:00: Sunday\n",
      "2015-03-16 00:00:00: Monday\n",
      "2015-03-17 00:00:00: Tuesday\n",
      "2015-03-18 00:00:00: Wednesday\n",
      "2015-03-19 00:00:00: Thursday\n",
      "2015-03-20 00:00:00: Friday\n",
      "2015-03-21 00:00:00: Saturday\n",
      "2015-03-22 00:00:00: Sunday\n",
      "2015-03-23 00:00:00: Monday\n",
      "2015-03-24 00:00:00: Tuesday\n",
      "2015-03-25 00:00:00: Wednesday\n",
      "2015-03-26 00:00:00: Thursday\n",
      "2015-03-27 00:00:00: Friday\n",
      "2015-03-28 00:00:00: Saturday\n",
      "2015-03-29 00:00:00: Sunday\n",
      "2015-03-30 00:00:00: Monday\n",
      "2015-03-31 00:00:00: Tuesday\n",
      "2015-04-01 00:00:00: Wednesday\n",
      "2015-04-02 00:00:00: Thursday\n",
      "2015-04-03 00:00:00: Friday\n",
      "2015-04-04 00:00:00: Saturday\n",
      "2015-04-05 00:00:00: Sunday\n",
      "2015-04-06 00:00:00: Monday\n",
      "2015-04-07 00:00:00: Tuesday\n",
      "2015-04-08 00:00:00: Wednesday\n",
      "2015-04-09 00:00:00: Thursday\n",
      "2015-04-10 00:00:00: Friday\n",
      "2015-04-11 00:00:00: Saturday\n",
      "2015-04-12 00:00:00: Sunday\n",
      "2015-04-13 00:00:00: Monday\n",
      "2015-04-14 00:00:00: Tuesday\n",
      "2015-04-15 00:00:00: Wednesday\n",
      "2015-04-16 00:00:00: Thursday\n",
      "2015-04-17 00:00:00: Friday\n",
      "2015-04-18 00:00:00: Saturday\n",
      "2015-04-19 00:00:00: Sunday\n",
      "2015-04-20 00:00:00: Monday\n",
      "2015-04-21 00:00:00: Tuesday\n",
      "2015-04-22 00:00:00: Wednesday\n",
      "2015-04-23 00:00:00: Thursday\n",
      "2015-04-24 00:00:00: Friday\n",
      "2015-04-25 00:00:00: Saturday\n",
      "2015-04-26 00:00:00: Sunday\n",
      "2015-04-27 00:00:00: Monday\n",
      "2015-04-28 00:00:00: Tuesday\n",
      "2015-04-29 00:00:00: Wednesday\n",
      "2015-04-30 00:00:00: Thursday\n",
      "2015-05-01 00:00:00: Friday\n",
      "2015-05-02 00:00:00: Saturday\n",
      "2015-05-03 00:00:00: Sunday\n",
      "2015-05-04 00:00:00: Monday\n",
      "2015-05-05 00:00:00: Tuesday\n",
      "2015-05-06 00:00:00: Wednesday\n",
      "2015-05-07 00:00:00: Thursday\n",
      "2015-05-08 00:00:00: Friday\n",
      "2015-05-09 00:00:00: Saturday\n",
      "2015-05-10 00:00:00: Sunday\n",
      "2015-05-11 00:00:00: Monday\n",
      "2015-05-12 00:00:00: Tuesday\n",
      "2015-05-13 00:00:00: Wednesday\n",
      "2015-05-14 00:00:00: Thursday\n",
      "2015-05-15 00:00:00: Friday\n",
      "2015-05-16 00:00:00: Saturday\n",
      "2015-05-17 00:00:00: Sunday\n",
      "2015-05-18 00:00:00: Monday\n",
      "2015-05-19 00:00:00: Tuesday\n",
      "2015-05-20 00:00:00: Wednesday\n",
      "2015-05-21 00:00:00: Thursday\n",
      "2015-05-22 00:00:00: Friday\n",
      "2015-05-23 00:00:00: Saturday\n",
      "2015-05-24 00:00:00: Sunday\n",
      "2015-05-25 00:00:00: Monday\n",
      "2015-05-26 00:00:00: Tuesday\n",
      "2015-05-27 00:00:00: Wednesday\n",
      "2015-05-28 00:00:00: Thursday\n",
      "2015-05-29 00:00:00: Friday\n",
      "2015-05-30 00:00:00: Saturday\n",
      "2015-05-31 00:00:00: Sunday\n",
      "2015-06-01 00:00:00: Monday\n",
      "2015-06-02 00:00:00: Tuesday\n",
      "2015-06-03 00:00:00: Wednesday\n",
      "2015-06-04 00:00:00: Thursday\n",
      "2015-06-05 00:00:00: Friday\n",
      "2015-06-06 00:00:00: Saturday\n",
      "2015-06-07 00:00:00: Sunday\n",
      "2015-06-08 00:00:00: Monday\n",
      "2015-06-09 00:00:00: Tuesday\n",
      "2015-06-10 00:00:00: Wednesday\n",
      "2015-06-11 00:00:00: Thursday\n",
      "2015-06-12 00:00:00: Friday\n",
      "2015-06-13 00:00:00: Saturday\n",
      "2015-06-14 00:00:00: Sunday\n",
      "2015-06-15 00:00:00: Monday\n",
      "2015-06-16 00:00:00: Tuesday\n",
      "2015-06-17 00:00:00: Wednesday\n",
      "2015-06-18 00:00:00: Thursday\n",
      "2015-06-19 00:00:00: Friday\n",
      "2015-06-20 00:00:00: Saturday\n",
      "2015-06-21 00:00:00: Sunday\n",
      "2015-06-22 00:00:00: Monday\n",
      "2015-06-23 00:00:00: Tuesday\n",
      "2015-06-24 00:00:00: Wednesday\n",
      "2015-06-25 00:00:00: Thursday\n",
      "2015-06-26 00:00:00: Friday\n",
      "2015-06-27 00:00:00: Saturday\n",
      "2015-06-28 00:00:00: Sunday\n",
      "2015-06-29 00:00:00: Monday\n",
      "2015-06-30 00:00:00: Tuesday\n",
      "2015-07-01 00:00:00: Wednesday\n",
      "2015-07-02 00:00:00: Thursday\n",
      "2015-07-03 00:00:00: Friday\n",
      "2015-07-04 00:00:00: Saturday\n",
      "2015-07-05 00:00:00: Sunday\n",
      "2015-07-06 00:00:00: Monday\n",
      "2015-07-07 00:00:00: Tuesday\n",
      "2015-07-08 00:00:00: Wednesday\n",
      "2015-07-09 00:00:00: Thursday\n",
      "2015-07-10 00:00:00: Friday\n",
      "2015-07-11 00:00:00: Saturday\n",
      "2015-07-12 00:00:00: Sunday\n",
      "2015-07-13 00:00:00: Monday\n",
      "2015-07-14 00:00:00: Tuesday\n",
      "2015-07-15 00:00:00: Wednesday\n",
      "2015-07-16 00:00:00: Thursday\n",
      "2015-07-17 00:00:00: Friday\n",
      "2015-07-18 00:00:00: Saturday\n",
      "2015-07-19 00:00:00: Sunday\n",
      "2015-07-20 00:00:00: Monday\n",
      "2015-07-21 00:00:00: Tuesday\n",
      "2015-07-22 00:00:00: Wednesday\n",
      "2015-07-23 00:00:00: Thursday\n",
      "2015-07-24 00:00:00: Friday\n",
      "2015-07-25 00:00:00: Saturday\n",
      "2015-07-26 00:00:00: Sunday\n",
      "2015-07-27 00:00:00: Monday\n",
      "2015-07-28 00:00:00: Tuesday\n",
      "2015-07-29 00:00:00: Wednesday\n",
      "2015-07-30 00:00:00: Thursday\n",
      "2015-07-31 00:00:00: Friday\n",
      "2015-08-01 00:00:00: Saturday\n",
      "2015-08-02 00:00:00: Sunday\n",
      "2015-08-03 00:00:00: Monday\n",
      "2015-08-04 00:00:00: Tuesday\n",
      "2015-08-05 00:00:00: Wednesday\n",
      "2015-08-06 00:00:00: Thursday\n",
      "2015-08-07 00:00:00: Friday\n",
      "2015-08-08 00:00:00: Saturday\n",
      "2015-08-09 00:00:00: Sunday\n",
      "2015-08-10 00:00:00: Monday\n",
      "2015-08-11 00:00:00: Tuesday\n",
      "2015-08-12 00:00:00: Wednesday\n",
      "2015-08-13 00:00:00: Thursday\n",
      "2015-08-14 00:00:00: Friday\n",
      "2015-08-15 00:00:00: Saturday\n",
      "2015-08-16 00:00:00: Sunday\n",
      "2015-08-17 00:00:00: Monday\n",
      "2015-08-18 00:00:00: Tuesday\n",
      "2015-08-19 00:00:00: Wednesday\n",
      "2015-08-20 00:00:00: Thursday\n",
      "2015-08-21 00:00:00: Friday\n",
      "2015-08-22 00:00:00: Saturday\n",
      "2015-08-23 00:00:00: Sunday\n",
      "2015-08-24 00:00:00: Monday\n",
      "2015-08-25 00:00:00: Tuesday\n",
      "2015-08-26 00:00:00: Wednesday\n",
      "2015-08-27 00:00:00: Thursday\n",
      "2015-08-28 00:00:00: Friday\n",
      "2015-08-29 00:00:00: Saturday\n",
      "2015-08-30 00:00:00: Sunday\n",
      "2015-08-31 00:00:00: Monday\n",
      "2015-09-01 00:00:00: Tuesday\n",
      "2015-09-02 00:00:00: Wednesday\n",
      "2015-09-03 00:00:00: Thursday\n",
      "2015-09-04 00:00:00: Friday\n",
      "2015-09-05 00:00:00: Saturday\n",
      "2015-09-06 00:00:00: Sunday\n",
      "2015-09-07 00:00:00: Monday\n",
      "2015-09-08 00:00:00: Tuesday\n",
      "2015-09-09 00:00:00: Wednesday\n",
      "2015-09-10 00:00:00: Thursday\n",
      "2015-09-11 00:00:00: Friday\n",
      "2015-09-12 00:00:00: Saturday\n",
      "2015-09-13 00:00:00: Sunday\n",
      "2015-09-14 00:00:00: Monday\n",
      "2015-09-15 00:00:00: Tuesday\n",
      "2015-09-16 00:00:00: Wednesday\n",
      "2015-09-17 00:00:00: Thursday\n",
      "2015-09-18 00:00:00: Friday\n",
      "2015-09-19 00:00:00: Saturday\n",
      "2015-09-20 00:00:00: Sunday\n",
      "2015-09-21 00:00:00: Monday\n",
      "2015-09-22 00:00:00: Tuesday\n",
      "2015-09-23 00:00:00: Wednesday\n",
      "2015-09-24 00:00:00: Thursday\n",
      "2015-09-25 00:00:00: Friday\n",
      "2015-09-26 00:00:00: Saturday\n",
      "2015-09-27 00:00:00: Sunday\n",
      "2015-09-28 00:00:00: Monday\n",
      "2015-09-29 00:00:00: Tuesday\n",
      "2015-09-30 00:00:00: Wednesday\n",
      "2015-10-01 00:00:00: Thursday\n",
      "2015-10-02 00:00:00: Friday\n",
      "2015-10-03 00:00:00: Saturday\n",
      "2015-10-04 00:00:00: Sunday\n",
      "2015-10-05 00:00:00: Monday\n",
      "2015-10-06 00:00:00: Tuesday\n",
      "2015-10-07 00:00:00: Wednesday\n",
      "2015-10-08 00:00:00: Thursday\n",
      "2015-10-09 00:00:00: Friday\n",
      "2015-10-10 00:00:00: Saturday\n",
      "2015-10-11 00:00:00: Sunday\n",
      "2015-10-12 00:00:00: Monday\n",
      "2015-10-13 00:00:00: Tuesday\n",
      "2015-10-14 00:00:00: Wednesday\n",
      "2015-10-15 00:00:00: Thursday\n",
      "2015-10-16 00:00:00: Friday\n",
      "2015-10-17 00:00:00: Saturday\n",
      "2015-10-18 00:00:00: Sunday\n",
      "2015-10-19 00:00:00: Monday\n",
      "2015-10-20 00:00:00: Tuesday\n",
      "2015-10-21 00:00:00: Wednesday\n",
      "2015-10-22 00:00:00: Thursday\n",
      "2015-10-23 00:00:00: Friday\n",
      "2015-10-24 00:00:00: Saturday\n",
      "2015-10-25 00:00:00: Sunday\n",
      "2015-10-26 00:00:00: Monday\n",
      "2015-10-27 00:00:00: Tuesday\n",
      "2015-10-28 00:00:00: Wednesday\n",
      "2015-10-29 00:00:00: Thursday\n",
      "2015-10-30 00:00:00: Friday\n",
      "2015-10-31 00:00:00: Saturday\n",
      "2015-11-01 00:00:00: Sunday\n",
      "2015-11-02 00:00:00: Monday\n",
      "2015-11-03 00:00:00: Tuesday\n",
      "2015-11-04 00:00:00: Wednesday\n",
      "2015-11-05 00:00:00: Thursday\n",
      "2015-11-06 00:00:00: Friday\n",
      "2015-11-07 00:00:00: Saturday\n",
      "2015-11-08 00:00:00: Sunday\n",
      "2015-11-09 00:00:00: Monday\n",
      "2015-11-10 00:00:00: Tuesday\n",
      "2015-11-11 00:00:00: Wednesday\n",
      "2015-11-12 00:00:00: Thursday\n",
      "2015-11-13 00:00:00: Friday\n",
      "2015-11-14 00:00:00: Saturday\n",
      "2015-11-15 00:00:00: Sunday\n",
      "2015-11-16 00:00:00: Monday\n",
      "2015-11-17 00:00:00: Tuesday\n",
      "2015-11-18 00:00:00: Wednesday\n",
      "2015-11-19 00:00:00: Thursday\n",
      "2015-11-20 00:00:00: Friday\n",
      "2015-11-21 00:00:00: Saturday\n",
      "2015-11-22 00:00:00: Sunday\n",
      "2015-11-23 00:00:00: Monday\n",
      "2015-11-24 00:00:00: Tuesday\n",
      "2015-11-25 00:00:00: Wednesday\n",
      "2015-11-26 00:00:00: Thursday\n",
      "2015-11-27 00:00:00: Friday\n",
      "2015-11-28 00:00:00: Saturday\n",
      "2015-11-29 00:00:00: Sunday\n",
      "2015-11-30 00:00:00: Monday\n",
      "2015-12-01 00:00:00: Tuesday\n",
      "2015-12-02 00:00:00: Wednesday\n",
      "2015-12-03 00:00:00: Thursday\n",
      "2015-12-04 00:00:00: Friday\n",
      "2015-12-05 00:00:00: Saturday\n",
      "2015-12-06 00:00:00: Sunday\n",
      "2015-12-07 00:00:00: Monday\n",
      "2015-12-08 00:00:00: Tuesday\n",
      "2015-12-09 00:00:00: Wednesday\n",
      "2015-12-10 00:00:00: Thursday\n",
      "2015-12-11 00:00:00: Friday\n",
      "2015-12-12 00:00:00: Saturday\n",
      "2015-12-13 00:00:00: Sunday\n",
      "2015-12-14 00:00:00: Monday\n",
      "2015-12-15 00:00:00: Tuesday\n",
      "2015-12-16 00:00:00: Wednesday\n",
      "2015-12-17 00:00:00: Thursday\n",
      "2015-12-18 00:00:00: Friday\n",
      "2015-12-19 00:00:00: Saturday\n",
      "2015-12-20 00:00:00: Sunday\n",
      "2015-12-21 00:00:00: Monday\n",
      "2015-12-22 00:00:00: Tuesday\n",
      "2015-12-23 00:00:00: Wednesday\n",
      "2015-12-24 00:00:00: Thursday\n",
      "2015-12-25 00:00:00: Friday\n",
      "2015-12-26 00:00:00: Saturday\n",
      "2015-12-27 00:00:00: Sunday\n",
      "2015-12-28 00:00:00: Monday\n",
      "2015-12-29 00:00:00: Tuesday\n",
      "2015-12-30 00:00:00: Wednesday\n",
      "2015-12-31 00:00:00: Thursday\n",
      "2016-01-01 00:00:00: Friday\n",
      "2016-01-02 00:00:00: Saturday\n",
      "2016-01-03 00:00:00: Sunday\n",
      "2016-01-04 00:00:00: Monday\n",
      "2016-01-05 00:00:00: Tuesday\n",
      "2016-01-06 00:00:00: Wednesday\n",
      "2016-01-07 00:00:00: Thursday\n",
      "2016-01-08 00:00:00: Friday\n",
      "2016-01-09 00:00:00: Saturday\n",
      "2016-01-10 00:00:00: Sunday\n",
      "2016-01-11 00:00:00: Monday\n",
      "2016-01-12 00:00:00: Tuesday\n",
      "2016-01-13 00:00:00: Wednesday\n",
      "2016-01-14 00:00:00: Thursday\n",
      "2016-01-15 00:00:00: Friday\n",
      "2016-01-16 00:00:00: Saturday\n",
      "2016-01-17 00:00:00: Sunday\n",
      "2016-01-18 00:00:00: Monday\n",
      "2016-01-19 00:00:00: Tuesday\n",
      "2016-01-20 00:00:00: Wednesday\n",
      "2016-01-21 00:00:00: Thursday\n",
      "2016-01-22 00:00:00: Friday\n",
      "2016-01-23 00:00:00: Saturday\n",
      "2016-01-24 00:00:00: Sunday\n",
      "2016-01-25 00:00:00: Monday\n",
      "2016-01-26 00:00:00: Tuesday\n",
      "2016-01-27 00:00:00: Wednesday\n",
      "2016-01-28 00:00:00: Thursday\n",
      "2016-01-29 00:00:00: Friday\n",
      "2016-01-30 00:00:00: Saturday\n",
      "2016-01-31 00:00:00: Sunday\n",
      "2016-02-01 00:00:00: Monday\n",
      "2016-02-02 00:00:00: Tuesday\n",
      "2016-02-03 00:00:00: Wednesday\n",
      "2016-02-04 00:00:00: Thursday\n",
      "2016-02-05 00:00:00: Friday\n",
      "2016-02-06 00:00:00: Saturday\n",
      "2016-02-07 00:00:00: Sunday\n",
      "2016-02-08 00:00:00: Monday\n",
      "2016-02-09 00:00:00: Tuesday\n",
      "2016-02-10 00:00:00: Wednesday\n",
      "2016-02-11 00:00:00: Thursday\n",
      "2016-02-12 00:00:00: Friday\n",
      "2016-02-13 00:00:00: Saturday\n",
      "2016-02-14 00:00:00: Sunday\n",
      "2016-02-15 00:00:00: Monday\n",
      "2016-02-16 00:00:00: Tuesday\n",
      "2016-02-17 00:00:00: Wednesday\n",
      "2016-02-18 00:00:00: Thursday\n",
      "2016-02-19 00:00:00: Friday\n",
      "2016-02-20 00:00:00: Saturday\n",
      "2016-02-21 00:00:00: Sunday\n",
      "2016-02-22 00:00:00: Monday\n",
      "2016-02-23 00:00:00: Tuesday\n",
      "2016-02-24 00:00:00: Wednesday\n",
      "2016-02-25 00:00:00: Thursday\n",
      "2016-02-26 00:00:00: Friday\n",
      "2016-02-27 00:00:00: Saturday\n",
      "2016-02-28 00:00:00: Sunday\n",
      "2016-02-29 00:00:00: Monday\n",
      "2016-03-01 00:00:00: Tuesday\n",
      "2016-03-02 00:00:00: Wednesday\n",
      "2016-03-03 00:00:00: Thursday\n",
      "2016-03-04 00:00:00: Friday\n",
      "2016-03-05 00:00:00: Saturday\n",
      "2016-03-06 00:00:00: Sunday\n",
      "2016-03-07 00:00:00: Monday\n",
      "2016-03-08 00:00:00: Tuesday\n",
      "2016-03-09 00:00:00: Wednesday\n",
      "2016-03-10 00:00:00: Thursday\n",
      "2016-03-11 00:00:00: Friday\n",
      "2016-03-12 00:00:00: Saturday\n",
      "2016-03-13 00:00:00: Sunday\n",
      "2016-03-14 00:00:00: Monday\n",
      "2016-03-15 00:00:00: Tuesday\n",
      "2016-03-16 00:00:00: Wednesday\n",
      "2016-03-17 00:00:00: Thursday\n",
      "2016-03-18 00:00:00: Friday\n",
      "2016-03-19 00:00:00: Saturday\n",
      "2016-03-20 00:00:00: Sunday\n",
      "2016-03-21 00:00:00: Monday\n",
      "2016-03-22 00:00:00: Tuesday\n",
      "2016-03-23 00:00:00: Wednesday\n",
      "2016-03-24 00:00:00: Thursday\n",
      "2016-03-25 00:00:00: Friday\n",
      "2016-03-26 00:00:00: Saturday\n",
      "2016-03-27 00:00:00: Sunday\n",
      "2016-03-28 00:00:00: Monday\n",
      "2016-03-29 00:00:00: Tuesday\n",
      "2016-03-30 00:00:00: Wednesday\n",
      "2016-03-31 00:00:00: Thursday\n",
      "2016-04-01 00:00:00: Friday\n",
      "2016-04-02 00:00:00: Saturday\n",
      "2016-04-03 00:00:00: Sunday\n",
      "2016-04-04 00:00:00: Monday\n",
      "2016-04-05 00:00:00: Tuesday\n",
      "2016-04-06 00:00:00: Wednesday\n",
      "2016-04-07 00:00:00: Thursday\n",
      "2016-04-08 00:00:00: Friday\n",
      "2016-04-09 00:00:00: Saturday\n",
      "2016-04-10 00:00:00: Sunday\n",
      "2016-04-11 00:00:00: Monday\n",
      "2016-04-12 00:00:00: Tuesday\n",
      "2016-04-13 00:00:00: Wednesday\n",
      "2016-04-14 00:00:00: Thursday\n",
      "2016-04-15 00:00:00: Friday\n",
      "2016-04-16 00:00:00: Saturday\n",
      "2016-04-17 00:00:00: Sunday\n",
      "2016-04-18 00:00:00: Monday\n",
      "2016-04-19 00:00:00: Tuesday\n",
      "2016-04-20 00:00:00: Wednesday\n",
      "2016-04-21 00:00:00: Thursday\n",
      "2016-04-22 00:00:00: Friday\n",
      "2016-04-23 00:00:00: Saturday\n",
      "2016-04-24 00:00:00: Sunday\n",
      "2016-04-25 00:00:00: Monday\n",
      "2016-04-26 00:00:00: Tuesday\n",
      "2016-04-27 00:00:00: Wednesday\n",
      "2016-04-28 00:00:00: Thursday\n",
      "2016-04-29 00:00:00: Friday\n",
      "2016-04-30 00:00:00: Saturday\n",
      "2016-05-01 00:00:00: Sunday\n",
      "2016-05-02 00:00:00: Monday\n",
      "2016-05-03 00:00:00: Tuesday\n",
      "2016-05-04 00:00:00: Wednesday\n",
      "2016-05-05 00:00:00: Thursday\n",
      "2016-05-06 00:00:00: Friday\n",
      "2016-05-07 00:00:00: Saturday\n",
      "2016-05-08 00:00:00: Sunday\n",
      "2016-05-09 00:00:00: Monday\n",
      "2016-05-10 00:00:00: Tuesday\n",
      "2016-05-11 00:00:00: Wednesday\n",
      "2016-05-12 00:00:00: Thursday\n",
      "2016-05-13 00:00:00: Friday\n",
      "2016-05-14 00:00:00: Saturday\n",
      "2016-05-15 00:00:00: Sunday\n",
      "2016-05-16 00:00:00: Monday\n",
      "2016-05-17 00:00:00: Tuesday\n",
      "2016-05-18 00:00:00: Wednesday\n",
      "2016-05-19 00:00:00: Thursday\n",
      "2016-05-20 00:00:00: Friday\n",
      "2016-05-21 00:00:00: Saturday\n",
      "2016-05-22 00:00:00: Sunday\n",
      "2016-05-23 00:00:00: Monday\n",
      "2016-05-24 00:00:00: Tuesday\n",
      "2016-05-25 00:00:00: Wednesday\n",
      "2016-05-26 00:00:00: Thursday\n",
      "2016-05-27 00:00:00: Friday\n",
      "2016-05-28 00:00:00: Saturday\n",
      "2016-05-29 00:00:00: Sunday\n",
      "2016-05-30 00:00:00: Monday\n",
      "2016-05-31 00:00:00: Tuesday\n",
      "2016-06-01 00:00:00: Wednesday\n",
      "2016-06-02 00:00:00: Thursday\n",
      "2016-06-03 00:00:00: Friday\n",
      "2016-06-04 00:00:00: Saturday\n",
      "2016-06-05 00:00:00: Sunday\n",
      "2016-06-06 00:00:00: Monday\n",
      "2016-06-07 00:00:00: Tuesday\n",
      "2016-06-08 00:00:00: Wednesday\n",
      "2016-06-09 00:00:00: Thursday\n",
      "2016-06-10 00:00:00: Friday\n",
      "2016-06-11 00:00:00: Saturday\n",
      "2016-06-12 00:00:00: Sunday\n",
      "2016-06-13 00:00:00: Monday\n",
      "2016-06-14 00:00:00: Tuesday\n",
      "2016-06-15 00:00:00: Wednesday\n",
      "2016-06-16 00:00:00: Thursday\n",
      "2016-06-17 00:00:00: Friday\n",
      "2016-06-18 00:00:00: Saturday\n",
      "2016-06-19 00:00:00: Sunday\n",
      "2016-06-20 00:00:00: Monday\n",
      "2016-06-21 00:00:00: Tuesday\n",
      "2016-06-22 00:00:00: Wednesday\n",
      "2016-06-23 00:00:00: Thursday\n",
      "2016-06-24 00:00:00: Friday\n",
      "2016-06-25 00:00:00: Saturday\n",
      "2016-06-26 00:00:00: Sunday\n",
      "2016-06-27 00:00:00: Monday\n",
      "2016-06-28 00:00:00: Tuesday\n",
      "2016-06-29 00:00:00: Wednesday\n",
      "2016-06-30 00:00:00: Thursday\n",
      "2016-07-01 00:00:00: Friday\n",
      "2016-07-02 00:00:00: Saturday\n",
      "2016-07-03 00:00:00: Sunday\n",
      "2016-07-04 00:00:00: Monday\n",
      "2016-07-05 00:00:00: Tuesday\n",
      "2016-07-06 00:00:00: Wednesday\n",
      "2016-07-07 00:00:00: Thursday\n",
      "2016-07-08 00:00:00: Friday\n",
      "2016-07-09 00:00:00: Saturday\n",
      "2016-07-10 00:00:00: Sunday\n",
      "2016-07-11 00:00:00: Monday\n",
      "2016-07-12 00:00:00: Tuesday\n",
      "2016-07-13 00:00:00: Wednesday\n",
      "2016-07-14 00:00:00: Thursday\n",
      "2016-07-15 00:00:00: Friday\n",
      "2016-07-16 00:00:00: Saturday\n",
      "2016-07-17 00:00:00: Sunday\n",
      "2016-07-18 00:00:00: Monday\n",
      "2016-07-19 00:00:00: Tuesday\n",
      "2016-07-20 00:00:00: Wednesday\n",
      "2016-07-21 00:00:00: Thursday\n",
      "2016-07-22 00:00:00: Friday\n",
      "2016-07-23 00:00:00: Saturday\n",
      "2016-07-24 00:00:00: Sunday\n",
      "2016-07-25 00:00:00: Monday\n",
      "2016-07-26 00:00:00: Tuesday\n",
      "2016-07-27 00:00:00: Wednesday\n",
      "2016-07-28 00:00:00: Thursday\n",
      "2016-07-29 00:00:00: Friday\n",
      "2016-07-30 00:00:00: Saturday\n",
      "2016-07-31 00:00:00: Sunday\n",
      "2016-08-01 00:00:00: Monday\n",
      "2016-08-02 00:00:00: Tuesday\n",
      "2016-08-03 00:00:00: Wednesday\n",
      "2016-08-04 00:00:00: Thursday\n",
      "2016-08-05 00:00:00: Friday\n",
      "2016-08-06 00:00:00: Saturday\n",
      "2016-08-07 00:00:00: Sunday\n",
      "2016-08-08 00:00:00: Monday\n",
      "2016-08-09 00:00:00: Tuesday\n",
      "2016-08-10 00:00:00: Wednesday\n",
      "2016-08-11 00:00:00: Thursday\n",
      "2016-08-12 00:00:00: Friday\n",
      "2016-08-13 00:00:00: Saturday\n",
      "2016-08-14 00:00:00: Sunday\n",
      "2016-08-15 00:00:00: Monday\n",
      "2016-08-16 00:00:00: Tuesday\n",
      "2016-08-17 00:00:00: Wednesday\n",
      "2016-08-18 00:00:00: Thursday\n",
      "2016-08-19 00:00:00: Friday\n",
      "2016-08-20 00:00:00: Saturday\n",
      "2016-08-21 00:00:00: Sunday\n",
      "2016-08-22 00:00:00: Monday\n",
      "2016-08-23 00:00:00: Tuesday\n",
      "2016-08-24 00:00:00: Wednesday\n",
      "2016-08-25 00:00:00: Thursday\n",
      "2016-08-26 00:00:00: Friday\n",
      "2016-08-27 00:00:00: Saturday\n",
      "2016-08-28 00:00:00: Sunday\n",
      "2016-08-29 00:00:00: Monday\n",
      "2016-08-30 00:00:00: Tuesday\n",
      "2016-08-31 00:00:00: Wednesday\n",
      "2016-09-01 00:00:00: Thursday\n",
      "2016-09-02 00:00:00: Friday\n",
      "2016-09-03 00:00:00: Saturday\n",
      "2016-09-04 00:00:00: Sunday\n",
      "2016-09-05 00:00:00: Monday\n",
      "2016-09-06 00:00:00: Tuesday\n",
      "2016-09-07 00:00:00: Wednesday\n",
      "2016-09-08 00:00:00: Thursday\n",
      "2016-09-09 00:00:00: Friday\n",
      "2016-09-10 00:00:00: Saturday\n",
      "2016-09-11 00:00:00: Sunday\n",
      "2016-09-12 00:00:00: Monday\n",
      "2016-09-13 00:00:00: Tuesday\n",
      "2016-09-14 00:00:00: Wednesday\n",
      "2016-09-15 00:00:00: Thursday\n",
      "2016-09-16 00:00:00: Friday\n",
      "2016-09-17 00:00:00: Saturday\n",
      "2016-09-18 00:00:00: Sunday\n",
      "2016-09-19 00:00:00: Monday\n",
      "2016-09-20 00:00:00: Tuesday\n",
      "2016-09-21 00:00:00: Wednesday\n",
      "2016-09-22 00:00:00: Thursday\n",
      "2016-09-23 00:00:00: Friday\n",
      "2016-09-24 00:00:00: Saturday\n",
      "2016-09-25 00:00:00: Sunday\n",
      "2016-09-26 00:00:00: Monday\n",
      "2016-09-27 00:00:00: Tuesday\n",
      "2016-09-28 00:00:00: Wednesday\n",
      "2016-09-29 00:00:00: Thursday\n",
      "2016-09-30 00:00:00: Friday\n",
      "2016-10-01 00:00:00: Saturday\n",
      "2016-10-02 00:00:00: Sunday\n",
      "2016-10-03 00:00:00: Monday\n",
      "2016-10-04 00:00:00: Tuesday\n",
      "2016-10-05 00:00:00: Wednesday\n",
      "2016-10-06 00:00:00: Thursday\n",
      "2016-10-07 00:00:00: Friday\n",
      "2016-10-08 00:00:00: Saturday\n",
      "2016-10-09 00:00:00: Sunday\n",
      "2016-10-10 00:00:00: Monday\n",
      "2016-10-11 00:00:00: Tuesday\n",
      "2016-10-12 00:00:00: Wednesday\n",
      "2016-10-13 00:00:00: Thursday\n",
      "2016-10-14 00:00:00: Friday\n",
      "2016-10-15 00:00:00: Saturday\n",
      "2016-10-16 00:00:00: Sunday\n",
      "2016-10-17 00:00:00: Monday\n",
      "2016-10-18 00:00:00: Tuesday\n",
      "2016-10-19 00:00:00: Wednesday\n",
      "2016-10-20 00:00:00: Thursday\n",
      "2016-10-21 00:00:00: Friday\n",
      "2016-10-22 00:00:00: Saturday\n",
      "2016-10-23 00:00:00: Sunday\n",
      "2016-10-24 00:00:00: Monday\n",
      "2016-10-25 00:00:00: Tuesday\n",
      "2016-10-26 00:00:00: Wednesday\n",
      "2016-10-27 00:00:00: Thursday\n",
      "2016-10-28 00:00:00: Friday\n",
      "2016-10-29 00:00:00: Saturday\n",
      "2016-10-30 00:00:00: Sunday\n",
      "2016-10-31 00:00:00: Monday\n",
      "2016-11-01 00:00:00: Tuesday\n",
      "2016-11-02 00:00:00: Wednesday\n",
      "2016-11-03 00:00:00: Thursday\n",
      "2016-11-04 00:00:00: Friday\n",
      "2016-11-05 00:00:00: Saturday\n",
      "2016-11-06 00:00:00: Sunday\n",
      "2016-11-07 00:00:00: Monday\n",
      "2016-11-08 00:00:00: Tuesday\n",
      "2016-11-09 00:00:00: Wednesday\n",
      "2016-11-10 00:00:00: Thursday\n",
      "2016-11-11 00:00:00: Friday\n",
      "2016-11-12 00:00:00: Saturday\n",
      "2016-11-13 00:00:00: Sunday\n",
      "2016-11-14 00:00:00: Monday\n",
      "2016-11-15 00:00:00: Tuesday\n",
      "2016-11-16 00:00:00: Wednesday\n",
      "2016-11-17 00:00:00: Thursday\n",
      "2016-11-18 00:00:00: Friday\n",
      "2016-11-19 00:00:00: Saturday\n",
      "2016-11-20 00:00:00: Sunday\n",
      "2016-11-21 00:00:00: Monday\n",
      "2016-11-22 00:00:00: Tuesday\n",
      "2016-11-23 00:00:00: Wednesday\n",
      "2016-11-24 00:00:00: Thursday\n",
      "2016-11-25 00:00:00: Friday\n",
      "2016-11-26 00:00:00: Saturday\n",
      "2016-11-27 00:00:00: Sunday\n",
      "2016-11-28 00:00:00: Monday\n",
      "2016-11-29 00:00:00: Tuesday\n",
      "2016-11-30 00:00:00: Wednesday\n",
      "2016-12-01 00:00:00: Thursday\n",
      "2016-12-02 00:00:00: Friday\n",
      "2016-12-03 00:00:00: Saturday\n",
      "2016-12-04 00:00:00: Sunday\n",
      "2016-12-05 00:00:00: Monday\n",
      "2016-12-06 00:00:00: Tuesday\n",
      "2016-12-07 00:00:00: Wednesday\n",
      "2016-12-08 00:00:00: Thursday\n",
      "2016-12-09 00:00:00: Friday\n",
      "2016-12-10 00:00:00: Saturday\n",
      "2016-12-11 00:00:00: Sunday\n",
      "2016-12-12 00:00:00: Monday\n",
      "2016-12-13 00:00:00: Tuesday\n",
      "2016-12-14 00:00:00: Wednesday\n",
      "2016-12-15 00:00:00: Thursday\n",
      "2016-12-16 00:00:00: Friday\n",
      "2016-12-17 00:00:00: Saturday\n",
      "2016-12-18 00:00:00: Sunday\n",
      "2016-12-19 00:00:00: Monday\n",
      "2016-12-20 00:00:00: Tuesday\n",
      "2016-12-21 00:00:00: Wednesday\n",
      "2016-12-22 00:00:00: Thursday\n",
      "2016-12-23 00:00:00: Friday\n",
      "2016-12-24 00:00:00: Saturday\n",
      "2016-12-25 00:00:00: Sunday\n",
      "2016-12-26 00:00:00: Monday\n",
      "2016-12-27 00:00:00: Tuesday\n",
      "2016-12-28 00:00:00: Wednesday\n",
      "2016-12-29 00:00:00: Thursday\n",
      "2016-12-30 00:00:00: Friday\n",
      "2016-12-31 00:00:00: Saturday\n",
      "2017-01-01 00:00:00: Sunday\n",
      "2017-01-02 00:00:00: Monday\n",
      "2017-01-03 00:00:00: Tuesday\n",
      "2017-01-04 00:00:00: Wednesday\n",
      "2017-01-05 00:00:00: Thursday\n",
      "2017-01-06 00:00:00: Friday\n",
      "2017-01-07 00:00:00: Saturday\n",
      "2017-01-08 00:00:00: Sunday\n",
      "2017-01-09 00:00:00: Monday\n",
      "2017-01-10 00:00:00: Tuesday\n",
      "2017-01-11 00:00:00: Wednesday\n",
      "2017-01-12 00:00:00: Thursday\n",
      "2017-01-13 00:00:00: Friday\n",
      "2017-01-14 00:00:00: Saturday\n",
      "2017-01-15 00:00:00: Sunday\n",
      "2017-01-16 00:00:00: Monday\n",
      "2017-01-17 00:00:00: Tuesday\n",
      "2017-01-18 00:00:00: Wednesday\n",
      "2017-01-19 00:00:00: Thursday\n",
      "2017-01-20 00:00:00: Friday\n",
      "2017-01-21 00:00:00: Saturday\n",
      "2017-01-22 00:00:00: Sunday\n",
      "2017-01-23 00:00:00: Monday\n",
      "2017-01-24 00:00:00: Tuesday\n",
      "2017-01-25 00:00:00: Wednesday\n",
      "2017-01-26 00:00:00: Thursday\n",
      "2017-01-27 00:00:00: Friday\n",
      "2017-01-28 00:00:00: Saturday\n",
      "2017-01-29 00:00:00: Sunday\n",
      "2017-01-30 00:00:00: Monday\n",
      "2017-01-31 00:00:00: Tuesday\n",
      "2017-02-01 00:00:00: Wednesday\n",
      "2017-02-02 00:00:00: Thursday\n",
      "2017-02-03 00:00:00: Friday\n",
      "2017-02-04 00:00:00: Saturday\n",
      "2017-02-05 00:00:00: Sunday\n",
      "2017-02-06 00:00:00: Monday\n",
      "2017-02-07 00:00:00: Tuesday\n",
      "2017-02-08 00:00:00: Wednesday\n",
      "2017-02-09 00:00:00: Thursday\n",
      "2017-02-10 00:00:00: Friday\n",
      "2017-02-11 00:00:00: Saturday\n",
      "2017-02-12 00:00:00: Sunday\n",
      "2017-02-13 00:00:00: Monday\n",
      "2017-02-14 00:00:00: Tuesday\n",
      "2017-02-15 00:00:00: Wednesday\n",
      "2017-02-16 00:00:00: Thursday\n",
      "2017-02-17 00:00:00: Friday\n",
      "2017-02-18 00:00:00: Saturday\n",
      "2017-02-19 00:00:00: Sunday\n",
      "2017-02-20 00:00:00: Monday\n",
      "2017-02-21 00:00:00: Tuesday\n",
      "2017-02-22 00:00:00: Wednesday\n",
      "2017-02-23 00:00:00: Thursday\n",
      "2017-02-24 00:00:00: Friday\n",
      "2017-02-25 00:00:00: Saturday\n",
      "2017-02-26 00:00:00: Sunday\n",
      "2017-02-27 00:00:00: Monday\n",
      "2017-02-28 00:00:00: Tuesday\n",
      "2017-03-01 00:00:00: Wednesday\n",
      "2017-03-02 00:00:00: Thursday\n",
      "2017-03-03 00:00:00: Friday\n",
      "2017-03-04 00:00:00: Saturday\n",
      "2017-03-05 00:00:00: Sunday\n",
      "2017-03-06 00:00:00: Monday\n",
      "2017-03-07 00:00:00: Tuesday\n",
      "2017-03-08 00:00:00: Wednesday\n",
      "2017-03-09 00:00:00: Thursday\n",
      "2017-03-10 00:00:00: Friday\n",
      "2017-03-11 00:00:00: Saturday\n",
      "2017-03-12 00:00:00: Sunday\n",
      "2017-03-13 00:00:00: Monday\n",
      "2017-03-14 00:00:00: Tuesday\n",
      "2017-03-15 00:00:00: Wednesday\n",
      "2017-03-16 00:00:00: Thursday\n",
      "2017-03-17 00:00:00: Friday\n",
      "2017-03-18 00:00:00: Saturday\n",
      "2017-03-19 00:00:00: Sunday\n",
      "2017-03-20 00:00:00: Monday\n",
      "2017-03-21 00:00:00: Tuesday\n",
      "2017-03-22 00:00:00: Wednesday\n",
      "2017-03-23 00:00:00: Thursday\n",
      "2017-03-24 00:00:00: Friday\n",
      "2017-03-25 00:00:00: Saturday\n",
      "2017-03-26 00:00:00: Sunday\n",
      "2017-03-27 00:00:00: Monday\n",
      "2017-03-28 00:00:00: Tuesday\n",
      "2017-03-29 00:00:00: Wednesday\n",
      "2017-03-30 00:00:00: Thursday\n",
      "2017-03-31 00:00:00: Friday\n",
      "2017-04-01 00:00:00: Saturday\n",
      "2017-04-02 00:00:00: Sunday\n",
      "2017-04-03 00:00:00: Monday\n",
      "2017-04-04 00:00:00: Tuesday\n",
      "2017-04-05 00:00:00: Wednesday\n",
      "2017-04-06 00:00:00: Thursday\n",
      "2017-04-07 00:00:00: Friday\n",
      "2017-04-08 00:00:00: Saturday\n",
      "2017-04-09 00:00:00: Sunday\n",
      "2017-04-10 00:00:00: Monday\n",
      "2017-04-11 00:00:00: Tuesday\n",
      "2017-04-12 00:00:00: Wednesday\n",
      "2017-04-13 00:00:00: Thursday\n",
      "2017-04-14 00:00:00: Friday\n",
      "2017-04-15 00:00:00: Saturday\n",
      "2017-04-16 00:00:00: Sunday\n",
      "2017-04-17 00:00:00: Monday\n",
      "2017-04-18 00:00:00: Tuesday\n",
      "2017-04-19 00:00:00: Wednesday\n",
      "2017-04-20 00:00:00: Thursday\n",
      "2017-04-21 00:00:00: Friday\n",
      "2017-04-22 00:00:00: Saturday\n",
      "2017-04-23 00:00:00: Sunday\n",
      "2017-04-24 00:00:00: Monday\n",
      "2017-04-25 00:00:00: Tuesday\n",
      "2017-04-26 00:00:00: Wednesday\n",
      "2017-04-27 00:00:00: Thursday\n",
      "2017-04-28 00:00:00: Friday\n",
      "2017-04-29 00:00:00: Saturday\n",
      "2017-04-30 00:00:00: Sunday\n",
      "2017-05-01 00:00:00: Monday\n",
      "2017-05-02 00:00:00: Tuesday\n",
      "2017-05-03 00:00:00: Wednesday\n",
      "2017-05-04 00:00:00: Thursday\n",
      "2017-05-05 00:00:00: Friday\n",
      "2017-05-06 00:00:00: Saturday\n",
      "2017-05-07 00:00:00: Sunday\n",
      "2017-05-08 00:00:00: Monday\n",
      "2017-05-09 00:00:00: Tuesday\n",
      "2017-05-10 00:00:00: Wednesday\n",
      "2017-05-11 00:00:00: Thursday\n",
      "2017-05-12 00:00:00: Friday\n",
      "2017-05-13 00:00:00: Saturday\n",
      "2017-05-14 00:00:00: Sunday\n",
      "2017-05-15 00:00:00: Monday\n",
      "2017-05-16 00:00:00: Tuesday\n",
      "2017-05-17 00:00:00: Wednesday\n",
      "2017-05-18 00:00:00: Thursday\n",
      "2017-05-19 00:00:00: Friday\n",
      "2017-05-20 00:00:00: Saturday\n",
      "2017-05-21 00:00:00: Sunday\n",
      "2017-05-22 00:00:00: Monday\n",
      "2017-05-23 00:00:00: Tuesday\n",
      "2017-05-24 00:00:00: Wednesday\n",
      "2017-05-25 00:00:00: Thursday\n",
      "2017-05-26 00:00:00: Friday\n",
      "2017-05-27 00:00:00: Saturday\n",
      "2017-05-28 00:00:00: Sunday\n",
      "2017-05-29 00:00:00: Monday\n",
      "2017-05-30 00:00:00: Tuesday\n",
      "2017-05-31 00:00:00: Wednesday\n",
      "2017-06-01 00:00:00: Thursday\n",
      "2017-06-02 00:00:00: Friday\n",
      "2017-06-03 00:00:00: Saturday\n",
      "2017-06-04 00:00:00: Sunday\n",
      "2017-06-05 00:00:00: Monday\n",
      "2017-06-06 00:00:00: Tuesday\n",
      "2017-06-07 00:00:00: Wednesday\n",
      "2017-06-08 00:00:00: Thursday\n",
      "2017-06-09 00:00:00: Friday\n",
      "2017-06-10 00:00:00: Saturday\n",
      "2017-06-11 00:00:00: Sunday\n",
      "2017-06-12 00:00:00: Monday\n",
      "2017-06-13 00:00:00: Tuesday\n",
      "2017-06-14 00:00:00: Wednesday\n",
      "2017-06-15 00:00:00: Thursday\n",
      "2017-06-16 00:00:00: Friday\n",
      "2017-06-17 00:00:00: Saturday\n",
      "2017-06-18 00:00:00: Sunday\n",
      "2017-06-19 00:00:00: Monday\n",
      "2017-06-20 00:00:00: Tuesday\n",
      "2017-06-21 00:00:00: Wednesday\n",
      "2017-06-22 00:00:00: Thursday\n",
      "2017-06-23 00:00:00: Friday\n",
      "2017-06-24 00:00:00: Saturday\n",
      "2017-06-25 00:00:00: Sunday\n",
      "2017-06-26 00:00:00: Monday\n",
      "2017-06-27 00:00:00: Tuesday\n",
      "2017-06-28 00:00:00: Wednesday\n",
      "2017-06-29 00:00:00: Thursday\n",
      "2017-06-30 00:00:00: Friday\n",
      "2017-07-01 00:00:00: Saturday\n",
      "2017-07-02 00:00:00: Sunday\n",
      "2017-07-03 00:00:00: Monday\n",
      "2017-07-04 00:00:00: Tuesday\n",
      "2017-07-05 00:00:00: Wednesday\n",
      "2017-07-06 00:00:00: Thursday\n",
      "2017-07-07 00:00:00: Friday\n",
      "2017-07-08 00:00:00: Saturday\n",
      "2017-07-09 00:00:00: Sunday\n",
      "2017-07-10 00:00:00: Monday\n",
      "2017-07-11 00:00:00: Tuesday\n",
      "2017-07-12 00:00:00: Wednesday\n",
      "2017-07-13 00:00:00: Thursday\n",
      "2017-07-14 00:00:00: Friday\n",
      "2017-07-15 00:00:00: Saturday\n",
      "2017-07-16 00:00:00: Sunday\n",
      "2017-07-17 00:00:00: Monday\n",
      "2017-07-18 00:00:00: Tuesday\n",
      "2017-07-19 00:00:00: Wednesday\n",
      "2017-07-20 00:00:00: Thursday\n",
      "2017-07-21 00:00:00: Friday\n",
      "2017-07-22 00:00:00: Saturday\n",
      "2017-07-23 00:00:00: Sunday\n",
      "2017-07-24 00:00:00: Monday\n",
      "2017-07-25 00:00:00: Tuesday\n",
      "2017-07-26 00:00:00: Wednesday\n",
      "2017-07-27 00:00:00: Thursday\n",
      "2017-07-28 00:00:00: Friday\n",
      "2017-07-29 00:00:00: Saturday\n",
      "2017-07-30 00:00:00: Sunday\n",
      "2017-07-31 00:00:00: Monday\n",
      "2017-08-01 00:00:00: Tuesday\n",
      "2017-08-02 00:00:00: Wednesday\n",
      "2017-08-03 00:00:00: Thursday\n",
      "2017-08-04 00:00:00: Friday\n",
      "2017-08-05 00:00:00: Saturday\n",
      "2017-08-06 00:00:00: Sunday\n",
      "2017-08-07 00:00:00: Monday\n",
      "2017-08-08 00:00:00: Tuesday\n",
      "2017-08-09 00:00:00: Wednesday\n",
      "2017-08-10 00:00:00: Thursday\n",
      "2017-08-11 00:00:00: Friday\n",
      "2017-08-12 00:00:00: Saturday\n",
      "2017-08-13 00:00:00: Sunday\n",
      "2017-08-14 00:00:00: Monday\n",
      "2017-08-15 00:00:00: Tuesday\n"
     ]
    }
   ],
   "source": [
    "# Function to get the day name from a date string\n",
    "from dateutil.parser import parse\n",
    "\n",
    "def get_day_name(date_str):\n",
    "    return date_str.strftime('%A')\n",
    "\n",
    "\n",
    "day_names = []\n",
    "# Get day names for each specific date\n",
    "for date in missing_dates:\n",
    "    day = get_day_name(date)\n",
    "    day_names.append(day)\n",
    "\n",
    "\n",
    "print(\"Day names for specific dates:\")\n",
    "for date, day_name in zip(missing_dates, day_names):\n",
    "    print(f\"{date}: {day_name}\")\n",
    "\n",
    "# Create a DataFrame for missing dates\n",
    "missing_dates_df = pd.DataFrame({'date': pd.to_datetime(missing_dates)})\n",
    "    "
   ]
  },
  {
   "cell_type": "code",
   "execution_count": 160,
   "metadata": {},
   "outputs": [
    {
     "data": {
      "text/html": [
       "<div>\n",
       "<style scoped>\n",
       "    .dataframe tbody tr th:only-of-type {\n",
       "        vertical-align: middle;\n",
       "    }\n",
       "\n",
       "    .dataframe tbody tr th {\n",
       "        vertical-align: top;\n",
       "    }\n",
       "\n",
       "    .dataframe thead th {\n",
       "        text-align: right;\n",
       "    }\n",
       "</style>\n",
       "<table border=\"1\" class=\"dataframe\">\n",
       "  <thead>\n",
       "    <tr style=\"text-align: right;\">\n",
       "      <th></th>\n",
       "      <th>index</th>\n",
       "      <th>id</th>\n",
       "      <th>date</th>\n",
       "      <th>store_nbr</th>\n",
       "      <th>family</th>\n",
       "      <th>sales</th>\n",
       "      <th>onpromotion</th>\n",
       "    </tr>\n",
       "  </thead>\n",
       "  <tbody>\n",
       "    <tr>\n",
       "      <th>0</th>\n",
       "      <td>0.0</td>\n",
       "      <td>0.0</td>\n",
       "      <td>2013-01-01</td>\n",
       "      <td>1.0</td>\n",
       "      <td>AUTOMOTIVE</td>\n",
       "      <td>0.0</td>\n",
       "      <td>0.0</td>\n",
       "    </tr>\n",
       "    <tr>\n",
       "      <th>1</th>\n",
       "      <td>1.0</td>\n",
       "      <td>1.0</td>\n",
       "      <td>2013-01-01</td>\n",
       "      <td>1.0</td>\n",
       "      <td>BABY CARE</td>\n",
       "      <td>0.0</td>\n",
       "      <td>0.0</td>\n",
       "    </tr>\n",
       "    <tr>\n",
       "      <th>2</th>\n",
       "      <td>2.0</td>\n",
       "      <td>2.0</td>\n",
       "      <td>2013-01-01</td>\n",
       "      <td>1.0</td>\n",
       "      <td>BEAUTY</td>\n",
       "      <td>0.0</td>\n",
       "      <td>0.0</td>\n",
       "    </tr>\n",
       "    <tr>\n",
       "      <th>3</th>\n",
       "      <td>3.0</td>\n",
       "      <td>3.0</td>\n",
       "      <td>2013-01-01</td>\n",
       "      <td>1.0</td>\n",
       "      <td>BEVERAGES</td>\n",
       "      <td>0.0</td>\n",
       "      <td>0.0</td>\n",
       "    </tr>\n",
       "    <tr>\n",
       "      <th>4</th>\n",
       "      <td>4.0</td>\n",
       "      <td>4.0</td>\n",
       "      <td>2013-01-01</td>\n",
       "      <td>1.0</td>\n",
       "      <td>BOOKS</td>\n",
       "      <td>0.0</td>\n",
       "      <td>0.0</td>\n",
       "    </tr>\n",
       "    <tr>\n",
       "      <th>...</th>\n",
       "      <td>...</td>\n",
       "      <td>...</td>\n",
       "      <td>...</td>\n",
       "      <td>...</td>\n",
       "      <td>...</td>\n",
       "      <td>...</td>\n",
       "      <td>...</td>\n",
       "    </tr>\n",
       "    <tr>\n",
       "      <th>3002571</th>\n",
       "      <td>NaN</td>\n",
       "      <td>NaN</td>\n",
       "      <td>2017-08-11</td>\n",
       "      <td>NaN</td>\n",
       "      <td>NaN</td>\n",
       "      <td>NaN</td>\n",
       "      <td>NaN</td>\n",
       "    </tr>\n",
       "    <tr>\n",
       "      <th>3002572</th>\n",
       "      <td>NaN</td>\n",
       "      <td>NaN</td>\n",
       "      <td>2017-08-12</td>\n",
       "      <td>NaN</td>\n",
       "      <td>NaN</td>\n",
       "      <td>NaN</td>\n",
       "      <td>NaN</td>\n",
       "    </tr>\n",
       "    <tr>\n",
       "      <th>3002573</th>\n",
       "      <td>NaN</td>\n",
       "      <td>NaN</td>\n",
       "      <td>2017-08-13</td>\n",
       "      <td>NaN</td>\n",
       "      <td>NaN</td>\n",
       "      <td>NaN</td>\n",
       "      <td>NaN</td>\n",
       "    </tr>\n",
       "    <tr>\n",
       "      <th>3002574</th>\n",
       "      <td>NaN</td>\n",
       "      <td>NaN</td>\n",
       "      <td>2017-08-14</td>\n",
       "      <td>NaN</td>\n",
       "      <td>NaN</td>\n",
       "      <td>NaN</td>\n",
       "      <td>NaN</td>\n",
       "    </tr>\n",
       "    <tr>\n",
       "      <th>3002575</th>\n",
       "      <td>NaN</td>\n",
       "      <td>NaN</td>\n",
       "      <td>2017-08-15</td>\n",
       "      <td>NaN</td>\n",
       "      <td>NaN</td>\n",
       "      <td>NaN</td>\n",
       "      <td>NaN</td>\n",
       "    </tr>\n",
       "  </tbody>\n",
       "</table>\n",
       "<p>3002576 rows × 7 columns</p>\n",
       "</div>"
      ],
      "text/plain": [
       "         index   id       date  store_nbr      family  sales  onpromotion\n",
       "0          0.0  0.0 2013-01-01        1.0  AUTOMOTIVE    0.0          0.0\n",
       "1          1.0  1.0 2013-01-01        1.0   BABY CARE    0.0          0.0\n",
       "2          2.0  2.0 2013-01-01        1.0      BEAUTY    0.0          0.0\n",
       "3          3.0  3.0 2013-01-01        1.0   BEVERAGES    0.0          0.0\n",
       "4          4.0  4.0 2013-01-01        1.0       BOOKS    0.0          0.0\n",
       "...        ...  ...        ...        ...         ...    ...          ...\n",
       "3002571    NaN  NaN 2017-08-11        NaN         NaN    NaN          NaN\n",
       "3002572    NaN  NaN 2017-08-12        NaN         NaN    NaN          NaN\n",
       "3002573    NaN  NaN 2017-08-13        NaN         NaN    NaN          NaN\n",
       "3002574    NaN  NaN 2017-08-14        NaN         NaN    NaN          NaN\n",
       "3002575    NaN  NaN 2017-08-15        NaN         NaN    NaN          NaN\n",
       "\n",
       "[3002576 rows x 7 columns]"
      ]
     },
     "execution_count": 160,
     "metadata": {},
     "output_type": "execute_result"
    }
   ],
   "source": [
    "### Adding the missing dates to the dataframe\n",
    "# Merge with specific dates to include missing dates\n",
    "sales_df = sales_df.reset_index(drop=False)\n",
    "sales_df = pd.concat([sales_df, missing_dates_df], ignore_index=True)\n",
    "sales_df"
   ]
  },
  {
   "cell_type": "code",
   "execution_count": 165,
   "metadata": {},
   "outputs": [
    {
     "ename": "TypeError",
     "evalue": "merge() missing 1 required positional argument: 'right'",
     "output_type": "error",
     "traceback": [
      "\u001b[1;31m---------------------------------------------------------------------------\u001b[0m",
      "\u001b[1;31mTypeError\u001b[0m                                 Traceback (most recent call last)",
      "Cell \u001b[1;32mIn[165], line 2\u001b[0m\n\u001b[0;32m      1\u001b[0m \u001b[38;5;66;03m### Merging the sales and oil dataframes\u001b[39;00m\n\u001b[1;32m----> 2\u001b[0m combined_df \u001b[38;5;241m=\u001b[39m \u001b[43mpd\u001b[49m\u001b[38;5;241;43m.\u001b[39;49m\u001b[43mmerge\u001b[49m\u001b[43m(\u001b[49m\u001b[43m[\u001b[49m\u001b[43msales_df\u001b[49m\u001b[43m,\u001b[49m\u001b[43m \u001b[49m\u001b[43moil_df\u001b[49m\u001b[43m \u001b[49m\u001b[43m,\u001b[49m\u001b[43mhdays_df\u001b[49m\u001b[43m]\u001b[49m\u001b[43m,\u001b[49m\u001b[43m \u001b[49m\u001b[43mon\u001b[49m\u001b[38;5;241;43m=\u001b[39;49m\u001b[38;5;124;43m'\u001b[39;49m\u001b[38;5;124;43mdate\u001b[39;49m\u001b[38;5;124;43m'\u001b[39;49m\u001b[43m,\u001b[49m\u001b[43m \u001b[49m\u001b[43mhow\u001b[49m\u001b[38;5;241;43m=\u001b[39;49m\u001b[38;5;124;43m'\u001b[39;49m\u001b[38;5;124;43mleft\u001b[39;49m\u001b[38;5;124;43m'\u001b[39;49m\u001b[43m)\u001b[49m \n",
      "\u001b[1;31mTypeError\u001b[0m: merge() missing 1 required positional argument: 'right'"
     ]
    }
   ],
   "source": [
    "### Merging the sales and oil dataframes\n",
    "combined_df = pd.merge(sales_df, oil_df , on='date', how='left') \n",
    "                       "
   ]
  },
  {
   "cell_type": "code",
   "execution_count": 167,
   "metadata": {},
   "outputs": [
    {
     "data": {
      "text/html": [
       "<div>\n",
       "<style scoped>\n",
       "    .dataframe tbody tr th:only-of-type {\n",
       "        vertical-align: middle;\n",
       "    }\n",
       "\n",
       "    .dataframe tbody tr th {\n",
       "        vertical-align: top;\n",
       "    }\n",
       "\n",
       "    .dataframe thead th {\n",
       "        text-align: right;\n",
       "    }\n",
       "</style>\n",
       "<table border=\"1\" class=\"dataframe\">\n",
       "  <thead>\n",
       "    <tr style=\"text-align: right;\">\n",
       "      <th></th>\n",
       "      <th>index</th>\n",
       "      <th>id</th>\n",
       "      <th>date</th>\n",
       "      <th>store_nbr</th>\n",
       "      <th>family</th>\n",
       "      <th>sales</th>\n",
       "      <th>onpromotion</th>\n",
       "      <th>dcoilwtico</th>\n",
       "      <th>type</th>\n",
       "      <th>locale</th>\n",
       "      <th>locale_name</th>\n",
       "      <th>description</th>\n",
       "      <th>transferred</th>\n",
       "    </tr>\n",
       "  </thead>\n",
       "  <tbody>\n",
       "    <tr>\n",
       "      <th>0</th>\n",
       "      <td>0.0</td>\n",
       "      <td>0.0</td>\n",
       "      <td>2013-01-01</td>\n",
       "      <td>1.0</td>\n",
       "      <td>AUTOMOTIVE</td>\n",
       "      <td>0.0</td>\n",
       "      <td>0.0</td>\n",
       "      <td>NaN</td>\n",
       "      <td>Holiday</td>\n",
       "      <td>National</td>\n",
       "      <td>Ecuador</td>\n",
       "      <td>Primer dia del ano</td>\n",
       "      <td>False</td>\n",
       "    </tr>\n",
       "    <tr>\n",
       "      <th>1</th>\n",
       "      <td>1.0</td>\n",
       "      <td>1.0</td>\n",
       "      <td>2013-01-01</td>\n",
       "      <td>1.0</td>\n",
       "      <td>BABY CARE</td>\n",
       "      <td>0.0</td>\n",
       "      <td>0.0</td>\n",
       "      <td>NaN</td>\n",
       "      <td>Holiday</td>\n",
       "      <td>National</td>\n",
       "      <td>Ecuador</td>\n",
       "      <td>Primer dia del ano</td>\n",
       "      <td>False</td>\n",
       "    </tr>\n",
       "    <tr>\n",
       "      <th>2</th>\n",
       "      <td>2.0</td>\n",
       "      <td>2.0</td>\n",
       "      <td>2013-01-01</td>\n",
       "      <td>1.0</td>\n",
       "      <td>BEAUTY</td>\n",
       "      <td>0.0</td>\n",
       "      <td>0.0</td>\n",
       "      <td>NaN</td>\n",
       "      <td>Holiday</td>\n",
       "      <td>National</td>\n",
       "      <td>Ecuador</td>\n",
       "      <td>Primer dia del ano</td>\n",
       "      <td>False</td>\n",
       "    </tr>\n",
       "    <tr>\n",
       "      <th>3</th>\n",
       "      <td>3.0</td>\n",
       "      <td>3.0</td>\n",
       "      <td>2013-01-01</td>\n",
       "      <td>1.0</td>\n",
       "      <td>BEVERAGES</td>\n",
       "      <td>0.0</td>\n",
       "      <td>0.0</td>\n",
       "      <td>NaN</td>\n",
       "      <td>Holiday</td>\n",
       "      <td>National</td>\n",
       "      <td>Ecuador</td>\n",
       "      <td>Primer dia del ano</td>\n",
       "      <td>False</td>\n",
       "    </tr>\n",
       "    <tr>\n",
       "      <th>4</th>\n",
       "      <td>4.0</td>\n",
       "      <td>4.0</td>\n",
       "      <td>2013-01-01</td>\n",
       "      <td>1.0</td>\n",
       "      <td>BOOKS</td>\n",
       "      <td>0.0</td>\n",
       "      <td>0.0</td>\n",
       "      <td>NaN</td>\n",
       "      <td>Holiday</td>\n",
       "      <td>National</td>\n",
       "      <td>Ecuador</td>\n",
       "      <td>Primer dia del ano</td>\n",
       "      <td>False</td>\n",
       "    </tr>\n",
       "    <tr>\n",
       "      <th>5</th>\n",
       "      <td>5.0</td>\n",
       "      <td>5.0</td>\n",
       "      <td>2013-01-01</td>\n",
       "      <td>1.0</td>\n",
       "      <td>BREAD/BAKERY</td>\n",
       "      <td>0.0</td>\n",
       "      <td>0.0</td>\n",
       "      <td>NaN</td>\n",
       "      <td>Holiday</td>\n",
       "      <td>National</td>\n",
       "      <td>Ecuador</td>\n",
       "      <td>Primer dia del ano</td>\n",
       "      <td>False</td>\n",
       "    </tr>\n",
       "    <tr>\n",
       "      <th>6</th>\n",
       "      <td>6.0</td>\n",
       "      <td>6.0</td>\n",
       "      <td>2013-01-01</td>\n",
       "      <td>1.0</td>\n",
       "      <td>CELEBRATION</td>\n",
       "      <td>0.0</td>\n",
       "      <td>0.0</td>\n",
       "      <td>NaN</td>\n",
       "      <td>Holiday</td>\n",
       "      <td>National</td>\n",
       "      <td>Ecuador</td>\n",
       "      <td>Primer dia del ano</td>\n",
       "      <td>False</td>\n",
       "    </tr>\n",
       "    <tr>\n",
       "      <th>7</th>\n",
       "      <td>7.0</td>\n",
       "      <td>7.0</td>\n",
       "      <td>2013-01-01</td>\n",
       "      <td>1.0</td>\n",
       "      <td>CLEANING</td>\n",
       "      <td>0.0</td>\n",
       "      <td>0.0</td>\n",
       "      <td>NaN</td>\n",
       "      <td>Holiday</td>\n",
       "      <td>National</td>\n",
       "      <td>Ecuador</td>\n",
       "      <td>Primer dia del ano</td>\n",
       "      <td>False</td>\n",
       "    </tr>\n",
       "    <tr>\n",
       "      <th>8</th>\n",
       "      <td>8.0</td>\n",
       "      <td>8.0</td>\n",
       "      <td>2013-01-01</td>\n",
       "      <td>1.0</td>\n",
       "      <td>DAIRY</td>\n",
       "      <td>0.0</td>\n",
       "      <td>0.0</td>\n",
       "      <td>NaN</td>\n",
       "      <td>Holiday</td>\n",
       "      <td>National</td>\n",
       "      <td>Ecuador</td>\n",
       "      <td>Primer dia del ano</td>\n",
       "      <td>False</td>\n",
       "    </tr>\n",
       "    <tr>\n",
       "      <th>9</th>\n",
       "      <td>9.0</td>\n",
       "      <td>9.0</td>\n",
       "      <td>2013-01-01</td>\n",
       "      <td>1.0</td>\n",
       "      <td>DELI</td>\n",
       "      <td>0.0</td>\n",
       "      <td>0.0</td>\n",
       "      <td>NaN</td>\n",
       "      <td>Holiday</td>\n",
       "      <td>National</td>\n",
       "      <td>Ecuador</td>\n",
       "      <td>Primer dia del ano</td>\n",
       "      <td>False</td>\n",
       "    </tr>\n",
       "  </tbody>\n",
       "</table>\n",
       "</div>"
      ],
      "text/plain": [
       "   index   id       date  store_nbr        family  sales  onpromotion  \\\n",
       "0    0.0  0.0 2013-01-01        1.0    AUTOMOTIVE    0.0          0.0   \n",
       "1    1.0  1.0 2013-01-01        1.0     BABY CARE    0.0          0.0   \n",
       "2    2.0  2.0 2013-01-01        1.0        BEAUTY    0.0          0.0   \n",
       "3    3.0  3.0 2013-01-01        1.0     BEVERAGES    0.0          0.0   \n",
       "4    4.0  4.0 2013-01-01        1.0         BOOKS    0.0          0.0   \n",
       "5    5.0  5.0 2013-01-01        1.0  BREAD/BAKERY    0.0          0.0   \n",
       "6    6.0  6.0 2013-01-01        1.0   CELEBRATION    0.0          0.0   \n",
       "7    7.0  7.0 2013-01-01        1.0      CLEANING    0.0          0.0   \n",
       "8    8.0  8.0 2013-01-01        1.0         DAIRY    0.0          0.0   \n",
       "9    9.0  9.0 2013-01-01        1.0          DELI    0.0          0.0   \n",
       "\n",
       "   dcoilwtico     type    locale locale_name         description transferred  \n",
       "0         NaN  Holiday  National     Ecuador  Primer dia del ano       False  \n",
       "1         NaN  Holiday  National     Ecuador  Primer dia del ano       False  \n",
       "2         NaN  Holiday  National     Ecuador  Primer dia del ano       False  \n",
       "3         NaN  Holiday  National     Ecuador  Primer dia del ano       False  \n",
       "4         NaN  Holiday  National     Ecuador  Primer dia del ano       False  \n",
       "5         NaN  Holiday  National     Ecuador  Primer dia del ano       False  \n",
       "6         NaN  Holiday  National     Ecuador  Primer dia del ano       False  \n",
       "7         NaN  Holiday  National     Ecuador  Primer dia del ano       False  \n",
       "8         NaN  Holiday  National     Ecuador  Primer dia del ano       False  \n",
       "9         NaN  Holiday  National     Ecuador  Primer dia del ano       False  "
      ]
     },
     "execution_count": 167,
     "metadata": {},
     "output_type": "execute_result"
    }
   ],
   "source": [
    "### Merging the sales,holidays and oil dataframes\n",
    "combined_hso_df = pd.merge(combined_df, hdays_df , on='date', how='left') \n",
    "combined_hso_df.head(10)"
   ]
  },
  {
   "cell_type": "code",
   "execution_count": 168,
   "metadata": {},
   "outputs": [
    {
     "data": {
      "text/html": [
       "<div>\n",
       "<style scoped>\n",
       "    .dataframe tbody tr th:only-of-type {\n",
       "        vertical-align: middle;\n",
       "    }\n",
       "\n",
       "    .dataframe tbody tr th {\n",
       "        vertical-align: top;\n",
       "    }\n",
       "\n",
       "    .dataframe thead th {\n",
       "        text-align: right;\n",
       "    }\n",
       "</style>\n",
       "<table border=\"1\" class=\"dataframe\">\n",
       "  <thead>\n",
       "    <tr style=\"text-align: right;\">\n",
       "      <th></th>\n",
       "      <th>index</th>\n",
       "      <th>id</th>\n",
       "      <th>date</th>\n",
       "      <th>store_nbr</th>\n",
       "      <th>family</th>\n",
       "      <th>sales</th>\n",
       "      <th>onpromotion</th>\n",
       "      <th>dcoilwtico</th>\n",
       "      <th>type</th>\n",
       "      <th>locale</th>\n",
       "      <th>locale_name</th>\n",
       "      <th>description</th>\n",
       "      <th>transferred</th>\n",
       "    </tr>\n",
       "  </thead>\n",
       "  <tbody>\n",
       "    <tr>\n",
       "      <th>0</th>\n",
       "      <td>0.0</td>\n",
       "      <td>0.0</td>\n",
       "      <td>2013-01-01</td>\n",
       "      <td>1.0</td>\n",
       "      <td>AUTOMOTIVE</td>\n",
       "      <td>0.0</td>\n",
       "      <td>0.0</td>\n",
       "      <td>NaN</td>\n",
       "      <td>Holiday</td>\n",
       "      <td>National</td>\n",
       "      <td>Ecuador</td>\n",
       "      <td>Primer dia del ano</td>\n",
       "      <td>False</td>\n",
       "    </tr>\n",
       "    <tr>\n",
       "      <th>1</th>\n",
       "      <td>1.0</td>\n",
       "      <td>1.0</td>\n",
       "      <td>2013-01-01</td>\n",
       "      <td>1.0</td>\n",
       "      <td>BABY CARE</td>\n",
       "      <td>0.0</td>\n",
       "      <td>0.0</td>\n",
       "      <td>NaN</td>\n",
       "      <td>Holiday</td>\n",
       "      <td>National</td>\n",
       "      <td>Ecuador</td>\n",
       "      <td>Primer dia del ano</td>\n",
       "      <td>False</td>\n",
       "    </tr>\n",
       "    <tr>\n",
       "      <th>2</th>\n",
       "      <td>2.0</td>\n",
       "      <td>2.0</td>\n",
       "      <td>2013-01-01</td>\n",
       "      <td>1.0</td>\n",
       "      <td>BEAUTY</td>\n",
       "      <td>0.0</td>\n",
       "      <td>0.0</td>\n",
       "      <td>NaN</td>\n",
       "      <td>Holiday</td>\n",
       "      <td>National</td>\n",
       "      <td>Ecuador</td>\n",
       "      <td>Primer dia del ano</td>\n",
       "      <td>False</td>\n",
       "    </tr>\n",
       "    <tr>\n",
       "      <th>3</th>\n",
       "      <td>3.0</td>\n",
       "      <td>3.0</td>\n",
       "      <td>2013-01-01</td>\n",
       "      <td>1.0</td>\n",
       "      <td>BEVERAGES</td>\n",
       "      <td>0.0</td>\n",
       "      <td>0.0</td>\n",
       "      <td>NaN</td>\n",
       "      <td>Holiday</td>\n",
       "      <td>National</td>\n",
       "      <td>Ecuador</td>\n",
       "      <td>Primer dia del ano</td>\n",
       "      <td>False</td>\n",
       "    </tr>\n",
       "    <tr>\n",
       "      <th>4</th>\n",
       "      <td>4.0</td>\n",
       "      <td>4.0</td>\n",
       "      <td>2013-01-01</td>\n",
       "      <td>1.0</td>\n",
       "      <td>BOOKS</td>\n",
       "      <td>0.0</td>\n",
       "      <td>0.0</td>\n",
       "      <td>NaN</td>\n",
       "      <td>Holiday</td>\n",
       "      <td>National</td>\n",
       "      <td>Ecuador</td>\n",
       "      <td>Primer dia del ano</td>\n",
       "      <td>False</td>\n",
       "    </tr>\n",
       "    <tr>\n",
       "      <th>...</th>\n",
       "      <td>...</td>\n",
       "      <td>...</td>\n",
       "      <td>...</td>\n",
       "      <td>...</td>\n",
       "      <td>...</td>\n",
       "      <td>...</td>\n",
       "      <td>...</td>\n",
       "      <td>...</td>\n",
       "      <td>...</td>\n",
       "      <td>...</td>\n",
       "      <td>...</td>\n",
       "      <td>...</td>\n",
       "      <td>...</td>\n",
       "    </tr>\n",
       "    <tr>\n",
       "      <th>3056061</th>\n",
       "      <td>NaN</td>\n",
       "      <td>NaN</td>\n",
       "      <td>2017-08-11</td>\n",
       "      <td>NaN</td>\n",
       "      <td>NaN</td>\n",
       "      <td>NaN</td>\n",
       "      <td>NaN</td>\n",
       "      <td>48.810001</td>\n",
       "      <td>Transfer</td>\n",
       "      <td>National</td>\n",
       "      <td>Ecuador</td>\n",
       "      <td>Traslado Primer Grito de Independencia</td>\n",
       "      <td>False</td>\n",
       "    </tr>\n",
       "    <tr>\n",
       "      <th>3056062</th>\n",
       "      <td>NaN</td>\n",
       "      <td>NaN</td>\n",
       "      <td>2017-08-12</td>\n",
       "      <td>NaN</td>\n",
       "      <td>NaN</td>\n",
       "      <td>NaN</td>\n",
       "      <td>NaN</td>\n",
       "      <td>NaN</td>\n",
       "      <td>NaN</td>\n",
       "      <td>NaN</td>\n",
       "      <td>NaN</td>\n",
       "      <td>NaN</td>\n",
       "      <td>NaN</td>\n",
       "    </tr>\n",
       "    <tr>\n",
       "      <th>3056063</th>\n",
       "      <td>NaN</td>\n",
       "      <td>NaN</td>\n",
       "      <td>2017-08-13</td>\n",
       "      <td>NaN</td>\n",
       "      <td>NaN</td>\n",
       "      <td>NaN</td>\n",
       "      <td>NaN</td>\n",
       "      <td>NaN</td>\n",
       "      <td>NaN</td>\n",
       "      <td>NaN</td>\n",
       "      <td>NaN</td>\n",
       "      <td>NaN</td>\n",
       "      <td>NaN</td>\n",
       "    </tr>\n",
       "    <tr>\n",
       "      <th>3056064</th>\n",
       "      <td>NaN</td>\n",
       "      <td>NaN</td>\n",
       "      <td>2017-08-14</td>\n",
       "      <td>NaN</td>\n",
       "      <td>NaN</td>\n",
       "      <td>NaN</td>\n",
       "      <td>NaN</td>\n",
       "      <td>47.590000</td>\n",
       "      <td>NaN</td>\n",
       "      <td>NaN</td>\n",
       "      <td>NaN</td>\n",
       "      <td>NaN</td>\n",
       "      <td>NaN</td>\n",
       "    </tr>\n",
       "    <tr>\n",
       "      <th>3056065</th>\n",
       "      <td>NaN</td>\n",
       "      <td>NaN</td>\n",
       "      <td>2017-08-15</td>\n",
       "      <td>NaN</td>\n",
       "      <td>NaN</td>\n",
       "      <td>NaN</td>\n",
       "      <td>NaN</td>\n",
       "      <td>47.570000</td>\n",
       "      <td>Holiday</td>\n",
       "      <td>Local</td>\n",
       "      <td>Riobamba</td>\n",
       "      <td>Fundacion de Riobamba</td>\n",
       "      <td>False</td>\n",
       "    </tr>\n",
       "  </tbody>\n",
       "</table>\n",
       "<p>3056066 rows × 13 columns</p>\n",
       "</div>"
      ],
      "text/plain": [
       "         index   id       date  store_nbr      family  sales  onpromotion  \\\n",
       "0          0.0  0.0 2013-01-01        1.0  AUTOMOTIVE    0.0          0.0   \n",
       "1          1.0  1.0 2013-01-01        1.0   BABY CARE    0.0          0.0   \n",
       "2          2.0  2.0 2013-01-01        1.0      BEAUTY    0.0          0.0   \n",
       "3          3.0  3.0 2013-01-01        1.0   BEVERAGES    0.0          0.0   \n",
       "4          4.0  4.0 2013-01-01        1.0       BOOKS    0.0          0.0   \n",
       "...        ...  ...        ...        ...         ...    ...          ...   \n",
       "3056061    NaN  NaN 2017-08-11        NaN         NaN    NaN          NaN   \n",
       "3056062    NaN  NaN 2017-08-12        NaN         NaN    NaN          NaN   \n",
       "3056063    NaN  NaN 2017-08-13        NaN         NaN    NaN          NaN   \n",
       "3056064    NaN  NaN 2017-08-14        NaN         NaN    NaN          NaN   \n",
       "3056065    NaN  NaN 2017-08-15        NaN         NaN    NaN          NaN   \n",
       "\n",
       "         dcoilwtico      type    locale locale_name  \\\n",
       "0               NaN   Holiday  National     Ecuador   \n",
       "1               NaN   Holiday  National     Ecuador   \n",
       "2               NaN   Holiday  National     Ecuador   \n",
       "3               NaN   Holiday  National     Ecuador   \n",
       "4               NaN   Holiday  National     Ecuador   \n",
       "...             ...       ...       ...         ...   \n",
       "3056061   48.810001  Transfer  National     Ecuador   \n",
       "3056062         NaN       NaN       NaN         NaN   \n",
       "3056063         NaN       NaN       NaN         NaN   \n",
       "3056064   47.590000       NaN       NaN         NaN   \n",
       "3056065   47.570000   Holiday     Local    Riobamba   \n",
       "\n",
       "                                    description transferred  \n",
       "0                            Primer dia del ano       False  \n",
       "1                            Primer dia del ano       False  \n",
       "2                            Primer dia del ano       False  \n",
       "3                            Primer dia del ano       False  \n",
       "4                            Primer dia del ano       False  \n",
       "...                                         ...         ...  \n",
       "3056061  Traslado Primer Grito de Independencia       False  \n",
       "3056062                                     NaN         NaN  \n",
       "3056063                                     NaN         NaN  \n",
       "3056064                                     NaN         NaN  \n",
       "3056065                   Fundacion de Riobamba       False  \n",
       "\n",
       "[3056066 rows x 13 columns]"
      ]
     },
     "execution_count": 168,
     "metadata": {},
     "output_type": "execute_result"
    }
   ],
   "source": [
    "combined_ts_df = pd.merge(combined_df, hdays_df , on='date', how='left') \n",
    "combined_ts_df.head(10)\n"
   ]
  },
  {
   "cell_type": "code",
   "execution_count": 162,
   "metadata": {},
   "outputs": [
    {
     "name": "stdout",
     "output_type": "stream",
     "text": [
      "2013-01-01 00:00:00 \n",
      "\n",
      " 2017-08-15 00:00:00\n",
      "DatetimeIndex(['2013-12-25', '2014-12-25', '2015-12-25', '2016-01-01',\n",
      "               '2016-01-03', '2016-12-25'],\n",
      "              dtype='datetime64[ns]', freq=None)\n"
     ]
    }
   ],
   "source": [
    "### finding missing days in the sales data\n",
    "transact_df.isnull().sum()\n",
    "\n",
    "start_day = transact_df.index.min()\n",
    "end_day = transact_df.index.max()\n",
    "\n",
    "print(f'{start_day} \\n\\n {end_day}')\n",
    "\n",
    "existing_date = pd.date_range(start=start_day,end = end_day,freq=\"D\")\n",
    "\n",
    "missing_dates = existing_date[~existing_date.isin(transact_df.index)]\n",
    "print(missing_dates)"
   ]
  },
  {
   "cell_type": "code",
   "execution_count": 163,
   "metadata": {},
   "outputs": [
    {
     "name": "stdout",
     "output_type": "stream",
     "text": [
      "Day names for specific dates:\n",
      "2013-12-25 00:00:00: Wednesday\n",
      "2014-12-25 00:00:00: Thursday\n",
      "2015-12-25 00:00:00: Friday\n",
      "2016-01-01 00:00:00: Friday\n",
      "2016-01-03 00:00:00: Sunday\n",
      "2016-12-25 00:00:00: Sunday\n"
     ]
    }
   ],
   "source": [
    "day_names = []\n",
    "# Get day names for each specific date\n",
    "for date in missing_dates:\n",
    "    day = get_day_name(date)\n",
    "    day_names.append(day)\n",
    "\n",
    "\n",
    "print(\"Day names for specific dates:\")\n",
    "for date, day_name in zip(missing_dates, day_names):\n",
    "    print(f\"{date}: {day_name}\")\n",
    "\n",
    "# Create a DataFrame for missing dates\n",
    "missing_dates_df = pd.DataFrame({'date': pd.to_datetime(missing_dates)})\n",
    "    "
   ]
  },
  {
   "cell_type": "markdown",
   "metadata": {},
   "source": [
    "### Observation\n",
    "holidays only"
   ]
  },
  {
   "cell_type": "markdown",
   "metadata": {},
   "source": [
    "#### Merging the sales,transactions and oil data"
   ]
  },
  {
   "cell_type": "code",
   "execution_count": 164,
   "metadata": {},
   "outputs": [
    {
     "data": {
      "text/html": [
       "<div>\n",
       "<style scoped>\n",
       "    .dataframe tbody tr th:only-of-type {\n",
       "        vertical-align: middle;\n",
       "    }\n",
       "\n",
       "    .dataframe tbody tr th {\n",
       "        vertical-align: top;\n",
       "    }\n",
       "\n",
       "    .dataframe thead th {\n",
       "        text-align: right;\n",
       "    }\n",
       "</style>\n",
       "<table border=\"1\" class=\"dataframe\">\n",
       "  <thead>\n",
       "    <tr style=\"text-align: right;\">\n",
       "      <th></th>\n",
       "      <th>index</th>\n",
       "      <th>id</th>\n",
       "      <th>date</th>\n",
       "      <th>store_nbr_x</th>\n",
       "      <th>family</th>\n",
       "      <th>sales</th>\n",
       "      <th>onpromotion</th>\n",
       "      <th>dcoilwtico</th>\n",
       "      <th>store_nbr_y</th>\n",
       "      <th>transactions</th>\n",
       "    </tr>\n",
       "  </thead>\n",
       "  <tbody>\n",
       "    <tr>\n",
       "      <th>0</th>\n",
       "      <td>0.0</td>\n",
       "      <td>0.0</td>\n",
       "      <td>2013-01-01</td>\n",
       "      <td>1.0</td>\n",
       "      <td>AUTOMOTIVE</td>\n",
       "      <td>0.0</td>\n",
       "      <td>0.0</td>\n",
       "      <td>NaN</td>\n",
       "      <td>25.0</td>\n",
       "      <td>770.0</td>\n",
       "    </tr>\n",
       "    <tr>\n",
       "      <th>1</th>\n",
       "      <td>1.0</td>\n",
       "      <td>1.0</td>\n",
       "      <td>2013-01-01</td>\n",
       "      <td>1.0</td>\n",
       "      <td>BABY CARE</td>\n",
       "      <td>0.0</td>\n",
       "      <td>0.0</td>\n",
       "      <td>NaN</td>\n",
       "      <td>25.0</td>\n",
       "      <td>770.0</td>\n",
       "    </tr>\n",
       "    <tr>\n",
       "      <th>2</th>\n",
       "      <td>2.0</td>\n",
       "      <td>2.0</td>\n",
       "      <td>2013-01-01</td>\n",
       "      <td>1.0</td>\n",
       "      <td>BEAUTY</td>\n",
       "      <td>0.0</td>\n",
       "      <td>0.0</td>\n",
       "      <td>NaN</td>\n",
       "      <td>25.0</td>\n",
       "      <td>770.0</td>\n",
       "    </tr>\n",
       "    <tr>\n",
       "      <th>3</th>\n",
       "      <td>3.0</td>\n",
       "      <td>3.0</td>\n",
       "      <td>2013-01-01</td>\n",
       "      <td>1.0</td>\n",
       "      <td>BEVERAGES</td>\n",
       "      <td>0.0</td>\n",
       "      <td>0.0</td>\n",
       "      <td>NaN</td>\n",
       "      <td>25.0</td>\n",
       "      <td>770.0</td>\n",
       "    </tr>\n",
       "    <tr>\n",
       "      <th>4</th>\n",
       "      <td>4.0</td>\n",
       "      <td>4.0</td>\n",
       "      <td>2013-01-01</td>\n",
       "      <td>1.0</td>\n",
       "      <td>BOOKS</td>\n",
       "      <td>0.0</td>\n",
       "      <td>0.0</td>\n",
       "      <td>NaN</td>\n",
       "      <td>25.0</td>\n",
       "      <td>770.0</td>\n",
       "    </tr>\n",
       "    <tr>\n",
       "      <th>...</th>\n",
       "      <td>...</td>\n",
       "      <td>...</td>\n",
       "      <td>...</td>\n",
       "      <td>...</td>\n",
       "      <td>...</td>\n",
       "      <td>...</td>\n",
       "      <td>...</td>\n",
       "      <td>...</td>\n",
       "      <td>...</td>\n",
       "      <td>...</td>\n",
       "    </tr>\n",
       "    <tr>\n",
       "      <th>148862669</th>\n",
       "      <td>NaN</td>\n",
       "      <td>NaN</td>\n",
       "      <td>2017-08-15</td>\n",
       "      <td>NaN</td>\n",
       "      <td>NaN</td>\n",
       "      <td>NaN</td>\n",
       "      <td>NaN</td>\n",
       "      <td>47.57</td>\n",
       "      <td>50.0</td>\n",
       "      <td>2804.0</td>\n",
       "    </tr>\n",
       "    <tr>\n",
       "      <th>148862670</th>\n",
       "      <td>NaN</td>\n",
       "      <td>NaN</td>\n",
       "      <td>2017-08-15</td>\n",
       "      <td>NaN</td>\n",
       "      <td>NaN</td>\n",
       "      <td>NaN</td>\n",
       "      <td>NaN</td>\n",
       "      <td>47.57</td>\n",
       "      <td>51.0</td>\n",
       "      <td>1573.0</td>\n",
       "    </tr>\n",
       "    <tr>\n",
       "      <th>148862671</th>\n",
       "      <td>NaN</td>\n",
       "      <td>NaN</td>\n",
       "      <td>2017-08-15</td>\n",
       "      <td>NaN</td>\n",
       "      <td>NaN</td>\n",
       "      <td>NaN</td>\n",
       "      <td>NaN</td>\n",
       "      <td>47.57</td>\n",
       "      <td>52.0</td>\n",
       "      <td>2255.0</td>\n",
       "    </tr>\n",
       "    <tr>\n",
       "      <th>148862672</th>\n",
       "      <td>NaN</td>\n",
       "      <td>NaN</td>\n",
       "      <td>2017-08-15</td>\n",
       "      <td>NaN</td>\n",
       "      <td>NaN</td>\n",
       "      <td>NaN</td>\n",
       "      <td>NaN</td>\n",
       "      <td>47.57</td>\n",
       "      <td>53.0</td>\n",
       "      <td>932.0</td>\n",
       "    </tr>\n",
       "    <tr>\n",
       "      <th>148862673</th>\n",
       "      <td>NaN</td>\n",
       "      <td>NaN</td>\n",
       "      <td>2017-08-15</td>\n",
       "      <td>NaN</td>\n",
       "      <td>NaN</td>\n",
       "      <td>NaN</td>\n",
       "      <td>NaN</td>\n",
       "      <td>47.57</td>\n",
       "      <td>54.0</td>\n",
       "      <td>802.0</td>\n",
       "    </tr>\n",
       "  </tbody>\n",
       "</table>\n",
       "<p>148862674 rows × 10 columns</p>\n",
       "</div>"
      ],
      "text/plain": [
       "           index   id       date  store_nbr_x      family  sales  onpromotion  \\\n",
       "0            0.0  0.0 2013-01-01          1.0  AUTOMOTIVE    0.0          0.0   \n",
       "1            1.0  1.0 2013-01-01          1.0   BABY CARE    0.0          0.0   \n",
       "2            2.0  2.0 2013-01-01          1.0      BEAUTY    0.0          0.0   \n",
       "3            3.0  3.0 2013-01-01          1.0   BEVERAGES    0.0          0.0   \n",
       "4            4.0  4.0 2013-01-01          1.0       BOOKS    0.0          0.0   \n",
       "...          ...  ...        ...          ...         ...    ...          ...   \n",
       "148862669    NaN  NaN 2017-08-15          NaN         NaN    NaN          NaN   \n",
       "148862670    NaN  NaN 2017-08-15          NaN         NaN    NaN          NaN   \n",
       "148862671    NaN  NaN 2017-08-15          NaN         NaN    NaN          NaN   \n",
       "148862672    NaN  NaN 2017-08-15          NaN         NaN    NaN          NaN   \n",
       "148862673    NaN  NaN 2017-08-15          NaN         NaN    NaN          NaN   \n",
       "\n",
       "           dcoilwtico  store_nbr_y  transactions  \n",
       "0                 NaN         25.0         770.0  \n",
       "1                 NaN         25.0         770.0  \n",
       "2                 NaN         25.0         770.0  \n",
       "3                 NaN         25.0         770.0  \n",
       "4                 NaN         25.0         770.0  \n",
       "...               ...          ...           ...  \n",
       "148862669       47.57         50.0        2804.0  \n",
       "148862670       47.57         51.0        1573.0  \n",
       "148862671       47.57         52.0        2255.0  \n",
       "148862672       47.57         53.0         932.0  \n",
       "148862673       47.57         54.0         802.0  \n",
       "\n",
       "[148862674 rows x 10 columns]"
      ]
     },
     "execution_count": 164,
     "metadata": {},
     "output_type": "execute_result"
    }
   ],
   "source": [
    "# whole_df = pd.merge(combined_df, transact_df , on='date', how='left') \n",
    "# whole_df"
   ]
  },
  {
   "cell_type": "code",
   "execution_count": null,
   "metadata": {},
   "outputs": [],
   "source": []
  },
  {
   "cell_type": "code",
   "execution_count": null,
   "metadata": {},
   "outputs": [],
   "source": []
  },
  {
   "cell_type": "code",
   "execution_count": null,
   "metadata": {},
   "outputs": [],
   "source": []
  },
  {
   "cell_type": "code",
   "execution_count": 111,
   "metadata": {},
   "outputs": [
    {
     "data": {
      "text/plain": [
       "DatetimeIndex(['2013-12-25', '2014-12-25', '2015-12-25', '2016-12-25'], dtype='datetime64[ns]', freq=None)"
      ]
     },
     "execution_count": 111,
     "metadata": {},
     "output_type": "execute_result"
    }
   ],
   "source": [
    "missing_dates"
   ]
  },
  {
   "cell_type": "code",
   "execution_count": 109,
   "metadata": {},
   "outputs": [],
   "source": [
    "# function to create the year,month and days\n",
    "def calender(df): \n",
    "    try:\n",
    "        df['monthname'] = df['date'].dt.month_name()\n",
    "        df['dayname'] = df['date'].dt.day_name()\n",
    "        df['year'] = df['date'].dt.year\n",
    "    except KeyError:\n",
    "        df['date'] = df.index\n",
    "        df['monthname'] = df['date'].dt.month_name()\n",
    "        df['dayname'] = df['date'].dt.day_name()\n",
    "        df['year'] = df['date'].dt.year\n",
    "    return df"
   ]
  },
  {
   "cell_type": "code",
   "execution_count": 68,
   "metadata": {},
   "outputs": [],
   "source": [
    "sales_df = calender(sales_df)\n",
    "transact_df = calender(transact_df)\n",
    "hdays_df = calender(hdays_df)\n",
    "oil_df = calender(oil_df)\n"
   ]
  },
  {
   "cell_type": "markdown",
   "metadata": {},
   "source": [
    "#### SALES"
   ]
  },
  {
   "cell_type": "code",
   "execution_count": 85,
   "metadata": {},
   "outputs": [
    {
     "data": {
      "application/vnd.plotly.v1+json": {
       "config": {
        "plotlyServerURL": "https://plot.ly"
       },
       "data": [
        {
         "hovertemplate": "date=%{x}<br>sales=%{y}<extra></extra>",
         "legendgroup": "",
         "line": {
          "color": "#636efa",
          "dash": "solid"
         },
         "marker": {
          "symbol": "circle"
         },
         "mode": "lines",
         "name": "",
         "orientation": "v",
         "showlegend": false,
         "type": "scatter",
         "x": [
          "2013-01-06T00:00:00",
          "2013-01-13T00:00:00",
          "2013-01-20T00:00:00",
          "2013-01-27T00:00:00",
          "2013-02-03T00:00:00",
          "2013-02-10T00:00:00",
          "2013-02-17T00:00:00",
          "2013-02-24T00:00:00",
          "2013-03-03T00:00:00",
          "2013-03-10T00:00:00",
          "2013-03-17T00:00:00",
          "2013-03-24T00:00:00",
          "2013-03-31T00:00:00",
          "2013-04-07T00:00:00",
          "2013-04-14T00:00:00",
          "2013-04-21T00:00:00",
          "2013-04-28T00:00:00",
          "2013-05-05T00:00:00",
          "2013-05-12T00:00:00",
          "2013-05-19T00:00:00",
          "2013-05-26T00:00:00",
          "2013-06-02T00:00:00",
          "2013-06-09T00:00:00",
          "2013-06-16T00:00:00",
          "2013-06-23T00:00:00",
          "2013-06-30T00:00:00",
          "2013-07-07T00:00:00",
          "2013-07-14T00:00:00",
          "2013-07-21T00:00:00",
          "2013-07-28T00:00:00",
          "2013-08-04T00:00:00",
          "2013-08-11T00:00:00",
          "2013-08-18T00:00:00",
          "2013-08-25T00:00:00",
          "2013-09-01T00:00:00",
          "2013-09-08T00:00:00",
          "2013-09-15T00:00:00",
          "2013-09-22T00:00:00",
          "2013-09-29T00:00:00",
          "2013-10-06T00:00:00",
          "2013-10-13T00:00:00",
          "2013-10-20T00:00:00",
          "2013-10-27T00:00:00",
          "2013-11-03T00:00:00",
          "2013-11-10T00:00:00",
          "2013-11-17T00:00:00",
          "2013-11-24T00:00:00",
          "2013-12-01T00:00:00",
          "2013-12-08T00:00:00",
          "2013-12-15T00:00:00",
          "2013-12-22T00:00:00",
          "2013-12-29T00:00:00",
          "2014-01-05T00:00:00",
          "2014-01-12T00:00:00",
          "2014-01-19T00:00:00",
          "2014-01-26T00:00:00",
          "2014-02-02T00:00:00",
          "2014-02-09T00:00:00",
          "2014-02-16T00:00:00",
          "2014-02-23T00:00:00",
          "2014-03-02T00:00:00",
          "2014-03-09T00:00:00",
          "2014-03-16T00:00:00",
          "2014-03-23T00:00:00",
          "2014-03-30T00:00:00",
          "2014-04-06T00:00:00",
          "2014-04-13T00:00:00",
          "2014-04-20T00:00:00",
          "2014-04-27T00:00:00",
          "2014-05-04T00:00:00",
          "2014-05-11T00:00:00",
          "2014-05-18T00:00:00",
          "2014-05-25T00:00:00",
          "2014-06-01T00:00:00",
          "2014-06-08T00:00:00",
          "2014-06-15T00:00:00",
          "2014-06-22T00:00:00",
          "2014-06-29T00:00:00",
          "2014-07-06T00:00:00",
          "2014-07-13T00:00:00",
          "2014-07-20T00:00:00",
          "2014-07-27T00:00:00",
          "2014-08-03T00:00:00",
          "2014-08-10T00:00:00",
          "2014-08-17T00:00:00",
          "2014-08-24T00:00:00",
          "2014-08-31T00:00:00",
          "2014-09-07T00:00:00",
          "2014-09-14T00:00:00",
          "2014-09-21T00:00:00",
          "2014-09-28T00:00:00",
          "2014-10-05T00:00:00",
          "2014-10-12T00:00:00",
          "2014-10-19T00:00:00",
          "2014-10-26T00:00:00",
          "2014-11-02T00:00:00",
          "2014-11-09T00:00:00",
          "2014-11-16T00:00:00",
          "2014-11-23T00:00:00",
          "2014-11-30T00:00:00",
          "2014-12-07T00:00:00",
          "2014-12-14T00:00:00",
          "2014-12-21T00:00:00",
          "2014-12-28T00:00:00",
          "2015-01-04T00:00:00",
          "2015-01-11T00:00:00",
          "2015-01-18T00:00:00",
          "2015-01-25T00:00:00",
          "2015-02-01T00:00:00",
          "2015-02-08T00:00:00",
          "2015-02-15T00:00:00",
          "2015-02-22T00:00:00",
          "2015-03-01T00:00:00",
          "2015-03-08T00:00:00",
          "2015-03-15T00:00:00",
          "2015-03-22T00:00:00",
          "2015-03-29T00:00:00",
          "2015-04-05T00:00:00",
          "2015-04-12T00:00:00",
          "2015-04-19T00:00:00",
          "2015-04-26T00:00:00",
          "2015-05-03T00:00:00",
          "2015-05-10T00:00:00",
          "2015-05-17T00:00:00",
          "2015-05-24T00:00:00",
          "2015-05-31T00:00:00",
          "2015-06-07T00:00:00",
          "2015-06-14T00:00:00",
          "2015-06-21T00:00:00",
          "2015-06-28T00:00:00",
          "2015-07-05T00:00:00",
          "2015-07-12T00:00:00",
          "2015-07-19T00:00:00",
          "2015-07-26T00:00:00",
          "2015-08-02T00:00:00",
          "2015-08-09T00:00:00",
          "2015-08-16T00:00:00",
          "2015-08-23T00:00:00",
          "2015-08-30T00:00:00",
          "2015-09-06T00:00:00",
          "2015-09-13T00:00:00",
          "2015-09-20T00:00:00",
          "2015-09-27T00:00:00",
          "2015-10-04T00:00:00",
          "2015-10-11T00:00:00",
          "2015-10-18T00:00:00",
          "2015-10-25T00:00:00",
          "2015-11-01T00:00:00",
          "2015-11-08T00:00:00",
          "2015-11-15T00:00:00",
          "2015-11-22T00:00:00",
          "2015-11-29T00:00:00",
          "2015-12-06T00:00:00",
          "2015-12-13T00:00:00",
          "2015-12-20T00:00:00",
          "2015-12-27T00:00:00",
          "2016-01-03T00:00:00",
          "2016-01-10T00:00:00",
          "2016-01-17T00:00:00",
          "2016-01-24T00:00:00",
          "2016-01-31T00:00:00",
          "2016-02-07T00:00:00",
          "2016-02-14T00:00:00",
          "2016-02-21T00:00:00",
          "2016-02-28T00:00:00",
          "2016-03-06T00:00:00",
          "2016-03-13T00:00:00",
          "2016-03-20T00:00:00",
          "2016-03-27T00:00:00",
          "2016-04-03T00:00:00",
          "2016-04-10T00:00:00",
          "2016-04-17T00:00:00",
          "2016-04-24T00:00:00",
          "2016-05-01T00:00:00",
          "2016-05-08T00:00:00",
          "2016-05-15T00:00:00",
          "2016-05-22T00:00:00",
          "2016-05-29T00:00:00",
          "2016-06-05T00:00:00",
          "2016-06-12T00:00:00",
          "2016-06-19T00:00:00",
          "2016-06-26T00:00:00",
          "2016-07-03T00:00:00",
          "2016-07-10T00:00:00",
          "2016-07-17T00:00:00",
          "2016-07-24T00:00:00",
          "2016-07-31T00:00:00",
          "2016-08-07T00:00:00",
          "2016-08-14T00:00:00",
          "2016-08-21T00:00:00",
          "2016-08-28T00:00:00",
          "2016-09-04T00:00:00",
          "2016-09-11T00:00:00",
          "2016-09-18T00:00:00",
          "2016-09-25T00:00:00",
          "2016-10-02T00:00:00",
          "2016-10-09T00:00:00",
          "2016-10-16T00:00:00",
          "2016-10-23T00:00:00",
          "2016-10-30T00:00:00",
          "2016-11-06T00:00:00",
          "2016-11-13T00:00:00",
          "2016-11-20T00:00:00",
          "2016-11-27T00:00:00",
          "2016-12-04T00:00:00",
          "2016-12-11T00:00:00",
          "2016-12-18T00:00:00",
          "2016-12-25T00:00:00",
          "2017-01-01T00:00:00",
          "2017-01-08T00:00:00",
          "2017-01-15T00:00:00",
          "2017-01-22T00:00:00",
          "2017-01-29T00:00:00",
          "2017-02-05T00:00:00",
          "2017-02-12T00:00:00",
          "2017-02-19T00:00:00",
          "2017-02-26T00:00:00",
          "2017-03-05T00:00:00",
          "2017-03-12T00:00:00",
          "2017-03-19T00:00:00",
          "2017-03-26T00:00:00",
          "2017-04-02T00:00:00",
          "2017-04-09T00:00:00",
          "2017-04-16T00:00:00",
          "2017-04-23T00:00:00",
          "2017-04-30T00:00:00",
          "2017-05-07T00:00:00",
          "2017-05-14T00:00:00",
          "2017-05-21T00:00:00",
          "2017-05-28T00:00:00",
          "2017-06-04T00:00:00",
          "2017-06-11T00:00:00",
          "2017-06-18T00:00:00",
          "2017-06-25T00:00:00",
          "2017-07-02T00:00:00",
          "2017-07-09T00:00:00",
          "2017-07-16T00:00:00",
          "2017-07-23T00:00:00",
          "2017-07-30T00:00:00",
          "2017-08-06T00:00:00",
          "2017-08-13T00:00:00",
          "2017-08-20T00:00:00"
         ],
         "xaxis": "x",
         "y": [
          2211570.4674767,
          2373617.836207,
          2368007.4300495,
          2272164.6700988,
          2476890.6712285,
          2342469.6602487,
          2420608.6146911,
          2377200.9905385,
          2630630.1241565,
          2576383.71325,
          2437164.704186,
          2421728.277832,
          2506644.3918705,
          2853886.1106533,
          2515310.0187517,
          2546253.942067,
          2439032.3256278,
          2970565.7558423,
          2561396.343228,
          2624865.236956,
          2506962.9401195,
          2777496.381739,
          2826095.622215,
          2505474.4978727,
          2575977.657202,
          2577195.9750079,
          2865810.9362295,
          2458695.9153208,
          2482490.8780433,
          2442372.6240907,
          2830640.8140586,
          2632979.7559258,
          2579439.5207651,
          2543506.163698,
          2799659.1408967,
          2994540.145991,
          2619980.4286782,
          2597994.8685458,
          2572943.1167636,
          3038196.4132898,
          2638765.1460602,
          2665870.6200407,
          2532891.582053,
          2814014.3931107,
          3010347.4601802,
          2816870.4110483,
          2750989.4107634,
          2929519.7959622,
          3289179.2357175,
          3295528.9957997,
          3957545.872051,
          3420246.5165184,
          4518933.2114909,
          4473284.3333625,
          4309499.942233,
          4202617.1906877,
          3818381.1586103,
          3063457.8923709,
          2985537.1633819,
          2855480.2953675,
          3443974.8576347,
          4986448.044709,
          4367128.5817075,
          4396350.200347,
          4385083.3693938,
          3661812.864003,
          2961873.2660933,
          2966320.6232026,
          2877354.583387,
          3275912.5820545,
          2958823.643308,
          3000849.4921061,
          2850335.075194,
          3082287.5286954,
          3313556.5131968,
          2926385.898065,
          3032540.6439188,
          2875418.2323845,
          4812087.5595749,
          4294313.600321,
          4320366.7803601,
          4205286.6248002,
          3978419.1726542,
          3054621.1751974,
          2977371.3172608,
          2982636.585604,
          3111288.7023045,
          5279048.4768097,
          4564209.3864552,
          4596048.041167,
          4397333.47165,
          5197007.2808827,
          4653362.8788076,
          4640156.278585,
          4423455.15412,
          4251287.1996238,
          5303735.6404385,
          4497784.988293,
          4505464.8548904,
          4641258.979907,
          5325543.5443825,
          5264767.8913525,
          5850665.0824374,
          5368128.4416048,
          4581690.875962,
          3662996.663444,
          3332458.0538805,
          3269002.8091845,
          3397417.5347315,
          3533020.216905,
          3134913.8209002,
          3585462.159817,
          3494140.153732,
          3730997.983807,
          3460576.7383238,
          3392165.9001175,
          3313274.189132,
          3786830.350098,
          3560792.903056,
          3484101.482566,
          3373276.357952,
          3759674.2641745,
          3760892.171969,
          3811072.453447,
          3681894.532841,
          4348059.627032,
          5555244.2578682,
          4887221.9388835,
          4959274.7982519,
          4904998.7389865,
          5673959.0191005,
          5085498.408166,
          4872479.969647,
          4774398.3750817,
          5200294.1490747,
          4972290.8571813,
          5274352.3579497,
          4869706.632172,
          4982781.5767098,
          6205734.9595757,
          5324272.2308302,
          5333439.2309115,
          5162014.347575,
          6032141.6241195,
          5544143.37064,
          5296285.842336,
          5097209.7010116,
          4719311.7757005,
          5979377.1269675,
          5054288.7779906,
          5125026.2873349,
          5064974.6638847,
          6022485.4937587,
          5623710.9528751,
          6425674.0576363,
          6279015.077695,
          5964978.7545621,
          6063978.9663155,
          5263423.232019,
          5168392.7819954,
          5172163.3663472,
          5468317.8436395,
          5318236.997757,
          5307335.2011458,
          5126899.000635,
          6029690.5003928,
          5165530.5276879,
          5147911.9184724,
          4955530.4394377,
          5849937.4476596,
          5480297.1796477,
          5337964.219358,
          7480088.1928387,
          5644596.5256728,
          5866987.208812,
          5465750.8998326,
          5310199.8891736,
          5139592.6457868,
          6110935.802435,
          5063168.3297257,
          5184735.418113,
          5108840.5533596,
          5530545.2895665,
          5412026.5507841,
          4987906.6665631,
          4918262.3846201,
          5082250.4273828,
          5543218.5400281,
          4828315.7891097,
          5151623.7768006,
          4901269.0160393,
          5750789.4229352,
          5492016.3459873,
          5084585.8474305,
          5010213.3215651,
          5539344.1841921,
          5706730.7211741,
          5237643.2960992,
          5107953.4130068,
          4891625.0538441,
          6116187.8713,
          5827590.7278355,
          5672285.3407707,
          5515793.7798468,
          6252399.8297637,
          6185419.3568323,
          6419845.0444831,
          6954785.2891776,
          6005626.5407374,
          7410348.156386,
          5902413.5966886,
          5911570.7531251,
          5615398.8745464,
          6306449.4938883,
          5706049.2654455,
          5509823.9110941,
          5509811.9812824,
          6744430.4796597,
          5907994.3928354,
          5978472.4478847,
          5939389.570158,
          6429788.598887,
          6056292.4750247,
          5634508.93912,
          5815469.4443624,
          5787303.609691,
          6902522.204005,
          5672860.2348045,
          6112116.771036,
          5847001.477308,
          6615276.6850565,
          6230842.9041592,
          5840051.0742915,
          5771429.7838312,
          6106477.3805162,
          6207049.1354799,
          5748515.429067,
          5744335.1641688,
          5921811.856823,
          6410193.6061545,
          5385401.8334737,
          1523584.3420198
         ],
         "yaxis": "y"
        }
       ],
       "layout": {
        "legend": {
         "tracegroupgap": 0
        },
        "margin": {
         "t": 60
        },
        "template": {
         "data": {
          "bar": [
           {
            "error_x": {
             "color": "#2a3f5f"
            },
            "error_y": {
             "color": "#2a3f5f"
            },
            "marker": {
             "line": {
              "color": "#E5ECF6",
              "width": 0.5
             },
             "pattern": {
              "fillmode": "overlay",
              "size": 10,
              "solidity": 0.2
             }
            },
            "type": "bar"
           }
          ],
          "barpolar": [
           {
            "marker": {
             "line": {
              "color": "#E5ECF6",
              "width": 0.5
             },
             "pattern": {
              "fillmode": "overlay",
              "size": 10,
              "solidity": 0.2
             }
            },
            "type": "barpolar"
           }
          ],
          "carpet": [
           {
            "aaxis": {
             "endlinecolor": "#2a3f5f",
             "gridcolor": "white",
             "linecolor": "white",
             "minorgridcolor": "white",
             "startlinecolor": "#2a3f5f"
            },
            "baxis": {
             "endlinecolor": "#2a3f5f",
             "gridcolor": "white",
             "linecolor": "white",
             "minorgridcolor": "white",
             "startlinecolor": "#2a3f5f"
            },
            "type": "carpet"
           }
          ],
          "choropleth": [
           {
            "colorbar": {
             "outlinewidth": 0,
             "ticks": ""
            },
            "type": "choropleth"
           }
          ],
          "contour": [
           {
            "colorbar": {
             "outlinewidth": 0,
             "ticks": ""
            },
            "colorscale": [
             [
              0,
              "#0d0887"
             ],
             [
              0.1111111111111111,
              "#46039f"
             ],
             [
              0.2222222222222222,
              "#7201a8"
             ],
             [
              0.3333333333333333,
              "#9c179e"
             ],
             [
              0.4444444444444444,
              "#bd3786"
             ],
             [
              0.5555555555555556,
              "#d8576b"
             ],
             [
              0.6666666666666666,
              "#ed7953"
             ],
             [
              0.7777777777777778,
              "#fb9f3a"
             ],
             [
              0.8888888888888888,
              "#fdca26"
             ],
             [
              1,
              "#f0f921"
             ]
            ],
            "type": "contour"
           }
          ],
          "contourcarpet": [
           {
            "colorbar": {
             "outlinewidth": 0,
             "ticks": ""
            },
            "type": "contourcarpet"
           }
          ],
          "heatmap": [
           {
            "colorbar": {
             "outlinewidth": 0,
             "ticks": ""
            },
            "colorscale": [
             [
              0,
              "#0d0887"
             ],
             [
              0.1111111111111111,
              "#46039f"
             ],
             [
              0.2222222222222222,
              "#7201a8"
             ],
             [
              0.3333333333333333,
              "#9c179e"
             ],
             [
              0.4444444444444444,
              "#bd3786"
             ],
             [
              0.5555555555555556,
              "#d8576b"
             ],
             [
              0.6666666666666666,
              "#ed7953"
             ],
             [
              0.7777777777777778,
              "#fb9f3a"
             ],
             [
              0.8888888888888888,
              "#fdca26"
             ],
             [
              1,
              "#f0f921"
             ]
            ],
            "type": "heatmap"
           }
          ],
          "heatmapgl": [
           {
            "colorbar": {
             "outlinewidth": 0,
             "ticks": ""
            },
            "colorscale": [
             [
              0,
              "#0d0887"
             ],
             [
              0.1111111111111111,
              "#46039f"
             ],
             [
              0.2222222222222222,
              "#7201a8"
             ],
             [
              0.3333333333333333,
              "#9c179e"
             ],
             [
              0.4444444444444444,
              "#bd3786"
             ],
             [
              0.5555555555555556,
              "#d8576b"
             ],
             [
              0.6666666666666666,
              "#ed7953"
             ],
             [
              0.7777777777777778,
              "#fb9f3a"
             ],
             [
              0.8888888888888888,
              "#fdca26"
             ],
             [
              1,
              "#f0f921"
             ]
            ],
            "type": "heatmapgl"
           }
          ],
          "histogram": [
           {
            "marker": {
             "pattern": {
              "fillmode": "overlay",
              "size": 10,
              "solidity": 0.2
             }
            },
            "type": "histogram"
           }
          ],
          "histogram2d": [
           {
            "colorbar": {
             "outlinewidth": 0,
             "ticks": ""
            },
            "colorscale": [
             [
              0,
              "#0d0887"
             ],
             [
              0.1111111111111111,
              "#46039f"
             ],
             [
              0.2222222222222222,
              "#7201a8"
             ],
             [
              0.3333333333333333,
              "#9c179e"
             ],
             [
              0.4444444444444444,
              "#bd3786"
             ],
             [
              0.5555555555555556,
              "#d8576b"
             ],
             [
              0.6666666666666666,
              "#ed7953"
             ],
             [
              0.7777777777777778,
              "#fb9f3a"
             ],
             [
              0.8888888888888888,
              "#fdca26"
             ],
             [
              1,
              "#f0f921"
             ]
            ],
            "type": "histogram2d"
           }
          ],
          "histogram2dcontour": [
           {
            "colorbar": {
             "outlinewidth": 0,
             "ticks": ""
            },
            "colorscale": [
             [
              0,
              "#0d0887"
             ],
             [
              0.1111111111111111,
              "#46039f"
             ],
             [
              0.2222222222222222,
              "#7201a8"
             ],
             [
              0.3333333333333333,
              "#9c179e"
             ],
             [
              0.4444444444444444,
              "#bd3786"
             ],
             [
              0.5555555555555556,
              "#d8576b"
             ],
             [
              0.6666666666666666,
              "#ed7953"
             ],
             [
              0.7777777777777778,
              "#fb9f3a"
             ],
             [
              0.8888888888888888,
              "#fdca26"
             ],
             [
              1,
              "#f0f921"
             ]
            ],
            "type": "histogram2dcontour"
           }
          ],
          "mesh3d": [
           {
            "colorbar": {
             "outlinewidth": 0,
             "ticks": ""
            },
            "type": "mesh3d"
           }
          ],
          "parcoords": [
           {
            "line": {
             "colorbar": {
              "outlinewidth": 0,
              "ticks": ""
             }
            },
            "type": "parcoords"
           }
          ],
          "pie": [
           {
            "automargin": true,
            "type": "pie"
           }
          ],
          "scatter": [
           {
            "fillpattern": {
             "fillmode": "overlay",
             "size": 10,
             "solidity": 0.2
            },
            "type": "scatter"
           }
          ],
          "scatter3d": [
           {
            "line": {
             "colorbar": {
              "outlinewidth": 0,
              "ticks": ""
             }
            },
            "marker": {
             "colorbar": {
              "outlinewidth": 0,
              "ticks": ""
             }
            },
            "type": "scatter3d"
           }
          ],
          "scattercarpet": [
           {
            "marker": {
             "colorbar": {
              "outlinewidth": 0,
              "ticks": ""
             }
            },
            "type": "scattercarpet"
           }
          ],
          "scattergeo": [
           {
            "marker": {
             "colorbar": {
              "outlinewidth": 0,
              "ticks": ""
             }
            },
            "type": "scattergeo"
           }
          ],
          "scattergl": [
           {
            "marker": {
             "colorbar": {
              "outlinewidth": 0,
              "ticks": ""
             }
            },
            "type": "scattergl"
           }
          ],
          "scattermapbox": [
           {
            "marker": {
             "colorbar": {
              "outlinewidth": 0,
              "ticks": ""
             }
            },
            "type": "scattermapbox"
           }
          ],
          "scatterpolar": [
           {
            "marker": {
             "colorbar": {
              "outlinewidth": 0,
              "ticks": ""
             }
            },
            "type": "scatterpolar"
           }
          ],
          "scatterpolargl": [
           {
            "marker": {
             "colorbar": {
              "outlinewidth": 0,
              "ticks": ""
             }
            },
            "type": "scatterpolargl"
           }
          ],
          "scatterternary": [
           {
            "marker": {
             "colorbar": {
              "outlinewidth": 0,
              "ticks": ""
             }
            },
            "type": "scatterternary"
           }
          ],
          "surface": [
           {
            "colorbar": {
             "outlinewidth": 0,
             "ticks": ""
            },
            "colorscale": [
             [
              0,
              "#0d0887"
             ],
             [
              0.1111111111111111,
              "#46039f"
             ],
             [
              0.2222222222222222,
              "#7201a8"
             ],
             [
              0.3333333333333333,
              "#9c179e"
             ],
             [
              0.4444444444444444,
              "#bd3786"
             ],
             [
              0.5555555555555556,
              "#d8576b"
             ],
             [
              0.6666666666666666,
              "#ed7953"
             ],
             [
              0.7777777777777778,
              "#fb9f3a"
             ],
             [
              0.8888888888888888,
              "#fdca26"
             ],
             [
              1,
              "#f0f921"
             ]
            ],
            "type": "surface"
           }
          ],
          "table": [
           {
            "cells": {
             "fill": {
              "color": "#EBF0F8"
             },
             "line": {
              "color": "white"
             }
            },
            "header": {
             "fill": {
              "color": "#C8D4E3"
             },
             "line": {
              "color": "white"
             }
            },
            "type": "table"
           }
          ]
         },
         "layout": {
          "annotationdefaults": {
           "arrowcolor": "#2a3f5f",
           "arrowhead": 0,
           "arrowwidth": 1
          },
          "autotypenumbers": "strict",
          "coloraxis": {
           "colorbar": {
            "outlinewidth": 0,
            "ticks": ""
           }
          },
          "colorscale": {
           "diverging": [
            [
             0,
             "#8e0152"
            ],
            [
             0.1,
             "#c51b7d"
            ],
            [
             0.2,
             "#de77ae"
            ],
            [
             0.3,
             "#f1b6da"
            ],
            [
             0.4,
             "#fde0ef"
            ],
            [
             0.5,
             "#f7f7f7"
            ],
            [
             0.6,
             "#e6f5d0"
            ],
            [
             0.7,
             "#b8e186"
            ],
            [
             0.8,
             "#7fbc41"
            ],
            [
             0.9,
             "#4d9221"
            ],
            [
             1,
             "#276419"
            ]
           ],
           "sequential": [
            [
             0,
             "#0d0887"
            ],
            [
             0.1111111111111111,
             "#46039f"
            ],
            [
             0.2222222222222222,
             "#7201a8"
            ],
            [
             0.3333333333333333,
             "#9c179e"
            ],
            [
             0.4444444444444444,
             "#bd3786"
            ],
            [
             0.5555555555555556,
             "#d8576b"
            ],
            [
             0.6666666666666666,
             "#ed7953"
            ],
            [
             0.7777777777777778,
             "#fb9f3a"
            ],
            [
             0.8888888888888888,
             "#fdca26"
            ],
            [
             1,
             "#f0f921"
            ]
           ],
           "sequentialminus": [
            [
             0,
             "#0d0887"
            ],
            [
             0.1111111111111111,
             "#46039f"
            ],
            [
             0.2222222222222222,
             "#7201a8"
            ],
            [
             0.3333333333333333,
             "#9c179e"
            ],
            [
             0.4444444444444444,
             "#bd3786"
            ],
            [
             0.5555555555555556,
             "#d8576b"
            ],
            [
             0.6666666666666666,
             "#ed7953"
            ],
            [
             0.7777777777777778,
             "#fb9f3a"
            ],
            [
             0.8888888888888888,
             "#fdca26"
            ],
            [
             1,
             "#f0f921"
            ]
           ]
          },
          "colorway": [
           "#636efa",
           "#EF553B",
           "#00cc96",
           "#ab63fa",
           "#FFA15A",
           "#19d3f3",
           "#FF6692",
           "#B6E880",
           "#FF97FF",
           "#FECB52"
          ],
          "font": {
           "color": "#2a3f5f"
          },
          "geo": {
           "bgcolor": "white",
           "lakecolor": "white",
           "landcolor": "#E5ECF6",
           "showlakes": true,
           "showland": true,
           "subunitcolor": "white"
          },
          "hoverlabel": {
           "align": "left"
          },
          "hovermode": "closest",
          "mapbox": {
           "style": "light"
          },
          "paper_bgcolor": "white",
          "plot_bgcolor": "#E5ECF6",
          "polar": {
           "angularaxis": {
            "gridcolor": "white",
            "linecolor": "white",
            "ticks": ""
           },
           "bgcolor": "#E5ECF6",
           "radialaxis": {
            "gridcolor": "white",
            "linecolor": "white",
            "ticks": ""
           }
          },
          "scene": {
           "xaxis": {
            "backgroundcolor": "#E5ECF6",
            "gridcolor": "white",
            "gridwidth": 2,
            "linecolor": "white",
            "showbackground": true,
            "ticks": "",
            "zerolinecolor": "white"
           },
           "yaxis": {
            "backgroundcolor": "#E5ECF6",
            "gridcolor": "white",
            "gridwidth": 2,
            "linecolor": "white",
            "showbackground": true,
            "ticks": "",
            "zerolinecolor": "white"
           },
           "zaxis": {
            "backgroundcolor": "#E5ECF6",
            "gridcolor": "white",
            "gridwidth": 2,
            "linecolor": "white",
            "showbackground": true,
            "ticks": "",
            "zerolinecolor": "white"
           }
          },
          "shapedefaults": {
           "line": {
            "color": "#2a3f5f"
           }
          },
          "ternary": {
           "aaxis": {
            "gridcolor": "white",
            "linecolor": "white",
            "ticks": ""
           },
           "baxis": {
            "gridcolor": "white",
            "linecolor": "white",
            "ticks": ""
           },
           "bgcolor": "#E5ECF6",
           "caxis": {
            "gridcolor": "white",
            "linecolor": "white",
            "ticks": ""
           }
          },
          "title": {
           "x": 0.05
          },
          "xaxis": {
           "automargin": true,
           "gridcolor": "white",
           "linecolor": "white",
           "ticks": "",
           "title": {
            "standoff": 15
           },
           "zerolinecolor": "white",
           "zerolinewidth": 2
          },
          "yaxis": {
           "automargin": true,
           "gridcolor": "white",
           "linecolor": "white",
           "ticks": "",
           "title": {
            "standoff": 15
           },
           "zerolinecolor": "white",
           "zerolinewidth": 2
          }
         }
        },
        "xaxis": {
         "anchor": "y",
         "domain": [
          0,
          1
         ],
         "rangeselector": {
          "buttons": [
           {
            "count": 1,
            "label": "Sect 1",
            "step": "year",
            "stepmode": "backward"
           },
           {
            "count": 2,
            "label": "Sect 2",
            "step": "year",
            "stepmode": "backward"
           },
           {
            "count": 3,
            "label": "Sect 3",
            "step": "year",
            "stepmode": "backward"
           },
           {
            "step": "all"
           }
          ]
         },
         "rangeslider": {
          "visible": true
         },
         "title": {
          "text": "date"
         }
        },
        "yaxis": {
         "anchor": "x",
         "domain": [
          0,
          1
         ],
         "title": {
          "text": "sales"
         }
        }
       }
      }
     },
     "metadata": {},
     "output_type": "display_data"
    },
    {
     "name": "stderr",
     "output_type": "stream",
     "text": [
      "C:\\Users\\chrap\\AppData\\Local\\Temp\\ipykernel_8180\\1816509536.py:9: FutureWarning:\n",
      "\n",
      "'M' is deprecated and will be removed in a future version, please use 'ME' instead.\n",
      "\n"
     ]
    },
    {
     "data": {
      "application/vnd.plotly.v1+json": {
       "config": {
        "plotlyServerURL": "https://plot.ly"
       },
       "data": [
        {
         "hovertemplate": "date=%{x}<br>sales=%{y}<extra></extra>",
         "legendgroup": "",
         "line": {
          "color": "#636efa",
          "dash": "solid"
         },
         "marker": {
          "symbol": "circle"
         },
         "mode": "lines",
         "name": "",
         "orientation": "v",
         "showlegend": false,
         "type": "scatter",
         "x": [
          "2013-01-31T00:00:00",
          "2013-02-28T00:00:00",
          "2013-03-31T00:00:00",
          "2013-04-30T00:00:00",
          "2013-05-31T00:00:00",
          "2013-06-30T00:00:00",
          "2013-07-31T00:00:00",
          "2013-08-31T00:00:00",
          "2013-09-30T00:00:00",
          "2013-10-31T00:00:00",
          "2013-11-30T00:00:00",
          "2013-12-31T00:00:00",
          "2014-01-31T00:00:00",
          "2014-02-28T00:00:00",
          "2014-03-31T00:00:00",
          "2014-04-30T00:00:00",
          "2014-05-31T00:00:00",
          "2014-06-30T00:00:00",
          "2014-07-31T00:00:00",
          "2014-08-31T00:00:00",
          "2014-09-30T00:00:00",
          "2014-10-31T00:00:00",
          "2014-11-30T00:00:00",
          "2014-12-31T00:00:00",
          "2015-01-31T00:00:00",
          "2015-02-28T00:00:00",
          "2015-03-31T00:00:00",
          "2015-04-30T00:00:00",
          "2015-05-31T00:00:00",
          "2015-06-30T00:00:00",
          "2015-07-31T00:00:00",
          "2015-08-31T00:00:00",
          "2015-09-30T00:00:00",
          "2015-10-31T00:00:00",
          "2015-11-30T00:00:00",
          "2015-12-31T00:00:00",
          "2016-01-31T00:00:00",
          "2016-02-29T00:00:00",
          "2016-03-31T00:00:00",
          "2016-04-30T00:00:00",
          "2016-05-31T00:00:00",
          "2016-06-30T00:00:00",
          "2016-07-31T00:00:00",
          "2016-08-31T00:00:00",
          "2016-09-30T00:00:00",
          "2016-10-31T00:00:00",
          "2016-11-30T00:00:00",
          "2016-12-31T00:00:00",
          "2017-01-31T00:00:00",
          "2017-02-28T00:00:00",
          "2017-03-31T00:00:00",
          "2017-04-30T00:00:00",
          "2017-05-31T00:00:00",
          "2017-06-30T00:00:00",
          "2017-07-31T00:00:00",
          "2017-08-31T00:00:00"
         ],
         "xaxis": "x",
         "y": [
          10327624.7369095,
          9658959.7774368,
          11428497.0374875,
          10993464.7380118,
          11597704.0070268,
          11689344.0622436,
          11257400.6076808,
          11737788.9194727,
          11792933.2318679,
          11775620.3605191,
          12356559.2929861,
          15803117.1479746,
          18911640.7014034,
          12038352.6339783,
          20365584.016477,
          12861251.0571494,
          13379785.2611975,
          13319958.1730016,
          19421891.0438224,
          13885176.4190542,
          20022416.1138096,
          20396101.3141771,
          20531635.2036432,
          24340454.3638302,
          14896922.0571985,
          13742395.8483812,
          15598607.5183553,
          14955068.1707755,
          17730368.244309,
          21615360.3512421,
          22209619.0387389,
          22963674.2412815,
          23240882.4779112,
          23878267.6645621,
          22804953.3682112,
          27243981.6737737,
          23977804.8854341,
          21947408.8010028,
          23131780.8838199,
          25963025.1019622,
          24779432.2602277,
          22209218.5803836,
          23462672.4331036,
          22452414.3178949,
          22417448.0969967,
          24030389.816292,
          24642640.1973935,
          29640287.5793851,
          26328159.9357051,
          23250112.3749368,
          26704017.6908793,
          25895308.4895551,
          26911847.250593,
          25682822.1249936,
          27011477.5658307,
          12433322.9407775
         ],
         "yaxis": "y"
        }
       ],
       "layout": {
        "legend": {
         "tracegroupgap": 0
        },
        "margin": {
         "t": 60
        },
        "template": {
         "data": {
          "bar": [
           {
            "error_x": {
             "color": "#2a3f5f"
            },
            "error_y": {
             "color": "#2a3f5f"
            },
            "marker": {
             "line": {
              "color": "#E5ECF6",
              "width": 0.5
             },
             "pattern": {
              "fillmode": "overlay",
              "size": 10,
              "solidity": 0.2
             }
            },
            "type": "bar"
           }
          ],
          "barpolar": [
           {
            "marker": {
             "line": {
              "color": "#E5ECF6",
              "width": 0.5
             },
             "pattern": {
              "fillmode": "overlay",
              "size": 10,
              "solidity": 0.2
             }
            },
            "type": "barpolar"
           }
          ],
          "carpet": [
           {
            "aaxis": {
             "endlinecolor": "#2a3f5f",
             "gridcolor": "white",
             "linecolor": "white",
             "minorgridcolor": "white",
             "startlinecolor": "#2a3f5f"
            },
            "baxis": {
             "endlinecolor": "#2a3f5f",
             "gridcolor": "white",
             "linecolor": "white",
             "minorgridcolor": "white",
             "startlinecolor": "#2a3f5f"
            },
            "type": "carpet"
           }
          ],
          "choropleth": [
           {
            "colorbar": {
             "outlinewidth": 0,
             "ticks": ""
            },
            "type": "choropleth"
           }
          ],
          "contour": [
           {
            "colorbar": {
             "outlinewidth": 0,
             "ticks": ""
            },
            "colorscale": [
             [
              0,
              "#0d0887"
             ],
             [
              0.1111111111111111,
              "#46039f"
             ],
             [
              0.2222222222222222,
              "#7201a8"
             ],
             [
              0.3333333333333333,
              "#9c179e"
             ],
             [
              0.4444444444444444,
              "#bd3786"
             ],
             [
              0.5555555555555556,
              "#d8576b"
             ],
             [
              0.6666666666666666,
              "#ed7953"
             ],
             [
              0.7777777777777778,
              "#fb9f3a"
             ],
             [
              0.8888888888888888,
              "#fdca26"
             ],
             [
              1,
              "#f0f921"
             ]
            ],
            "type": "contour"
           }
          ],
          "contourcarpet": [
           {
            "colorbar": {
             "outlinewidth": 0,
             "ticks": ""
            },
            "type": "contourcarpet"
           }
          ],
          "heatmap": [
           {
            "colorbar": {
             "outlinewidth": 0,
             "ticks": ""
            },
            "colorscale": [
             [
              0,
              "#0d0887"
             ],
             [
              0.1111111111111111,
              "#46039f"
             ],
             [
              0.2222222222222222,
              "#7201a8"
             ],
             [
              0.3333333333333333,
              "#9c179e"
             ],
             [
              0.4444444444444444,
              "#bd3786"
             ],
             [
              0.5555555555555556,
              "#d8576b"
             ],
             [
              0.6666666666666666,
              "#ed7953"
             ],
             [
              0.7777777777777778,
              "#fb9f3a"
             ],
             [
              0.8888888888888888,
              "#fdca26"
             ],
             [
              1,
              "#f0f921"
             ]
            ],
            "type": "heatmap"
           }
          ],
          "heatmapgl": [
           {
            "colorbar": {
             "outlinewidth": 0,
             "ticks": ""
            },
            "colorscale": [
             [
              0,
              "#0d0887"
             ],
             [
              0.1111111111111111,
              "#46039f"
             ],
             [
              0.2222222222222222,
              "#7201a8"
             ],
             [
              0.3333333333333333,
              "#9c179e"
             ],
             [
              0.4444444444444444,
              "#bd3786"
             ],
             [
              0.5555555555555556,
              "#d8576b"
             ],
             [
              0.6666666666666666,
              "#ed7953"
             ],
             [
              0.7777777777777778,
              "#fb9f3a"
             ],
             [
              0.8888888888888888,
              "#fdca26"
             ],
             [
              1,
              "#f0f921"
             ]
            ],
            "type": "heatmapgl"
           }
          ],
          "histogram": [
           {
            "marker": {
             "pattern": {
              "fillmode": "overlay",
              "size": 10,
              "solidity": 0.2
             }
            },
            "type": "histogram"
           }
          ],
          "histogram2d": [
           {
            "colorbar": {
             "outlinewidth": 0,
             "ticks": ""
            },
            "colorscale": [
             [
              0,
              "#0d0887"
             ],
             [
              0.1111111111111111,
              "#46039f"
             ],
             [
              0.2222222222222222,
              "#7201a8"
             ],
             [
              0.3333333333333333,
              "#9c179e"
             ],
             [
              0.4444444444444444,
              "#bd3786"
             ],
             [
              0.5555555555555556,
              "#d8576b"
             ],
             [
              0.6666666666666666,
              "#ed7953"
             ],
             [
              0.7777777777777778,
              "#fb9f3a"
             ],
             [
              0.8888888888888888,
              "#fdca26"
             ],
             [
              1,
              "#f0f921"
             ]
            ],
            "type": "histogram2d"
           }
          ],
          "histogram2dcontour": [
           {
            "colorbar": {
             "outlinewidth": 0,
             "ticks": ""
            },
            "colorscale": [
             [
              0,
              "#0d0887"
             ],
             [
              0.1111111111111111,
              "#46039f"
             ],
             [
              0.2222222222222222,
              "#7201a8"
             ],
             [
              0.3333333333333333,
              "#9c179e"
             ],
             [
              0.4444444444444444,
              "#bd3786"
             ],
             [
              0.5555555555555556,
              "#d8576b"
             ],
             [
              0.6666666666666666,
              "#ed7953"
             ],
             [
              0.7777777777777778,
              "#fb9f3a"
             ],
             [
              0.8888888888888888,
              "#fdca26"
             ],
             [
              1,
              "#f0f921"
             ]
            ],
            "type": "histogram2dcontour"
           }
          ],
          "mesh3d": [
           {
            "colorbar": {
             "outlinewidth": 0,
             "ticks": ""
            },
            "type": "mesh3d"
           }
          ],
          "parcoords": [
           {
            "line": {
             "colorbar": {
              "outlinewidth": 0,
              "ticks": ""
             }
            },
            "type": "parcoords"
           }
          ],
          "pie": [
           {
            "automargin": true,
            "type": "pie"
           }
          ],
          "scatter": [
           {
            "fillpattern": {
             "fillmode": "overlay",
             "size": 10,
             "solidity": 0.2
            },
            "type": "scatter"
           }
          ],
          "scatter3d": [
           {
            "line": {
             "colorbar": {
              "outlinewidth": 0,
              "ticks": ""
             }
            },
            "marker": {
             "colorbar": {
              "outlinewidth": 0,
              "ticks": ""
             }
            },
            "type": "scatter3d"
           }
          ],
          "scattercarpet": [
           {
            "marker": {
             "colorbar": {
              "outlinewidth": 0,
              "ticks": ""
             }
            },
            "type": "scattercarpet"
           }
          ],
          "scattergeo": [
           {
            "marker": {
             "colorbar": {
              "outlinewidth": 0,
              "ticks": ""
             }
            },
            "type": "scattergeo"
           }
          ],
          "scattergl": [
           {
            "marker": {
             "colorbar": {
              "outlinewidth": 0,
              "ticks": ""
             }
            },
            "type": "scattergl"
           }
          ],
          "scattermapbox": [
           {
            "marker": {
             "colorbar": {
              "outlinewidth": 0,
              "ticks": ""
             }
            },
            "type": "scattermapbox"
           }
          ],
          "scatterpolar": [
           {
            "marker": {
             "colorbar": {
              "outlinewidth": 0,
              "ticks": ""
             }
            },
            "type": "scatterpolar"
           }
          ],
          "scatterpolargl": [
           {
            "marker": {
             "colorbar": {
              "outlinewidth": 0,
              "ticks": ""
             }
            },
            "type": "scatterpolargl"
           }
          ],
          "scatterternary": [
           {
            "marker": {
             "colorbar": {
              "outlinewidth": 0,
              "ticks": ""
             }
            },
            "type": "scatterternary"
           }
          ],
          "surface": [
           {
            "colorbar": {
             "outlinewidth": 0,
             "ticks": ""
            },
            "colorscale": [
             [
              0,
              "#0d0887"
             ],
             [
              0.1111111111111111,
              "#46039f"
             ],
             [
              0.2222222222222222,
              "#7201a8"
             ],
             [
              0.3333333333333333,
              "#9c179e"
             ],
             [
              0.4444444444444444,
              "#bd3786"
             ],
             [
              0.5555555555555556,
              "#d8576b"
             ],
             [
              0.6666666666666666,
              "#ed7953"
             ],
             [
              0.7777777777777778,
              "#fb9f3a"
             ],
             [
              0.8888888888888888,
              "#fdca26"
             ],
             [
              1,
              "#f0f921"
             ]
            ],
            "type": "surface"
           }
          ],
          "table": [
           {
            "cells": {
             "fill": {
              "color": "#EBF0F8"
             },
             "line": {
              "color": "white"
             }
            },
            "header": {
             "fill": {
              "color": "#C8D4E3"
             },
             "line": {
              "color": "white"
             }
            },
            "type": "table"
           }
          ]
         },
         "layout": {
          "annotationdefaults": {
           "arrowcolor": "#2a3f5f",
           "arrowhead": 0,
           "arrowwidth": 1
          },
          "autotypenumbers": "strict",
          "coloraxis": {
           "colorbar": {
            "outlinewidth": 0,
            "ticks": ""
           }
          },
          "colorscale": {
           "diverging": [
            [
             0,
             "#8e0152"
            ],
            [
             0.1,
             "#c51b7d"
            ],
            [
             0.2,
             "#de77ae"
            ],
            [
             0.3,
             "#f1b6da"
            ],
            [
             0.4,
             "#fde0ef"
            ],
            [
             0.5,
             "#f7f7f7"
            ],
            [
             0.6,
             "#e6f5d0"
            ],
            [
             0.7,
             "#b8e186"
            ],
            [
             0.8,
             "#7fbc41"
            ],
            [
             0.9,
             "#4d9221"
            ],
            [
             1,
             "#276419"
            ]
           ],
           "sequential": [
            [
             0,
             "#0d0887"
            ],
            [
             0.1111111111111111,
             "#46039f"
            ],
            [
             0.2222222222222222,
             "#7201a8"
            ],
            [
             0.3333333333333333,
             "#9c179e"
            ],
            [
             0.4444444444444444,
             "#bd3786"
            ],
            [
             0.5555555555555556,
             "#d8576b"
            ],
            [
             0.6666666666666666,
             "#ed7953"
            ],
            [
             0.7777777777777778,
             "#fb9f3a"
            ],
            [
             0.8888888888888888,
             "#fdca26"
            ],
            [
             1,
             "#f0f921"
            ]
           ],
           "sequentialminus": [
            [
             0,
             "#0d0887"
            ],
            [
             0.1111111111111111,
             "#46039f"
            ],
            [
             0.2222222222222222,
             "#7201a8"
            ],
            [
             0.3333333333333333,
             "#9c179e"
            ],
            [
             0.4444444444444444,
             "#bd3786"
            ],
            [
             0.5555555555555556,
             "#d8576b"
            ],
            [
             0.6666666666666666,
             "#ed7953"
            ],
            [
             0.7777777777777778,
             "#fb9f3a"
            ],
            [
             0.8888888888888888,
             "#fdca26"
            ],
            [
             1,
             "#f0f921"
            ]
           ]
          },
          "colorway": [
           "#636efa",
           "#EF553B",
           "#00cc96",
           "#ab63fa",
           "#FFA15A",
           "#19d3f3",
           "#FF6692",
           "#B6E880",
           "#FF97FF",
           "#FECB52"
          ],
          "font": {
           "color": "#2a3f5f"
          },
          "geo": {
           "bgcolor": "white",
           "lakecolor": "white",
           "landcolor": "#E5ECF6",
           "showlakes": true,
           "showland": true,
           "subunitcolor": "white"
          },
          "hoverlabel": {
           "align": "left"
          },
          "hovermode": "closest",
          "mapbox": {
           "style": "light"
          },
          "paper_bgcolor": "white",
          "plot_bgcolor": "#E5ECF6",
          "polar": {
           "angularaxis": {
            "gridcolor": "white",
            "linecolor": "white",
            "ticks": ""
           },
           "bgcolor": "#E5ECF6",
           "radialaxis": {
            "gridcolor": "white",
            "linecolor": "white",
            "ticks": ""
           }
          },
          "scene": {
           "xaxis": {
            "backgroundcolor": "#E5ECF6",
            "gridcolor": "white",
            "gridwidth": 2,
            "linecolor": "white",
            "showbackground": true,
            "ticks": "",
            "zerolinecolor": "white"
           },
           "yaxis": {
            "backgroundcolor": "#E5ECF6",
            "gridcolor": "white",
            "gridwidth": 2,
            "linecolor": "white",
            "showbackground": true,
            "ticks": "",
            "zerolinecolor": "white"
           },
           "zaxis": {
            "backgroundcolor": "#E5ECF6",
            "gridcolor": "white",
            "gridwidth": 2,
            "linecolor": "white",
            "showbackground": true,
            "ticks": "",
            "zerolinecolor": "white"
           }
          },
          "shapedefaults": {
           "line": {
            "color": "#2a3f5f"
           }
          },
          "ternary": {
           "aaxis": {
            "gridcolor": "white",
            "linecolor": "white",
            "ticks": ""
           },
           "baxis": {
            "gridcolor": "white",
            "linecolor": "white",
            "ticks": ""
           },
           "bgcolor": "#E5ECF6",
           "caxis": {
            "gridcolor": "white",
            "linecolor": "white",
            "ticks": ""
           }
          },
          "title": {
           "x": 0.05
          },
          "xaxis": {
           "automargin": true,
           "gridcolor": "white",
           "linecolor": "white",
           "ticks": "",
           "title": {
            "standoff": 15
           },
           "zerolinecolor": "white",
           "zerolinewidth": 2
          },
          "yaxis": {
           "automargin": true,
           "gridcolor": "white",
           "linecolor": "white",
           "ticks": "",
           "title": {
            "standoff": 15
           },
           "zerolinecolor": "white",
           "zerolinewidth": 2
          }
         }
        },
        "xaxis": {
         "anchor": "y",
         "domain": [
          0,
          1
         ],
         "rangeselector": {
          "buttons": [
           {
            "count": 1,
            "label": "Sect 1",
            "step": "year",
            "stepmode": "backward"
           },
           {
            "count": 2,
            "label": "Sect 2",
            "step": "year",
            "stepmode": "backward"
           },
           {
            "count": 3,
            "label": "Sect 3",
            "step": "year",
            "stepmode": "backward"
           },
           {
            "step": "all"
           }
          ]
         },
         "rangeslider": {
          "visible": true
         },
         "title": {
          "text": "date"
         }
        },
        "yaxis": {
         "anchor": "x",
         "domain": [
          0,
          1
         ],
         "title": {
          "text": "sales"
         }
        }
       }
      }
     },
     "metadata": {},
     "output_type": "display_data"
    },
    {
     "name": "stderr",
     "output_type": "stream",
     "text": [
      "C:\\Users\\chrap\\AppData\\Local\\Temp\\ipykernel_8180\\1816509536.py:9: FutureWarning:\n",
      "\n",
      "'A' is deprecated and will be removed in a future version, please use 'YE' instead.\n",
      "\n"
     ]
    },
    {
     "data": {
      "application/vnd.plotly.v1+json": {
       "config": {
        "plotlyServerURL": "https://plot.ly"
       },
       "data": [
        {
         "hovertemplate": "date=%{x}<br>sales=%{y}<extra></extra>",
         "legendgroup": "",
         "line": {
          "color": "#636efa",
          "dash": "solid"
         },
         "marker": {
          "symbol": "circle"
         },
         "mode": "lines",
         "name": "",
         "orientation": "v",
         "showlegend": false,
         "type": "scatter",
         "x": [
          "2013-12-31T00:00:00",
          "2014-12-31T00:00:00",
          "2015-12-31T00:00:00",
          "2016-12-31T00:00:00",
          "2017-12-31T00:00:00"
         ],
         "xaxis": "x",
         "y": [
          140419013.9196172,
          209474246.3015439,
          240880100.6547402,
          288654522.9538961,
          194217068.3732711
         ],
         "yaxis": "y"
        }
       ],
       "layout": {
        "legend": {
         "tracegroupgap": 0
        },
        "margin": {
         "t": 60
        },
        "template": {
         "data": {
          "bar": [
           {
            "error_x": {
             "color": "#2a3f5f"
            },
            "error_y": {
             "color": "#2a3f5f"
            },
            "marker": {
             "line": {
              "color": "#E5ECF6",
              "width": 0.5
             },
             "pattern": {
              "fillmode": "overlay",
              "size": 10,
              "solidity": 0.2
             }
            },
            "type": "bar"
           }
          ],
          "barpolar": [
           {
            "marker": {
             "line": {
              "color": "#E5ECF6",
              "width": 0.5
             },
             "pattern": {
              "fillmode": "overlay",
              "size": 10,
              "solidity": 0.2
             }
            },
            "type": "barpolar"
           }
          ],
          "carpet": [
           {
            "aaxis": {
             "endlinecolor": "#2a3f5f",
             "gridcolor": "white",
             "linecolor": "white",
             "minorgridcolor": "white",
             "startlinecolor": "#2a3f5f"
            },
            "baxis": {
             "endlinecolor": "#2a3f5f",
             "gridcolor": "white",
             "linecolor": "white",
             "minorgridcolor": "white",
             "startlinecolor": "#2a3f5f"
            },
            "type": "carpet"
           }
          ],
          "choropleth": [
           {
            "colorbar": {
             "outlinewidth": 0,
             "ticks": ""
            },
            "type": "choropleth"
           }
          ],
          "contour": [
           {
            "colorbar": {
             "outlinewidth": 0,
             "ticks": ""
            },
            "colorscale": [
             [
              0,
              "#0d0887"
             ],
             [
              0.1111111111111111,
              "#46039f"
             ],
             [
              0.2222222222222222,
              "#7201a8"
             ],
             [
              0.3333333333333333,
              "#9c179e"
             ],
             [
              0.4444444444444444,
              "#bd3786"
             ],
             [
              0.5555555555555556,
              "#d8576b"
             ],
             [
              0.6666666666666666,
              "#ed7953"
             ],
             [
              0.7777777777777778,
              "#fb9f3a"
             ],
             [
              0.8888888888888888,
              "#fdca26"
             ],
             [
              1,
              "#f0f921"
             ]
            ],
            "type": "contour"
           }
          ],
          "contourcarpet": [
           {
            "colorbar": {
             "outlinewidth": 0,
             "ticks": ""
            },
            "type": "contourcarpet"
           }
          ],
          "heatmap": [
           {
            "colorbar": {
             "outlinewidth": 0,
             "ticks": ""
            },
            "colorscale": [
             [
              0,
              "#0d0887"
             ],
             [
              0.1111111111111111,
              "#46039f"
             ],
             [
              0.2222222222222222,
              "#7201a8"
             ],
             [
              0.3333333333333333,
              "#9c179e"
             ],
             [
              0.4444444444444444,
              "#bd3786"
             ],
             [
              0.5555555555555556,
              "#d8576b"
             ],
             [
              0.6666666666666666,
              "#ed7953"
             ],
             [
              0.7777777777777778,
              "#fb9f3a"
             ],
             [
              0.8888888888888888,
              "#fdca26"
             ],
             [
              1,
              "#f0f921"
             ]
            ],
            "type": "heatmap"
           }
          ],
          "heatmapgl": [
           {
            "colorbar": {
             "outlinewidth": 0,
             "ticks": ""
            },
            "colorscale": [
             [
              0,
              "#0d0887"
             ],
             [
              0.1111111111111111,
              "#46039f"
             ],
             [
              0.2222222222222222,
              "#7201a8"
             ],
             [
              0.3333333333333333,
              "#9c179e"
             ],
             [
              0.4444444444444444,
              "#bd3786"
             ],
             [
              0.5555555555555556,
              "#d8576b"
             ],
             [
              0.6666666666666666,
              "#ed7953"
             ],
             [
              0.7777777777777778,
              "#fb9f3a"
             ],
             [
              0.8888888888888888,
              "#fdca26"
             ],
             [
              1,
              "#f0f921"
             ]
            ],
            "type": "heatmapgl"
           }
          ],
          "histogram": [
           {
            "marker": {
             "pattern": {
              "fillmode": "overlay",
              "size": 10,
              "solidity": 0.2
             }
            },
            "type": "histogram"
           }
          ],
          "histogram2d": [
           {
            "colorbar": {
             "outlinewidth": 0,
             "ticks": ""
            },
            "colorscale": [
             [
              0,
              "#0d0887"
             ],
             [
              0.1111111111111111,
              "#46039f"
             ],
             [
              0.2222222222222222,
              "#7201a8"
             ],
             [
              0.3333333333333333,
              "#9c179e"
             ],
             [
              0.4444444444444444,
              "#bd3786"
             ],
             [
              0.5555555555555556,
              "#d8576b"
             ],
             [
              0.6666666666666666,
              "#ed7953"
             ],
             [
              0.7777777777777778,
              "#fb9f3a"
             ],
             [
              0.8888888888888888,
              "#fdca26"
             ],
             [
              1,
              "#f0f921"
             ]
            ],
            "type": "histogram2d"
           }
          ],
          "histogram2dcontour": [
           {
            "colorbar": {
             "outlinewidth": 0,
             "ticks": ""
            },
            "colorscale": [
             [
              0,
              "#0d0887"
             ],
             [
              0.1111111111111111,
              "#46039f"
             ],
             [
              0.2222222222222222,
              "#7201a8"
             ],
             [
              0.3333333333333333,
              "#9c179e"
             ],
             [
              0.4444444444444444,
              "#bd3786"
             ],
             [
              0.5555555555555556,
              "#d8576b"
             ],
             [
              0.6666666666666666,
              "#ed7953"
             ],
             [
              0.7777777777777778,
              "#fb9f3a"
             ],
             [
              0.8888888888888888,
              "#fdca26"
             ],
             [
              1,
              "#f0f921"
             ]
            ],
            "type": "histogram2dcontour"
           }
          ],
          "mesh3d": [
           {
            "colorbar": {
             "outlinewidth": 0,
             "ticks": ""
            },
            "type": "mesh3d"
           }
          ],
          "parcoords": [
           {
            "line": {
             "colorbar": {
              "outlinewidth": 0,
              "ticks": ""
             }
            },
            "type": "parcoords"
           }
          ],
          "pie": [
           {
            "automargin": true,
            "type": "pie"
           }
          ],
          "scatter": [
           {
            "fillpattern": {
             "fillmode": "overlay",
             "size": 10,
             "solidity": 0.2
            },
            "type": "scatter"
           }
          ],
          "scatter3d": [
           {
            "line": {
             "colorbar": {
              "outlinewidth": 0,
              "ticks": ""
             }
            },
            "marker": {
             "colorbar": {
              "outlinewidth": 0,
              "ticks": ""
             }
            },
            "type": "scatter3d"
           }
          ],
          "scattercarpet": [
           {
            "marker": {
             "colorbar": {
              "outlinewidth": 0,
              "ticks": ""
             }
            },
            "type": "scattercarpet"
           }
          ],
          "scattergeo": [
           {
            "marker": {
             "colorbar": {
              "outlinewidth": 0,
              "ticks": ""
             }
            },
            "type": "scattergeo"
           }
          ],
          "scattergl": [
           {
            "marker": {
             "colorbar": {
              "outlinewidth": 0,
              "ticks": ""
             }
            },
            "type": "scattergl"
           }
          ],
          "scattermapbox": [
           {
            "marker": {
             "colorbar": {
              "outlinewidth": 0,
              "ticks": ""
             }
            },
            "type": "scattermapbox"
           }
          ],
          "scatterpolar": [
           {
            "marker": {
             "colorbar": {
              "outlinewidth": 0,
              "ticks": ""
             }
            },
            "type": "scatterpolar"
           }
          ],
          "scatterpolargl": [
           {
            "marker": {
             "colorbar": {
              "outlinewidth": 0,
              "ticks": ""
             }
            },
            "type": "scatterpolargl"
           }
          ],
          "scatterternary": [
           {
            "marker": {
             "colorbar": {
              "outlinewidth": 0,
              "ticks": ""
             }
            },
            "type": "scatterternary"
           }
          ],
          "surface": [
           {
            "colorbar": {
             "outlinewidth": 0,
             "ticks": ""
            },
            "colorscale": [
             [
              0,
              "#0d0887"
             ],
             [
              0.1111111111111111,
              "#46039f"
             ],
             [
              0.2222222222222222,
              "#7201a8"
             ],
             [
              0.3333333333333333,
              "#9c179e"
             ],
             [
              0.4444444444444444,
              "#bd3786"
             ],
             [
              0.5555555555555556,
              "#d8576b"
             ],
             [
              0.6666666666666666,
              "#ed7953"
             ],
             [
              0.7777777777777778,
              "#fb9f3a"
             ],
             [
              0.8888888888888888,
              "#fdca26"
             ],
             [
              1,
              "#f0f921"
             ]
            ],
            "type": "surface"
           }
          ],
          "table": [
           {
            "cells": {
             "fill": {
              "color": "#EBF0F8"
             },
             "line": {
              "color": "white"
             }
            },
            "header": {
             "fill": {
              "color": "#C8D4E3"
             },
             "line": {
              "color": "white"
             }
            },
            "type": "table"
           }
          ]
         },
         "layout": {
          "annotationdefaults": {
           "arrowcolor": "#2a3f5f",
           "arrowhead": 0,
           "arrowwidth": 1
          },
          "autotypenumbers": "strict",
          "coloraxis": {
           "colorbar": {
            "outlinewidth": 0,
            "ticks": ""
           }
          },
          "colorscale": {
           "diverging": [
            [
             0,
             "#8e0152"
            ],
            [
             0.1,
             "#c51b7d"
            ],
            [
             0.2,
             "#de77ae"
            ],
            [
             0.3,
             "#f1b6da"
            ],
            [
             0.4,
             "#fde0ef"
            ],
            [
             0.5,
             "#f7f7f7"
            ],
            [
             0.6,
             "#e6f5d0"
            ],
            [
             0.7,
             "#b8e186"
            ],
            [
             0.8,
             "#7fbc41"
            ],
            [
             0.9,
             "#4d9221"
            ],
            [
             1,
             "#276419"
            ]
           ],
           "sequential": [
            [
             0,
             "#0d0887"
            ],
            [
             0.1111111111111111,
             "#46039f"
            ],
            [
             0.2222222222222222,
             "#7201a8"
            ],
            [
             0.3333333333333333,
             "#9c179e"
            ],
            [
             0.4444444444444444,
             "#bd3786"
            ],
            [
             0.5555555555555556,
             "#d8576b"
            ],
            [
             0.6666666666666666,
             "#ed7953"
            ],
            [
             0.7777777777777778,
             "#fb9f3a"
            ],
            [
             0.8888888888888888,
             "#fdca26"
            ],
            [
             1,
             "#f0f921"
            ]
           ],
           "sequentialminus": [
            [
             0,
             "#0d0887"
            ],
            [
             0.1111111111111111,
             "#46039f"
            ],
            [
             0.2222222222222222,
             "#7201a8"
            ],
            [
             0.3333333333333333,
             "#9c179e"
            ],
            [
             0.4444444444444444,
             "#bd3786"
            ],
            [
             0.5555555555555556,
             "#d8576b"
            ],
            [
             0.6666666666666666,
             "#ed7953"
            ],
            [
             0.7777777777777778,
             "#fb9f3a"
            ],
            [
             0.8888888888888888,
             "#fdca26"
            ],
            [
             1,
             "#f0f921"
            ]
           ]
          },
          "colorway": [
           "#636efa",
           "#EF553B",
           "#00cc96",
           "#ab63fa",
           "#FFA15A",
           "#19d3f3",
           "#FF6692",
           "#B6E880",
           "#FF97FF",
           "#FECB52"
          ],
          "font": {
           "color": "#2a3f5f"
          },
          "geo": {
           "bgcolor": "white",
           "lakecolor": "white",
           "landcolor": "#E5ECF6",
           "showlakes": true,
           "showland": true,
           "subunitcolor": "white"
          },
          "hoverlabel": {
           "align": "left"
          },
          "hovermode": "closest",
          "mapbox": {
           "style": "light"
          },
          "paper_bgcolor": "white",
          "plot_bgcolor": "#E5ECF6",
          "polar": {
           "angularaxis": {
            "gridcolor": "white",
            "linecolor": "white",
            "ticks": ""
           },
           "bgcolor": "#E5ECF6",
           "radialaxis": {
            "gridcolor": "white",
            "linecolor": "white",
            "ticks": ""
           }
          },
          "scene": {
           "xaxis": {
            "backgroundcolor": "#E5ECF6",
            "gridcolor": "white",
            "gridwidth": 2,
            "linecolor": "white",
            "showbackground": true,
            "ticks": "",
            "zerolinecolor": "white"
           },
           "yaxis": {
            "backgroundcolor": "#E5ECF6",
            "gridcolor": "white",
            "gridwidth": 2,
            "linecolor": "white",
            "showbackground": true,
            "ticks": "",
            "zerolinecolor": "white"
           },
           "zaxis": {
            "backgroundcolor": "#E5ECF6",
            "gridcolor": "white",
            "gridwidth": 2,
            "linecolor": "white",
            "showbackground": true,
            "ticks": "",
            "zerolinecolor": "white"
           }
          },
          "shapedefaults": {
           "line": {
            "color": "#2a3f5f"
           }
          },
          "ternary": {
           "aaxis": {
            "gridcolor": "white",
            "linecolor": "white",
            "ticks": ""
           },
           "baxis": {
            "gridcolor": "white",
            "linecolor": "white",
            "ticks": ""
           },
           "bgcolor": "#E5ECF6",
           "caxis": {
            "gridcolor": "white",
            "linecolor": "white",
            "ticks": ""
           }
          },
          "title": {
           "x": 0.05
          },
          "xaxis": {
           "automargin": true,
           "gridcolor": "white",
           "linecolor": "white",
           "ticks": "",
           "title": {
            "standoff": 15
           },
           "zerolinecolor": "white",
           "zerolinewidth": 2
          },
          "yaxis": {
           "automargin": true,
           "gridcolor": "white",
           "linecolor": "white",
           "ticks": "",
           "title": {
            "standoff": 15
           },
           "zerolinecolor": "white",
           "zerolinewidth": 2
          }
         }
        },
        "xaxis": {
         "anchor": "y",
         "domain": [
          0,
          1
         ],
         "rangeselector": {
          "buttons": [
           {
            "count": 1,
            "label": "Sect 1",
            "step": "year",
            "stepmode": "backward"
           },
           {
            "count": 2,
            "label": "Sect 2",
            "step": "year",
            "stepmode": "backward"
           },
           {
            "count": 3,
            "label": "Sect 3",
            "step": "year",
            "stepmode": "backward"
           },
           {
            "step": "all"
           }
          ]
         },
         "rangeslider": {
          "visible": true
         },
         "title": {
          "text": "date"
         }
        },
        "yaxis": {
         "anchor": "x",
         "domain": [
          0,
          1
         ],
         "title": {
          "text": "sales"
         }
        }
       }
      }
     },
     "metadata": {},
     "output_type": "display_data"
    }
   ],
   "source": [
    "# Graph of trends\n",
    "patterns = ['W','ME','YE']\n",
    "\n",
    "for pattern in patterns:\n",
    "        #create new DataFrame\n",
    "    resample_df = pd.DataFrame()\n",
    "\n",
    "    #create 'sales' column that summarizes total sales by week\n",
    "    resample_df['sales'] = sales_df['sales'].resample(pattern).sum()\n",
    "    #plot weekly sales data\n",
    "    \n",
    "    fig = px.line(resample_df,x=resample_df.index, y=resample_df.sales) \n",
    "    fig.update_xaxes(\n",
    "        rangeslider_visible = True,\n",
    "        rangeselector = dict(\n",
    "            buttons = list ([\n",
    "dict(count = 1, label = 'Sect 1' , step = 'year' , stepmode = 'backward'),\n",
    "dict(count = 2, label = 'Sect 2' , step = 'year' , stepmode = 'backward'),\n",
    "dict(count = 3, label = 'Sect 3' , step = 'year' , stepmode = 'backward'),\n",
    "dict(step = 'all')\n",
    "            ])\n",
    "        )\n",
    "    )\n",
    "\n",
    "    # Creating the Figure instance\n",
    " \n",
    "# showing the plot\n",
    "    fig.show()\n",
    "\n"
   ]
  },
  {
   "cell_type": "markdown",
   "metadata": {},
   "source": [
    "#### Transactions"
   ]
  },
  {
   "cell_type": "code",
   "execution_count": 71,
   "metadata": {},
   "outputs": [
    {
     "data": {
      "application/vnd.plotly.v1+json": {
       "config": {
        "plotlyServerURL": "https://plot.ly"
       },
       "data": [
        {
         "hovertemplate": "x=%{x}<br>y=%{y}<extra></extra>",
         "legendgroup": "",
         "line": {
          "color": "#636efa",
          "dash": "solid"
         },
         "marker": {
          "symbol": "circle"
         },
         "mode": "lines",
         "name": "",
         "orientation": "v",
         "showlegend": false,
         "type": "scatter",
         "x": [
          "2013-01-06T00:00:00",
          "2013-01-13T00:00:00",
          "2013-01-20T00:00:00",
          "2013-01-27T00:00:00",
          "2013-02-03T00:00:00",
          "2013-02-10T00:00:00",
          "2013-02-17T00:00:00",
          "2013-02-24T00:00:00",
          "2013-03-03T00:00:00",
          "2013-03-10T00:00:00",
          "2013-03-17T00:00:00",
          "2013-03-24T00:00:00",
          "2013-03-31T00:00:00",
          "2013-04-07T00:00:00",
          "2013-04-14T00:00:00",
          "2013-04-21T00:00:00",
          "2013-04-28T00:00:00",
          "2013-05-05T00:00:00",
          "2013-05-12T00:00:00",
          "2013-05-19T00:00:00",
          "2013-05-26T00:00:00",
          "2013-06-02T00:00:00",
          "2013-06-09T00:00:00",
          "2013-06-16T00:00:00",
          "2013-06-23T00:00:00",
          "2013-06-30T00:00:00",
          "2013-07-07T00:00:00",
          "2013-07-14T00:00:00",
          "2013-07-21T00:00:00",
          "2013-07-28T00:00:00",
          "2013-08-04T00:00:00",
          "2013-08-11T00:00:00",
          "2013-08-18T00:00:00",
          "2013-08-25T00:00:00",
          "2013-09-01T00:00:00",
          "2013-09-08T00:00:00",
          "2013-09-15T00:00:00",
          "2013-09-22T00:00:00",
          "2013-09-29T00:00:00",
          "2013-10-06T00:00:00",
          "2013-10-13T00:00:00",
          "2013-10-20T00:00:00",
          "2013-10-27T00:00:00",
          "2013-11-03T00:00:00",
          "2013-11-10T00:00:00",
          "2013-11-17T00:00:00",
          "2013-11-24T00:00:00",
          "2013-12-01T00:00:00",
          "2013-12-08T00:00:00",
          "2013-12-15T00:00:00",
          "2013-12-22T00:00:00",
          "2013-12-29T00:00:00",
          "2014-01-05T00:00:00",
          "2014-01-12T00:00:00",
          "2014-01-19T00:00:00",
          "2014-01-26T00:00:00",
          "2014-02-02T00:00:00",
          "2014-02-09T00:00:00",
          "2014-02-16T00:00:00",
          "2014-02-23T00:00:00",
          "2014-03-02T00:00:00",
          "2014-03-09T00:00:00",
          "2014-03-16T00:00:00",
          "2014-03-23T00:00:00",
          "2014-03-30T00:00:00",
          "2014-04-06T00:00:00",
          "2014-04-13T00:00:00",
          "2014-04-20T00:00:00",
          "2014-04-27T00:00:00",
          "2014-05-04T00:00:00",
          "2014-05-11T00:00:00",
          "2014-05-18T00:00:00",
          "2014-05-25T00:00:00",
          "2014-06-01T00:00:00",
          "2014-06-08T00:00:00",
          "2014-06-15T00:00:00",
          "2014-06-22T00:00:00",
          "2014-06-29T00:00:00",
          "2014-07-06T00:00:00",
          "2014-07-13T00:00:00",
          "2014-07-20T00:00:00",
          "2014-07-27T00:00:00",
          "2014-08-03T00:00:00",
          "2014-08-10T00:00:00",
          "2014-08-17T00:00:00",
          "2014-08-24T00:00:00",
          "2014-08-31T00:00:00",
          "2014-09-07T00:00:00",
          "2014-09-14T00:00:00",
          "2014-09-21T00:00:00",
          "2014-09-28T00:00:00",
          "2014-10-05T00:00:00",
          "2014-10-12T00:00:00",
          "2014-10-19T00:00:00",
          "2014-10-26T00:00:00",
          "2014-11-02T00:00:00",
          "2014-11-09T00:00:00",
          "2014-11-16T00:00:00",
          "2014-11-23T00:00:00",
          "2014-11-30T00:00:00",
          "2014-12-07T00:00:00",
          "2014-12-14T00:00:00",
          "2014-12-21T00:00:00",
          "2014-12-28T00:00:00",
          "2015-01-04T00:00:00",
          "2015-01-11T00:00:00",
          "2015-01-18T00:00:00",
          "2015-01-25T00:00:00",
          "2015-02-01T00:00:00",
          "2015-02-08T00:00:00",
          "2015-02-15T00:00:00",
          "2015-02-22T00:00:00",
          "2015-03-01T00:00:00",
          "2015-03-08T00:00:00",
          "2015-03-15T00:00:00",
          "2015-03-22T00:00:00",
          "2015-03-29T00:00:00",
          "2015-04-05T00:00:00",
          "2015-04-12T00:00:00",
          "2015-04-19T00:00:00",
          "2015-04-26T00:00:00",
          "2015-05-03T00:00:00",
          "2015-05-10T00:00:00",
          "2015-05-17T00:00:00",
          "2015-05-24T00:00:00",
          "2015-05-31T00:00:00",
          "2015-06-07T00:00:00",
          "2015-06-14T00:00:00",
          "2015-06-21T00:00:00",
          "2015-06-28T00:00:00",
          "2015-07-05T00:00:00",
          "2015-07-12T00:00:00",
          "2015-07-19T00:00:00",
          "2015-07-26T00:00:00",
          "2015-08-02T00:00:00",
          "2015-08-09T00:00:00",
          "2015-08-16T00:00:00",
          "2015-08-23T00:00:00",
          "2015-08-30T00:00:00",
          "2015-09-06T00:00:00",
          "2015-09-13T00:00:00",
          "2015-09-20T00:00:00",
          "2015-09-27T00:00:00",
          "2015-10-04T00:00:00",
          "2015-10-11T00:00:00",
          "2015-10-18T00:00:00",
          "2015-10-25T00:00:00",
          "2015-11-01T00:00:00",
          "2015-11-08T00:00:00",
          "2015-11-15T00:00:00",
          "2015-11-22T00:00:00",
          "2015-11-29T00:00:00",
          "2015-12-06T00:00:00",
          "2015-12-13T00:00:00",
          "2015-12-20T00:00:00",
          "2015-12-27T00:00:00",
          "2016-01-03T00:00:00",
          "2016-01-10T00:00:00",
          "2016-01-17T00:00:00",
          "2016-01-24T00:00:00",
          "2016-01-31T00:00:00",
          "2016-02-07T00:00:00",
          "2016-02-14T00:00:00",
          "2016-02-21T00:00:00",
          "2016-02-28T00:00:00",
          "2016-03-06T00:00:00",
          "2016-03-13T00:00:00",
          "2016-03-20T00:00:00",
          "2016-03-27T00:00:00",
          "2016-04-03T00:00:00",
          "2016-04-10T00:00:00",
          "2016-04-17T00:00:00",
          "2016-04-24T00:00:00",
          "2016-05-01T00:00:00",
          "2016-05-08T00:00:00",
          "2016-05-15T00:00:00",
          "2016-05-22T00:00:00",
          "2016-05-29T00:00:00",
          "2016-06-05T00:00:00",
          "2016-06-12T00:00:00",
          "2016-06-19T00:00:00",
          "2016-06-26T00:00:00",
          "2016-07-03T00:00:00",
          "2016-07-10T00:00:00",
          "2016-07-17T00:00:00",
          "2016-07-24T00:00:00",
          "2016-07-31T00:00:00",
          "2016-08-07T00:00:00",
          "2016-08-14T00:00:00",
          "2016-08-21T00:00:00",
          "2016-08-28T00:00:00",
          "2016-09-04T00:00:00",
          "2016-09-11T00:00:00",
          "2016-09-18T00:00:00",
          "2016-09-25T00:00:00",
          "2016-10-02T00:00:00",
          "2016-10-09T00:00:00",
          "2016-10-16T00:00:00",
          "2016-10-23T00:00:00",
          "2016-10-30T00:00:00",
          "2016-11-06T00:00:00",
          "2016-11-13T00:00:00",
          "2016-11-20T00:00:00",
          "2016-11-27T00:00:00",
          "2016-12-04T00:00:00",
          "2016-12-11T00:00:00",
          "2016-12-18T00:00:00",
          "2016-12-25T00:00:00",
          "2017-01-01T00:00:00",
          "2017-01-08T00:00:00",
          "2017-01-15T00:00:00",
          "2017-01-22T00:00:00",
          "2017-01-29T00:00:00",
          "2017-02-05T00:00:00",
          "2017-02-12T00:00:00",
          "2017-02-19T00:00:00",
          "2017-02-26T00:00:00",
          "2017-03-05T00:00:00",
          "2017-03-12T00:00:00",
          "2017-03-19T00:00:00",
          "2017-03-26T00:00:00",
          "2017-04-02T00:00:00",
          "2017-04-09T00:00:00",
          "2017-04-16T00:00:00",
          "2017-04-23T00:00:00",
          "2017-04-30T00:00:00",
          "2017-05-07T00:00:00",
          "2017-05-14T00:00:00",
          "2017-05-21T00:00:00",
          "2017-05-28T00:00:00",
          "2017-06-04T00:00:00",
          "2017-06-11T00:00:00",
          "2017-06-18T00:00:00",
          "2017-06-25T00:00:00",
          "2017-07-02T00:00:00",
          "2017-07-09T00:00:00",
          "2017-07-16T00:00:00",
          "2017-07-23T00:00:00",
          "2017-07-30T00:00:00",
          "2017-08-06T00:00:00",
          "2017-08-13T00:00:00",
          "2017-08-20T00:00:00"
         ],
         "xaxis": "x",
         "y": [
          435020,
          528431,
          527766,
          518361,
          542655,
          539647,
          553863,
          532569,
          551717,
          561656,
          540689,
          536913,
          548569,
          568549,
          546845,
          545844,
          538145,
          578295,
          580329,
          548611,
          533864,
          571646,
          565296,
          553085,
          536562,
          537505,
          572199,
          535432,
          537413,
          533688,
          561834,
          553098,
          551211,
          547466,
          566637,
          583726,
          548182,
          543159,
          535069,
          576115,
          544671,
          544570,
          531161,
          550797,
          560431,
          545517,
          544249,
          552160,
          588648,
          609837,
          744971,
          687641,
          606226,
          562103,
          552805,
          542403,
          556404,
          571662,
          589481,
          543380,
          563396,
          591347,
          564316,
          568970,
          557223,
          606249,
          577200,
          579545,
          555617,
          578406,
          583645,
          553905,
          541011,
          567093,
          578774,
          561919,
          549979,
          530655,
          578102,
          542885,
          550530,
          546079,
          576709,
          564636,
          562793,
          567271,
          567247,
          605107,
          570732,
          567613,
          551469,
          597126,
          571549,
          564490,
          552714,
          546089,
          592338,
          557087,
          558423,
          568002,
          611319,
          629266,
          733844,
          730239,
          634210,
          599514,
          570958,
          564053,
          563103,
          585795,
          592275,
          592038,
          578397,
          611784,
          593340,
          585997,
          575460,
          615781,
          599496,
          590082,
          580277,
          595654,
          628131,
          583162,
          577463,
          595254,
          620981,
          579372,
          601700,
          571640,
          614654,
          589774,
          579971,
          580409,
          599627,
          597910,
          606871,
          595335,
          586199,
          637151,
          596792,
          590248,
          578167,
          606633,
          601917,
          581940,
          574580,
          558436,
          609917,
          579722,
          581018,
          588453,
          634215,
          636260,
          719263,
          794753,
          520281,
          557747,
          587286,
          579888,
          576656,
          608785,
          611195,
          589908,
          575758,
          620318,
          595923,
          586332,
          580128,
          601845,
          598748,
          580374,
          664583,
          593368,
          645677,
          593027,
          583746,
          568459,
          623975,
          576267,
          598333,
          565940,
          587438,
          592654,
          568996,
          569819,
          574964,
          600894,
          561738,
          580013,
          562363,
          592780,
          587089,
          566456,
          557458,
          566745,
          584202,
          561218,
          555341,
          546800,
          600749,
          585816,
          583583,
          600510,
          612604,
          645314,
          683433,
          818578,
          672530,
          671061,
          599522,
          597264,
          586215,
          619692,
          606233,
          619204,
          593145,
          633587,
          606619,
          604826,
          600059,
          610573,
          610627,
          615123,
          617647,
          616632,
          659524,
          646307,
          621986,
          614371,
          655644,
          624981,
          632972,
          607452,
          620895,
          640670,
          615576,
          613573,
          612229,
          647795,
          604481,
          172009
         ],
         "yaxis": "y"
        }
       ],
       "layout": {
        "legend": {
         "tracegroupgap": 0
        },
        "margin": {
         "t": 60
        },
        "template": {
         "data": {
          "bar": [
           {
            "error_x": {
             "color": "#2a3f5f"
            },
            "error_y": {
             "color": "#2a3f5f"
            },
            "marker": {
             "line": {
              "color": "#E5ECF6",
              "width": 0.5
             },
             "pattern": {
              "fillmode": "overlay",
              "size": 10,
              "solidity": 0.2
             }
            },
            "type": "bar"
           }
          ],
          "barpolar": [
           {
            "marker": {
             "line": {
              "color": "#E5ECF6",
              "width": 0.5
             },
             "pattern": {
              "fillmode": "overlay",
              "size": 10,
              "solidity": 0.2
             }
            },
            "type": "barpolar"
           }
          ],
          "carpet": [
           {
            "aaxis": {
             "endlinecolor": "#2a3f5f",
             "gridcolor": "white",
             "linecolor": "white",
             "minorgridcolor": "white",
             "startlinecolor": "#2a3f5f"
            },
            "baxis": {
             "endlinecolor": "#2a3f5f",
             "gridcolor": "white",
             "linecolor": "white",
             "minorgridcolor": "white",
             "startlinecolor": "#2a3f5f"
            },
            "type": "carpet"
           }
          ],
          "choropleth": [
           {
            "colorbar": {
             "outlinewidth": 0,
             "ticks": ""
            },
            "type": "choropleth"
           }
          ],
          "contour": [
           {
            "colorbar": {
             "outlinewidth": 0,
             "ticks": ""
            },
            "colorscale": [
             [
              0,
              "#0d0887"
             ],
             [
              0.1111111111111111,
              "#46039f"
             ],
             [
              0.2222222222222222,
              "#7201a8"
             ],
             [
              0.3333333333333333,
              "#9c179e"
             ],
             [
              0.4444444444444444,
              "#bd3786"
             ],
             [
              0.5555555555555556,
              "#d8576b"
             ],
             [
              0.6666666666666666,
              "#ed7953"
             ],
             [
              0.7777777777777778,
              "#fb9f3a"
             ],
             [
              0.8888888888888888,
              "#fdca26"
             ],
             [
              1,
              "#f0f921"
             ]
            ],
            "type": "contour"
           }
          ],
          "contourcarpet": [
           {
            "colorbar": {
             "outlinewidth": 0,
             "ticks": ""
            },
            "type": "contourcarpet"
           }
          ],
          "heatmap": [
           {
            "colorbar": {
             "outlinewidth": 0,
             "ticks": ""
            },
            "colorscale": [
             [
              0,
              "#0d0887"
             ],
             [
              0.1111111111111111,
              "#46039f"
             ],
             [
              0.2222222222222222,
              "#7201a8"
             ],
             [
              0.3333333333333333,
              "#9c179e"
             ],
             [
              0.4444444444444444,
              "#bd3786"
             ],
             [
              0.5555555555555556,
              "#d8576b"
             ],
             [
              0.6666666666666666,
              "#ed7953"
             ],
             [
              0.7777777777777778,
              "#fb9f3a"
             ],
             [
              0.8888888888888888,
              "#fdca26"
             ],
             [
              1,
              "#f0f921"
             ]
            ],
            "type": "heatmap"
           }
          ],
          "heatmapgl": [
           {
            "colorbar": {
             "outlinewidth": 0,
             "ticks": ""
            },
            "colorscale": [
             [
              0,
              "#0d0887"
             ],
             [
              0.1111111111111111,
              "#46039f"
             ],
             [
              0.2222222222222222,
              "#7201a8"
             ],
             [
              0.3333333333333333,
              "#9c179e"
             ],
             [
              0.4444444444444444,
              "#bd3786"
             ],
             [
              0.5555555555555556,
              "#d8576b"
             ],
             [
              0.6666666666666666,
              "#ed7953"
             ],
             [
              0.7777777777777778,
              "#fb9f3a"
             ],
             [
              0.8888888888888888,
              "#fdca26"
             ],
             [
              1,
              "#f0f921"
             ]
            ],
            "type": "heatmapgl"
           }
          ],
          "histogram": [
           {
            "marker": {
             "pattern": {
              "fillmode": "overlay",
              "size": 10,
              "solidity": 0.2
             }
            },
            "type": "histogram"
           }
          ],
          "histogram2d": [
           {
            "colorbar": {
             "outlinewidth": 0,
             "ticks": ""
            },
            "colorscale": [
             [
              0,
              "#0d0887"
             ],
             [
              0.1111111111111111,
              "#46039f"
             ],
             [
              0.2222222222222222,
              "#7201a8"
             ],
             [
              0.3333333333333333,
              "#9c179e"
             ],
             [
              0.4444444444444444,
              "#bd3786"
             ],
             [
              0.5555555555555556,
              "#d8576b"
             ],
             [
              0.6666666666666666,
              "#ed7953"
             ],
             [
              0.7777777777777778,
              "#fb9f3a"
             ],
             [
              0.8888888888888888,
              "#fdca26"
             ],
             [
              1,
              "#f0f921"
             ]
            ],
            "type": "histogram2d"
           }
          ],
          "histogram2dcontour": [
           {
            "colorbar": {
             "outlinewidth": 0,
             "ticks": ""
            },
            "colorscale": [
             [
              0,
              "#0d0887"
             ],
             [
              0.1111111111111111,
              "#46039f"
             ],
             [
              0.2222222222222222,
              "#7201a8"
             ],
             [
              0.3333333333333333,
              "#9c179e"
             ],
             [
              0.4444444444444444,
              "#bd3786"
             ],
             [
              0.5555555555555556,
              "#d8576b"
             ],
             [
              0.6666666666666666,
              "#ed7953"
             ],
             [
              0.7777777777777778,
              "#fb9f3a"
             ],
             [
              0.8888888888888888,
              "#fdca26"
             ],
             [
              1,
              "#f0f921"
             ]
            ],
            "type": "histogram2dcontour"
           }
          ],
          "mesh3d": [
           {
            "colorbar": {
             "outlinewidth": 0,
             "ticks": ""
            },
            "type": "mesh3d"
           }
          ],
          "parcoords": [
           {
            "line": {
             "colorbar": {
              "outlinewidth": 0,
              "ticks": ""
             }
            },
            "type": "parcoords"
           }
          ],
          "pie": [
           {
            "automargin": true,
            "type": "pie"
           }
          ],
          "scatter": [
           {
            "fillpattern": {
             "fillmode": "overlay",
             "size": 10,
             "solidity": 0.2
            },
            "type": "scatter"
           }
          ],
          "scatter3d": [
           {
            "line": {
             "colorbar": {
              "outlinewidth": 0,
              "ticks": ""
             }
            },
            "marker": {
             "colorbar": {
              "outlinewidth": 0,
              "ticks": ""
             }
            },
            "type": "scatter3d"
           }
          ],
          "scattercarpet": [
           {
            "marker": {
             "colorbar": {
              "outlinewidth": 0,
              "ticks": ""
             }
            },
            "type": "scattercarpet"
           }
          ],
          "scattergeo": [
           {
            "marker": {
             "colorbar": {
              "outlinewidth": 0,
              "ticks": ""
             }
            },
            "type": "scattergeo"
           }
          ],
          "scattergl": [
           {
            "marker": {
             "colorbar": {
              "outlinewidth": 0,
              "ticks": ""
             }
            },
            "type": "scattergl"
           }
          ],
          "scattermapbox": [
           {
            "marker": {
             "colorbar": {
              "outlinewidth": 0,
              "ticks": ""
             }
            },
            "type": "scattermapbox"
           }
          ],
          "scatterpolar": [
           {
            "marker": {
             "colorbar": {
              "outlinewidth": 0,
              "ticks": ""
             }
            },
            "type": "scatterpolar"
           }
          ],
          "scatterpolargl": [
           {
            "marker": {
             "colorbar": {
              "outlinewidth": 0,
              "ticks": ""
             }
            },
            "type": "scatterpolargl"
           }
          ],
          "scatterternary": [
           {
            "marker": {
             "colorbar": {
              "outlinewidth": 0,
              "ticks": ""
             }
            },
            "type": "scatterternary"
           }
          ],
          "surface": [
           {
            "colorbar": {
             "outlinewidth": 0,
             "ticks": ""
            },
            "colorscale": [
             [
              0,
              "#0d0887"
             ],
             [
              0.1111111111111111,
              "#46039f"
             ],
             [
              0.2222222222222222,
              "#7201a8"
             ],
             [
              0.3333333333333333,
              "#9c179e"
             ],
             [
              0.4444444444444444,
              "#bd3786"
             ],
             [
              0.5555555555555556,
              "#d8576b"
             ],
             [
              0.6666666666666666,
              "#ed7953"
             ],
             [
              0.7777777777777778,
              "#fb9f3a"
             ],
             [
              0.8888888888888888,
              "#fdca26"
             ],
             [
              1,
              "#f0f921"
             ]
            ],
            "type": "surface"
           }
          ],
          "table": [
           {
            "cells": {
             "fill": {
              "color": "#EBF0F8"
             },
             "line": {
              "color": "white"
             }
            },
            "header": {
             "fill": {
              "color": "#C8D4E3"
             },
             "line": {
              "color": "white"
             }
            },
            "type": "table"
           }
          ]
         },
         "layout": {
          "annotationdefaults": {
           "arrowcolor": "#2a3f5f",
           "arrowhead": 0,
           "arrowwidth": 1
          },
          "autotypenumbers": "strict",
          "coloraxis": {
           "colorbar": {
            "outlinewidth": 0,
            "ticks": ""
           }
          },
          "colorscale": {
           "diverging": [
            [
             0,
             "#8e0152"
            ],
            [
             0.1,
             "#c51b7d"
            ],
            [
             0.2,
             "#de77ae"
            ],
            [
             0.3,
             "#f1b6da"
            ],
            [
             0.4,
             "#fde0ef"
            ],
            [
             0.5,
             "#f7f7f7"
            ],
            [
             0.6,
             "#e6f5d0"
            ],
            [
             0.7,
             "#b8e186"
            ],
            [
             0.8,
             "#7fbc41"
            ],
            [
             0.9,
             "#4d9221"
            ],
            [
             1,
             "#276419"
            ]
           ],
           "sequential": [
            [
             0,
             "#0d0887"
            ],
            [
             0.1111111111111111,
             "#46039f"
            ],
            [
             0.2222222222222222,
             "#7201a8"
            ],
            [
             0.3333333333333333,
             "#9c179e"
            ],
            [
             0.4444444444444444,
             "#bd3786"
            ],
            [
             0.5555555555555556,
             "#d8576b"
            ],
            [
             0.6666666666666666,
             "#ed7953"
            ],
            [
             0.7777777777777778,
             "#fb9f3a"
            ],
            [
             0.8888888888888888,
             "#fdca26"
            ],
            [
             1,
             "#f0f921"
            ]
           ],
           "sequentialminus": [
            [
             0,
             "#0d0887"
            ],
            [
             0.1111111111111111,
             "#46039f"
            ],
            [
             0.2222222222222222,
             "#7201a8"
            ],
            [
             0.3333333333333333,
             "#9c179e"
            ],
            [
             0.4444444444444444,
             "#bd3786"
            ],
            [
             0.5555555555555556,
             "#d8576b"
            ],
            [
             0.6666666666666666,
             "#ed7953"
            ],
            [
             0.7777777777777778,
             "#fb9f3a"
            ],
            [
             0.8888888888888888,
             "#fdca26"
            ],
            [
             1,
             "#f0f921"
            ]
           ]
          },
          "colorway": [
           "#636efa",
           "#EF553B",
           "#00cc96",
           "#ab63fa",
           "#FFA15A",
           "#19d3f3",
           "#FF6692",
           "#B6E880",
           "#FF97FF",
           "#FECB52"
          ],
          "font": {
           "color": "#2a3f5f"
          },
          "geo": {
           "bgcolor": "white",
           "lakecolor": "white",
           "landcolor": "#E5ECF6",
           "showlakes": true,
           "showland": true,
           "subunitcolor": "white"
          },
          "hoverlabel": {
           "align": "left"
          },
          "hovermode": "closest",
          "mapbox": {
           "style": "light"
          },
          "paper_bgcolor": "white",
          "plot_bgcolor": "#E5ECF6",
          "polar": {
           "angularaxis": {
            "gridcolor": "white",
            "linecolor": "white",
            "ticks": ""
           },
           "bgcolor": "#E5ECF6",
           "radialaxis": {
            "gridcolor": "white",
            "linecolor": "white",
            "ticks": ""
           }
          },
          "scene": {
           "xaxis": {
            "backgroundcolor": "#E5ECF6",
            "gridcolor": "white",
            "gridwidth": 2,
            "linecolor": "white",
            "showbackground": true,
            "ticks": "",
            "zerolinecolor": "white"
           },
           "yaxis": {
            "backgroundcolor": "#E5ECF6",
            "gridcolor": "white",
            "gridwidth": 2,
            "linecolor": "white",
            "showbackground": true,
            "ticks": "",
            "zerolinecolor": "white"
           },
           "zaxis": {
            "backgroundcolor": "#E5ECF6",
            "gridcolor": "white",
            "gridwidth": 2,
            "linecolor": "white",
            "showbackground": true,
            "ticks": "",
            "zerolinecolor": "white"
           }
          },
          "shapedefaults": {
           "line": {
            "color": "#2a3f5f"
           }
          },
          "ternary": {
           "aaxis": {
            "gridcolor": "white",
            "linecolor": "white",
            "ticks": ""
           },
           "baxis": {
            "gridcolor": "white",
            "linecolor": "white",
            "ticks": ""
           },
           "bgcolor": "#E5ECF6",
           "caxis": {
            "gridcolor": "white",
            "linecolor": "white",
            "ticks": ""
           }
          },
          "title": {
           "x": 0.05
          },
          "xaxis": {
           "automargin": true,
           "gridcolor": "white",
           "linecolor": "white",
           "ticks": "",
           "title": {
            "standoff": 15
           },
           "zerolinecolor": "white",
           "zerolinewidth": 2
          },
          "yaxis": {
           "automargin": true,
           "gridcolor": "white",
           "linecolor": "white",
           "ticks": "",
           "title": {
            "standoff": 15
           },
           "zerolinecolor": "white",
           "zerolinewidth": 2
          }
         }
        },
        "xaxis": {
         "anchor": "y",
         "domain": [
          0,
          1
         ],
         "title": {
          "text": "x"
         }
        },
        "yaxis": {
         "anchor": "x",
         "domain": [
          0,
          1
         ],
         "title": {
          "text": "y"
         }
        }
       }
      }
     },
     "metadata": {},
     "output_type": "display_data"
    },
    {
     "name": "stderr",
     "output_type": "stream",
     "text": [
      "C:\\Users\\chrap\\AppData\\Local\\Temp\\ipykernel_8180\\2356674678.py:9: FutureWarning:\n",
      "\n",
      "'M' is deprecated and will be removed in a future version, please use 'ME' instead.\n",
      "\n"
     ]
    },
    {
     "data": {
      "application/vnd.plotly.v1+json": {
       "config": {
        "plotlyServerURL": "https://plot.ly"
       },
       "data": [
        {
         "hovertemplate": "x=%{x}<br>y=%{y}<extra></extra>",
         "legendgroup": "",
         "line": {
          "color": "#636efa",
          "dash": "solid"
         },
         "marker": {
          "symbol": "circle"
         },
         "mode": "lines",
         "name": "",
         "orientation": "v",
         "showlegend": false,
         "type": "scatter",
         "x": [
          "2013-01-31T00:00:00",
          "2013-02-28T00:00:00",
          "2013-03-31T00:00:00",
          "2013-04-30T00:00:00",
          "2013-05-31T00:00:00",
          "2013-06-30T00:00:00",
          "2013-07-31T00:00:00",
          "2013-08-31T00:00:00",
          "2013-09-30T00:00:00",
          "2013-10-31T00:00:00",
          "2013-11-30T00:00:00",
          "2013-12-31T00:00:00",
          "2014-01-31T00:00:00",
          "2014-02-28T00:00:00",
          "2014-03-31T00:00:00",
          "2014-04-30T00:00:00",
          "2014-05-31T00:00:00",
          "2014-06-30T00:00:00",
          "2014-07-31T00:00:00",
          "2014-08-31T00:00:00",
          "2014-09-30T00:00:00",
          "2014-10-31T00:00:00",
          "2014-11-30T00:00:00",
          "2014-12-31T00:00:00",
          "2015-01-31T00:00:00",
          "2015-02-28T00:00:00",
          "2015-03-31T00:00:00",
          "2015-04-30T00:00:00",
          "2015-05-31T00:00:00",
          "2015-06-30T00:00:00",
          "2015-07-31T00:00:00",
          "2015-08-31T00:00:00",
          "2015-09-30T00:00:00",
          "2015-10-31T00:00:00",
          "2015-11-30T00:00:00",
          "2015-12-31T00:00:00",
          "2016-01-31T00:00:00",
          "2016-02-29T00:00:00",
          "2016-03-31T00:00:00",
          "2016-04-30T00:00:00",
          "2016-05-31T00:00:00",
          "2016-06-30T00:00:00",
          "2016-07-31T00:00:00",
          "2016-08-31T00:00:00",
          "2016-09-30T00:00:00",
          "2016-10-31T00:00:00",
          "2016-11-30T00:00:00",
          "2016-12-31T00:00:00",
          "2017-01-31T00:00:00",
          "2017-02-28T00:00:00",
          "2017-03-31T00:00:00",
          "2017-04-30T00:00:00",
          "2017-05-31T00:00:00",
          "2017-06-30T00:00:00",
          "2017-07-31T00:00:00",
          "2017-08-31T00:00:00"
         ],
         "xaxis": "x",
         "y": [
          2289558,
          2169615,
          2458683,
          2344905,
          2467465,
          2392206,
          2401968,
          2461139,
          2380462,
          2408440,
          2369866,
          2962866,
          2393528,
          2278167,
          2545427,
          2455666,
          2503262,
          2399144,
          2442341,
          2537572,
          2449131,
          2503310,
          2450298,
          3049083,
          2489059,
          2345984,
          2625500,
          2533355,
          2673911,
          2530903,
          2604784,
          2675057,
          2545252,
          2610484,
          2528193,
          3149888,
          2371205,
          2465798,
          2607658,
          2631797,
          2666157,
          2491063,
          2594087,
          2536111,
          2436974,
          2526000,
          2529516,
          3195971,
          2612848,
          2448370,
          2680645,
          2667808,
          2801884,
          2668863,
          2784026,
          1335692
         ],
         "yaxis": "y"
        }
       ],
       "layout": {
        "legend": {
         "tracegroupgap": 0
        },
        "margin": {
         "t": 60
        },
        "template": {
         "data": {
          "bar": [
           {
            "error_x": {
             "color": "#2a3f5f"
            },
            "error_y": {
             "color": "#2a3f5f"
            },
            "marker": {
             "line": {
              "color": "#E5ECF6",
              "width": 0.5
             },
             "pattern": {
              "fillmode": "overlay",
              "size": 10,
              "solidity": 0.2
             }
            },
            "type": "bar"
           }
          ],
          "barpolar": [
           {
            "marker": {
             "line": {
              "color": "#E5ECF6",
              "width": 0.5
             },
             "pattern": {
              "fillmode": "overlay",
              "size": 10,
              "solidity": 0.2
             }
            },
            "type": "barpolar"
           }
          ],
          "carpet": [
           {
            "aaxis": {
             "endlinecolor": "#2a3f5f",
             "gridcolor": "white",
             "linecolor": "white",
             "minorgridcolor": "white",
             "startlinecolor": "#2a3f5f"
            },
            "baxis": {
             "endlinecolor": "#2a3f5f",
             "gridcolor": "white",
             "linecolor": "white",
             "minorgridcolor": "white",
             "startlinecolor": "#2a3f5f"
            },
            "type": "carpet"
           }
          ],
          "choropleth": [
           {
            "colorbar": {
             "outlinewidth": 0,
             "ticks": ""
            },
            "type": "choropleth"
           }
          ],
          "contour": [
           {
            "colorbar": {
             "outlinewidth": 0,
             "ticks": ""
            },
            "colorscale": [
             [
              0,
              "#0d0887"
             ],
             [
              0.1111111111111111,
              "#46039f"
             ],
             [
              0.2222222222222222,
              "#7201a8"
             ],
             [
              0.3333333333333333,
              "#9c179e"
             ],
             [
              0.4444444444444444,
              "#bd3786"
             ],
             [
              0.5555555555555556,
              "#d8576b"
             ],
             [
              0.6666666666666666,
              "#ed7953"
             ],
             [
              0.7777777777777778,
              "#fb9f3a"
             ],
             [
              0.8888888888888888,
              "#fdca26"
             ],
             [
              1,
              "#f0f921"
             ]
            ],
            "type": "contour"
           }
          ],
          "contourcarpet": [
           {
            "colorbar": {
             "outlinewidth": 0,
             "ticks": ""
            },
            "type": "contourcarpet"
           }
          ],
          "heatmap": [
           {
            "colorbar": {
             "outlinewidth": 0,
             "ticks": ""
            },
            "colorscale": [
             [
              0,
              "#0d0887"
             ],
             [
              0.1111111111111111,
              "#46039f"
             ],
             [
              0.2222222222222222,
              "#7201a8"
             ],
             [
              0.3333333333333333,
              "#9c179e"
             ],
             [
              0.4444444444444444,
              "#bd3786"
             ],
             [
              0.5555555555555556,
              "#d8576b"
             ],
             [
              0.6666666666666666,
              "#ed7953"
             ],
             [
              0.7777777777777778,
              "#fb9f3a"
             ],
             [
              0.8888888888888888,
              "#fdca26"
             ],
             [
              1,
              "#f0f921"
             ]
            ],
            "type": "heatmap"
           }
          ],
          "heatmapgl": [
           {
            "colorbar": {
             "outlinewidth": 0,
             "ticks": ""
            },
            "colorscale": [
             [
              0,
              "#0d0887"
             ],
             [
              0.1111111111111111,
              "#46039f"
             ],
             [
              0.2222222222222222,
              "#7201a8"
             ],
             [
              0.3333333333333333,
              "#9c179e"
             ],
             [
              0.4444444444444444,
              "#bd3786"
             ],
             [
              0.5555555555555556,
              "#d8576b"
             ],
             [
              0.6666666666666666,
              "#ed7953"
             ],
             [
              0.7777777777777778,
              "#fb9f3a"
             ],
             [
              0.8888888888888888,
              "#fdca26"
             ],
             [
              1,
              "#f0f921"
             ]
            ],
            "type": "heatmapgl"
           }
          ],
          "histogram": [
           {
            "marker": {
             "pattern": {
              "fillmode": "overlay",
              "size": 10,
              "solidity": 0.2
             }
            },
            "type": "histogram"
           }
          ],
          "histogram2d": [
           {
            "colorbar": {
             "outlinewidth": 0,
             "ticks": ""
            },
            "colorscale": [
             [
              0,
              "#0d0887"
             ],
             [
              0.1111111111111111,
              "#46039f"
             ],
             [
              0.2222222222222222,
              "#7201a8"
             ],
             [
              0.3333333333333333,
              "#9c179e"
             ],
             [
              0.4444444444444444,
              "#bd3786"
             ],
             [
              0.5555555555555556,
              "#d8576b"
             ],
             [
              0.6666666666666666,
              "#ed7953"
             ],
             [
              0.7777777777777778,
              "#fb9f3a"
             ],
             [
              0.8888888888888888,
              "#fdca26"
             ],
             [
              1,
              "#f0f921"
             ]
            ],
            "type": "histogram2d"
           }
          ],
          "histogram2dcontour": [
           {
            "colorbar": {
             "outlinewidth": 0,
             "ticks": ""
            },
            "colorscale": [
             [
              0,
              "#0d0887"
             ],
             [
              0.1111111111111111,
              "#46039f"
             ],
             [
              0.2222222222222222,
              "#7201a8"
             ],
             [
              0.3333333333333333,
              "#9c179e"
             ],
             [
              0.4444444444444444,
              "#bd3786"
             ],
             [
              0.5555555555555556,
              "#d8576b"
             ],
             [
              0.6666666666666666,
              "#ed7953"
             ],
             [
              0.7777777777777778,
              "#fb9f3a"
             ],
             [
              0.8888888888888888,
              "#fdca26"
             ],
             [
              1,
              "#f0f921"
             ]
            ],
            "type": "histogram2dcontour"
           }
          ],
          "mesh3d": [
           {
            "colorbar": {
             "outlinewidth": 0,
             "ticks": ""
            },
            "type": "mesh3d"
           }
          ],
          "parcoords": [
           {
            "line": {
             "colorbar": {
              "outlinewidth": 0,
              "ticks": ""
             }
            },
            "type": "parcoords"
           }
          ],
          "pie": [
           {
            "automargin": true,
            "type": "pie"
           }
          ],
          "scatter": [
           {
            "fillpattern": {
             "fillmode": "overlay",
             "size": 10,
             "solidity": 0.2
            },
            "type": "scatter"
           }
          ],
          "scatter3d": [
           {
            "line": {
             "colorbar": {
              "outlinewidth": 0,
              "ticks": ""
             }
            },
            "marker": {
             "colorbar": {
              "outlinewidth": 0,
              "ticks": ""
             }
            },
            "type": "scatter3d"
           }
          ],
          "scattercarpet": [
           {
            "marker": {
             "colorbar": {
              "outlinewidth": 0,
              "ticks": ""
             }
            },
            "type": "scattercarpet"
           }
          ],
          "scattergeo": [
           {
            "marker": {
             "colorbar": {
              "outlinewidth": 0,
              "ticks": ""
             }
            },
            "type": "scattergeo"
           }
          ],
          "scattergl": [
           {
            "marker": {
             "colorbar": {
              "outlinewidth": 0,
              "ticks": ""
             }
            },
            "type": "scattergl"
           }
          ],
          "scattermapbox": [
           {
            "marker": {
             "colorbar": {
              "outlinewidth": 0,
              "ticks": ""
             }
            },
            "type": "scattermapbox"
           }
          ],
          "scatterpolar": [
           {
            "marker": {
             "colorbar": {
              "outlinewidth": 0,
              "ticks": ""
             }
            },
            "type": "scatterpolar"
           }
          ],
          "scatterpolargl": [
           {
            "marker": {
             "colorbar": {
              "outlinewidth": 0,
              "ticks": ""
             }
            },
            "type": "scatterpolargl"
           }
          ],
          "scatterternary": [
           {
            "marker": {
             "colorbar": {
              "outlinewidth": 0,
              "ticks": ""
             }
            },
            "type": "scatterternary"
           }
          ],
          "surface": [
           {
            "colorbar": {
             "outlinewidth": 0,
             "ticks": ""
            },
            "colorscale": [
             [
              0,
              "#0d0887"
             ],
             [
              0.1111111111111111,
              "#46039f"
             ],
             [
              0.2222222222222222,
              "#7201a8"
             ],
             [
              0.3333333333333333,
              "#9c179e"
             ],
             [
              0.4444444444444444,
              "#bd3786"
             ],
             [
              0.5555555555555556,
              "#d8576b"
             ],
             [
              0.6666666666666666,
              "#ed7953"
             ],
             [
              0.7777777777777778,
              "#fb9f3a"
             ],
             [
              0.8888888888888888,
              "#fdca26"
             ],
             [
              1,
              "#f0f921"
             ]
            ],
            "type": "surface"
           }
          ],
          "table": [
           {
            "cells": {
             "fill": {
              "color": "#EBF0F8"
             },
             "line": {
              "color": "white"
             }
            },
            "header": {
             "fill": {
              "color": "#C8D4E3"
             },
             "line": {
              "color": "white"
             }
            },
            "type": "table"
           }
          ]
         },
         "layout": {
          "annotationdefaults": {
           "arrowcolor": "#2a3f5f",
           "arrowhead": 0,
           "arrowwidth": 1
          },
          "autotypenumbers": "strict",
          "coloraxis": {
           "colorbar": {
            "outlinewidth": 0,
            "ticks": ""
           }
          },
          "colorscale": {
           "diverging": [
            [
             0,
             "#8e0152"
            ],
            [
             0.1,
             "#c51b7d"
            ],
            [
             0.2,
             "#de77ae"
            ],
            [
             0.3,
             "#f1b6da"
            ],
            [
             0.4,
             "#fde0ef"
            ],
            [
             0.5,
             "#f7f7f7"
            ],
            [
             0.6,
             "#e6f5d0"
            ],
            [
             0.7,
             "#b8e186"
            ],
            [
             0.8,
             "#7fbc41"
            ],
            [
             0.9,
             "#4d9221"
            ],
            [
             1,
             "#276419"
            ]
           ],
           "sequential": [
            [
             0,
             "#0d0887"
            ],
            [
             0.1111111111111111,
             "#46039f"
            ],
            [
             0.2222222222222222,
             "#7201a8"
            ],
            [
             0.3333333333333333,
             "#9c179e"
            ],
            [
             0.4444444444444444,
             "#bd3786"
            ],
            [
             0.5555555555555556,
             "#d8576b"
            ],
            [
             0.6666666666666666,
             "#ed7953"
            ],
            [
             0.7777777777777778,
             "#fb9f3a"
            ],
            [
             0.8888888888888888,
             "#fdca26"
            ],
            [
             1,
             "#f0f921"
            ]
           ],
           "sequentialminus": [
            [
             0,
             "#0d0887"
            ],
            [
             0.1111111111111111,
             "#46039f"
            ],
            [
             0.2222222222222222,
             "#7201a8"
            ],
            [
             0.3333333333333333,
             "#9c179e"
            ],
            [
             0.4444444444444444,
             "#bd3786"
            ],
            [
             0.5555555555555556,
             "#d8576b"
            ],
            [
             0.6666666666666666,
             "#ed7953"
            ],
            [
             0.7777777777777778,
             "#fb9f3a"
            ],
            [
             0.8888888888888888,
             "#fdca26"
            ],
            [
             1,
             "#f0f921"
            ]
           ]
          },
          "colorway": [
           "#636efa",
           "#EF553B",
           "#00cc96",
           "#ab63fa",
           "#FFA15A",
           "#19d3f3",
           "#FF6692",
           "#B6E880",
           "#FF97FF",
           "#FECB52"
          ],
          "font": {
           "color": "#2a3f5f"
          },
          "geo": {
           "bgcolor": "white",
           "lakecolor": "white",
           "landcolor": "#E5ECF6",
           "showlakes": true,
           "showland": true,
           "subunitcolor": "white"
          },
          "hoverlabel": {
           "align": "left"
          },
          "hovermode": "closest",
          "mapbox": {
           "style": "light"
          },
          "paper_bgcolor": "white",
          "plot_bgcolor": "#E5ECF6",
          "polar": {
           "angularaxis": {
            "gridcolor": "white",
            "linecolor": "white",
            "ticks": ""
           },
           "bgcolor": "#E5ECF6",
           "radialaxis": {
            "gridcolor": "white",
            "linecolor": "white",
            "ticks": ""
           }
          },
          "scene": {
           "xaxis": {
            "backgroundcolor": "#E5ECF6",
            "gridcolor": "white",
            "gridwidth": 2,
            "linecolor": "white",
            "showbackground": true,
            "ticks": "",
            "zerolinecolor": "white"
           },
           "yaxis": {
            "backgroundcolor": "#E5ECF6",
            "gridcolor": "white",
            "gridwidth": 2,
            "linecolor": "white",
            "showbackground": true,
            "ticks": "",
            "zerolinecolor": "white"
           },
           "zaxis": {
            "backgroundcolor": "#E5ECF6",
            "gridcolor": "white",
            "gridwidth": 2,
            "linecolor": "white",
            "showbackground": true,
            "ticks": "",
            "zerolinecolor": "white"
           }
          },
          "shapedefaults": {
           "line": {
            "color": "#2a3f5f"
           }
          },
          "ternary": {
           "aaxis": {
            "gridcolor": "white",
            "linecolor": "white",
            "ticks": ""
           },
           "baxis": {
            "gridcolor": "white",
            "linecolor": "white",
            "ticks": ""
           },
           "bgcolor": "#E5ECF6",
           "caxis": {
            "gridcolor": "white",
            "linecolor": "white",
            "ticks": ""
           }
          },
          "title": {
           "x": 0.05
          },
          "xaxis": {
           "automargin": true,
           "gridcolor": "white",
           "linecolor": "white",
           "ticks": "",
           "title": {
            "standoff": 15
           },
           "zerolinecolor": "white",
           "zerolinewidth": 2
          },
          "yaxis": {
           "automargin": true,
           "gridcolor": "white",
           "linecolor": "white",
           "ticks": "",
           "title": {
            "standoff": 15
           },
           "zerolinecolor": "white",
           "zerolinewidth": 2
          }
         }
        },
        "xaxis": {
         "anchor": "y",
         "domain": [
          0,
          1
         ],
         "title": {
          "text": "x"
         }
        },
        "yaxis": {
         "anchor": "x",
         "domain": [
          0,
          1
         ],
         "title": {
          "text": "y"
         }
        }
       }
      }
     },
     "metadata": {},
     "output_type": "display_data"
    },
    {
     "name": "stderr",
     "output_type": "stream",
     "text": [
      "C:\\Users\\chrap\\AppData\\Local\\Temp\\ipykernel_8180\\2356674678.py:9: FutureWarning:\n",
      "\n",
      "'A' is deprecated and will be removed in a future version, please use 'YE' instead.\n",
      "\n"
     ]
    },
    {
     "data": {
      "application/vnd.plotly.v1+json": {
       "config": {
        "plotlyServerURL": "https://plot.ly"
       },
       "data": [
        {
         "hovertemplate": "x=%{x}<br>y=%{y}<extra></extra>",
         "legendgroup": "",
         "line": {
          "color": "#636efa",
          "dash": "solid"
         },
         "marker": {
          "symbol": "circle"
         },
         "mode": "lines",
         "name": "",
         "orientation": "v",
         "showlegend": false,
         "type": "scatter",
         "x": [
          "2013-12-31T00:00:00",
          "2014-12-31T00:00:00",
          "2015-12-31T00:00:00",
          "2016-12-31T00:00:00",
          "2017-12-31T00:00:00"
         ],
         "xaxis": "x",
         "y": [
          29107173,
          30006929,
          31312370,
          31052337,
          20000136
         ],
         "yaxis": "y"
        }
       ],
       "layout": {
        "legend": {
         "tracegroupgap": 0
        },
        "margin": {
         "t": 60
        },
        "template": {
         "data": {
          "bar": [
           {
            "error_x": {
             "color": "#2a3f5f"
            },
            "error_y": {
             "color": "#2a3f5f"
            },
            "marker": {
             "line": {
              "color": "#E5ECF6",
              "width": 0.5
             },
             "pattern": {
              "fillmode": "overlay",
              "size": 10,
              "solidity": 0.2
             }
            },
            "type": "bar"
           }
          ],
          "barpolar": [
           {
            "marker": {
             "line": {
              "color": "#E5ECF6",
              "width": 0.5
             },
             "pattern": {
              "fillmode": "overlay",
              "size": 10,
              "solidity": 0.2
             }
            },
            "type": "barpolar"
           }
          ],
          "carpet": [
           {
            "aaxis": {
             "endlinecolor": "#2a3f5f",
             "gridcolor": "white",
             "linecolor": "white",
             "minorgridcolor": "white",
             "startlinecolor": "#2a3f5f"
            },
            "baxis": {
             "endlinecolor": "#2a3f5f",
             "gridcolor": "white",
             "linecolor": "white",
             "minorgridcolor": "white",
             "startlinecolor": "#2a3f5f"
            },
            "type": "carpet"
           }
          ],
          "choropleth": [
           {
            "colorbar": {
             "outlinewidth": 0,
             "ticks": ""
            },
            "type": "choropleth"
           }
          ],
          "contour": [
           {
            "colorbar": {
             "outlinewidth": 0,
             "ticks": ""
            },
            "colorscale": [
             [
              0,
              "#0d0887"
             ],
             [
              0.1111111111111111,
              "#46039f"
             ],
             [
              0.2222222222222222,
              "#7201a8"
             ],
             [
              0.3333333333333333,
              "#9c179e"
             ],
             [
              0.4444444444444444,
              "#bd3786"
             ],
             [
              0.5555555555555556,
              "#d8576b"
             ],
             [
              0.6666666666666666,
              "#ed7953"
             ],
             [
              0.7777777777777778,
              "#fb9f3a"
             ],
             [
              0.8888888888888888,
              "#fdca26"
             ],
             [
              1,
              "#f0f921"
             ]
            ],
            "type": "contour"
           }
          ],
          "contourcarpet": [
           {
            "colorbar": {
             "outlinewidth": 0,
             "ticks": ""
            },
            "type": "contourcarpet"
           }
          ],
          "heatmap": [
           {
            "colorbar": {
             "outlinewidth": 0,
             "ticks": ""
            },
            "colorscale": [
             [
              0,
              "#0d0887"
             ],
             [
              0.1111111111111111,
              "#46039f"
             ],
             [
              0.2222222222222222,
              "#7201a8"
             ],
             [
              0.3333333333333333,
              "#9c179e"
             ],
             [
              0.4444444444444444,
              "#bd3786"
             ],
             [
              0.5555555555555556,
              "#d8576b"
             ],
             [
              0.6666666666666666,
              "#ed7953"
             ],
             [
              0.7777777777777778,
              "#fb9f3a"
             ],
             [
              0.8888888888888888,
              "#fdca26"
             ],
             [
              1,
              "#f0f921"
             ]
            ],
            "type": "heatmap"
           }
          ],
          "heatmapgl": [
           {
            "colorbar": {
             "outlinewidth": 0,
             "ticks": ""
            },
            "colorscale": [
             [
              0,
              "#0d0887"
             ],
             [
              0.1111111111111111,
              "#46039f"
             ],
             [
              0.2222222222222222,
              "#7201a8"
             ],
             [
              0.3333333333333333,
              "#9c179e"
             ],
             [
              0.4444444444444444,
              "#bd3786"
             ],
             [
              0.5555555555555556,
              "#d8576b"
             ],
             [
              0.6666666666666666,
              "#ed7953"
             ],
             [
              0.7777777777777778,
              "#fb9f3a"
             ],
             [
              0.8888888888888888,
              "#fdca26"
             ],
             [
              1,
              "#f0f921"
             ]
            ],
            "type": "heatmapgl"
           }
          ],
          "histogram": [
           {
            "marker": {
             "pattern": {
              "fillmode": "overlay",
              "size": 10,
              "solidity": 0.2
             }
            },
            "type": "histogram"
           }
          ],
          "histogram2d": [
           {
            "colorbar": {
             "outlinewidth": 0,
             "ticks": ""
            },
            "colorscale": [
             [
              0,
              "#0d0887"
             ],
             [
              0.1111111111111111,
              "#46039f"
             ],
             [
              0.2222222222222222,
              "#7201a8"
             ],
             [
              0.3333333333333333,
              "#9c179e"
             ],
             [
              0.4444444444444444,
              "#bd3786"
             ],
             [
              0.5555555555555556,
              "#d8576b"
             ],
             [
              0.6666666666666666,
              "#ed7953"
             ],
             [
              0.7777777777777778,
              "#fb9f3a"
             ],
             [
              0.8888888888888888,
              "#fdca26"
             ],
             [
              1,
              "#f0f921"
             ]
            ],
            "type": "histogram2d"
           }
          ],
          "histogram2dcontour": [
           {
            "colorbar": {
             "outlinewidth": 0,
             "ticks": ""
            },
            "colorscale": [
             [
              0,
              "#0d0887"
             ],
             [
              0.1111111111111111,
              "#46039f"
             ],
             [
              0.2222222222222222,
              "#7201a8"
             ],
             [
              0.3333333333333333,
              "#9c179e"
             ],
             [
              0.4444444444444444,
              "#bd3786"
             ],
             [
              0.5555555555555556,
              "#d8576b"
             ],
             [
              0.6666666666666666,
              "#ed7953"
             ],
             [
              0.7777777777777778,
              "#fb9f3a"
             ],
             [
              0.8888888888888888,
              "#fdca26"
             ],
             [
              1,
              "#f0f921"
             ]
            ],
            "type": "histogram2dcontour"
           }
          ],
          "mesh3d": [
           {
            "colorbar": {
             "outlinewidth": 0,
             "ticks": ""
            },
            "type": "mesh3d"
           }
          ],
          "parcoords": [
           {
            "line": {
             "colorbar": {
              "outlinewidth": 0,
              "ticks": ""
             }
            },
            "type": "parcoords"
           }
          ],
          "pie": [
           {
            "automargin": true,
            "type": "pie"
           }
          ],
          "scatter": [
           {
            "fillpattern": {
             "fillmode": "overlay",
             "size": 10,
             "solidity": 0.2
            },
            "type": "scatter"
           }
          ],
          "scatter3d": [
           {
            "line": {
             "colorbar": {
              "outlinewidth": 0,
              "ticks": ""
             }
            },
            "marker": {
             "colorbar": {
              "outlinewidth": 0,
              "ticks": ""
             }
            },
            "type": "scatter3d"
           }
          ],
          "scattercarpet": [
           {
            "marker": {
             "colorbar": {
              "outlinewidth": 0,
              "ticks": ""
             }
            },
            "type": "scattercarpet"
           }
          ],
          "scattergeo": [
           {
            "marker": {
             "colorbar": {
              "outlinewidth": 0,
              "ticks": ""
             }
            },
            "type": "scattergeo"
           }
          ],
          "scattergl": [
           {
            "marker": {
             "colorbar": {
              "outlinewidth": 0,
              "ticks": ""
             }
            },
            "type": "scattergl"
           }
          ],
          "scattermapbox": [
           {
            "marker": {
             "colorbar": {
              "outlinewidth": 0,
              "ticks": ""
             }
            },
            "type": "scattermapbox"
           }
          ],
          "scatterpolar": [
           {
            "marker": {
             "colorbar": {
              "outlinewidth": 0,
              "ticks": ""
             }
            },
            "type": "scatterpolar"
           }
          ],
          "scatterpolargl": [
           {
            "marker": {
             "colorbar": {
              "outlinewidth": 0,
              "ticks": ""
             }
            },
            "type": "scatterpolargl"
           }
          ],
          "scatterternary": [
           {
            "marker": {
             "colorbar": {
              "outlinewidth": 0,
              "ticks": ""
             }
            },
            "type": "scatterternary"
           }
          ],
          "surface": [
           {
            "colorbar": {
             "outlinewidth": 0,
             "ticks": ""
            },
            "colorscale": [
             [
              0,
              "#0d0887"
             ],
             [
              0.1111111111111111,
              "#46039f"
             ],
             [
              0.2222222222222222,
              "#7201a8"
             ],
             [
              0.3333333333333333,
              "#9c179e"
             ],
             [
              0.4444444444444444,
              "#bd3786"
             ],
             [
              0.5555555555555556,
              "#d8576b"
             ],
             [
              0.6666666666666666,
              "#ed7953"
             ],
             [
              0.7777777777777778,
              "#fb9f3a"
             ],
             [
              0.8888888888888888,
              "#fdca26"
             ],
             [
              1,
              "#f0f921"
             ]
            ],
            "type": "surface"
           }
          ],
          "table": [
           {
            "cells": {
             "fill": {
              "color": "#EBF0F8"
             },
             "line": {
              "color": "white"
             }
            },
            "header": {
             "fill": {
              "color": "#C8D4E3"
             },
             "line": {
              "color": "white"
             }
            },
            "type": "table"
           }
          ]
         },
         "layout": {
          "annotationdefaults": {
           "arrowcolor": "#2a3f5f",
           "arrowhead": 0,
           "arrowwidth": 1
          },
          "autotypenumbers": "strict",
          "coloraxis": {
           "colorbar": {
            "outlinewidth": 0,
            "ticks": ""
           }
          },
          "colorscale": {
           "diverging": [
            [
             0,
             "#8e0152"
            ],
            [
             0.1,
             "#c51b7d"
            ],
            [
             0.2,
             "#de77ae"
            ],
            [
             0.3,
             "#f1b6da"
            ],
            [
             0.4,
             "#fde0ef"
            ],
            [
             0.5,
             "#f7f7f7"
            ],
            [
             0.6,
             "#e6f5d0"
            ],
            [
             0.7,
             "#b8e186"
            ],
            [
             0.8,
             "#7fbc41"
            ],
            [
             0.9,
             "#4d9221"
            ],
            [
             1,
             "#276419"
            ]
           ],
           "sequential": [
            [
             0,
             "#0d0887"
            ],
            [
             0.1111111111111111,
             "#46039f"
            ],
            [
             0.2222222222222222,
             "#7201a8"
            ],
            [
             0.3333333333333333,
             "#9c179e"
            ],
            [
             0.4444444444444444,
             "#bd3786"
            ],
            [
             0.5555555555555556,
             "#d8576b"
            ],
            [
             0.6666666666666666,
             "#ed7953"
            ],
            [
             0.7777777777777778,
             "#fb9f3a"
            ],
            [
             0.8888888888888888,
             "#fdca26"
            ],
            [
             1,
             "#f0f921"
            ]
           ],
           "sequentialminus": [
            [
             0,
             "#0d0887"
            ],
            [
             0.1111111111111111,
             "#46039f"
            ],
            [
             0.2222222222222222,
             "#7201a8"
            ],
            [
             0.3333333333333333,
             "#9c179e"
            ],
            [
             0.4444444444444444,
             "#bd3786"
            ],
            [
             0.5555555555555556,
             "#d8576b"
            ],
            [
             0.6666666666666666,
             "#ed7953"
            ],
            [
             0.7777777777777778,
             "#fb9f3a"
            ],
            [
             0.8888888888888888,
             "#fdca26"
            ],
            [
             1,
             "#f0f921"
            ]
           ]
          },
          "colorway": [
           "#636efa",
           "#EF553B",
           "#00cc96",
           "#ab63fa",
           "#FFA15A",
           "#19d3f3",
           "#FF6692",
           "#B6E880",
           "#FF97FF",
           "#FECB52"
          ],
          "font": {
           "color": "#2a3f5f"
          },
          "geo": {
           "bgcolor": "white",
           "lakecolor": "white",
           "landcolor": "#E5ECF6",
           "showlakes": true,
           "showland": true,
           "subunitcolor": "white"
          },
          "hoverlabel": {
           "align": "left"
          },
          "hovermode": "closest",
          "mapbox": {
           "style": "light"
          },
          "paper_bgcolor": "white",
          "plot_bgcolor": "#E5ECF6",
          "polar": {
           "angularaxis": {
            "gridcolor": "white",
            "linecolor": "white",
            "ticks": ""
           },
           "bgcolor": "#E5ECF6",
           "radialaxis": {
            "gridcolor": "white",
            "linecolor": "white",
            "ticks": ""
           }
          },
          "scene": {
           "xaxis": {
            "backgroundcolor": "#E5ECF6",
            "gridcolor": "white",
            "gridwidth": 2,
            "linecolor": "white",
            "showbackground": true,
            "ticks": "",
            "zerolinecolor": "white"
           },
           "yaxis": {
            "backgroundcolor": "#E5ECF6",
            "gridcolor": "white",
            "gridwidth": 2,
            "linecolor": "white",
            "showbackground": true,
            "ticks": "",
            "zerolinecolor": "white"
           },
           "zaxis": {
            "backgroundcolor": "#E5ECF6",
            "gridcolor": "white",
            "gridwidth": 2,
            "linecolor": "white",
            "showbackground": true,
            "ticks": "",
            "zerolinecolor": "white"
           }
          },
          "shapedefaults": {
           "line": {
            "color": "#2a3f5f"
           }
          },
          "ternary": {
           "aaxis": {
            "gridcolor": "white",
            "linecolor": "white",
            "ticks": ""
           },
           "baxis": {
            "gridcolor": "white",
            "linecolor": "white",
            "ticks": ""
           },
           "bgcolor": "#E5ECF6",
           "caxis": {
            "gridcolor": "white",
            "linecolor": "white",
            "ticks": ""
           }
          },
          "title": {
           "x": 0.05
          },
          "xaxis": {
           "automargin": true,
           "gridcolor": "white",
           "linecolor": "white",
           "ticks": "",
           "title": {
            "standoff": 15
           },
           "zerolinecolor": "white",
           "zerolinewidth": 2
          },
          "yaxis": {
           "automargin": true,
           "gridcolor": "white",
           "linecolor": "white",
           "ticks": "",
           "title": {
            "standoff": 15
           },
           "zerolinecolor": "white",
           "zerolinewidth": 2
          }
         }
        },
        "xaxis": {
         "anchor": "y",
         "domain": [
          0,
          1
         ],
         "title": {
          "text": "x"
         }
        },
        "yaxis": {
         "anchor": "x",
         "domain": [
          0,
          1
         ],
         "title": {
          "text": "y"
         }
        }
       }
      }
     },
     "metadata": {},
     "output_type": "display_data"
    }
   ],
   "source": [
    "# Graph of trends\n",
    "patterns = ['W','M','A']\n",
    "\n",
    "for pattern in patterns:\n",
    "        #create new DataFrame\n",
    "    resample_df = pd.DataFrame()\n",
    "\n",
    "    #create 'sales' column that summarizes total sales by week\n",
    "    resample_df['sales'] = transact_df['transactions'].resample(pattern).sum()\n",
    "    #plot weekly sales data\n",
    "    \n",
    "    fig = px.line(x=resample_df.index, y=resample_df.sales) \n",
    "\n",
    "    # Creating the Figure instance\n",
    " \n",
    "# showing the plot\n",
    "    fig.show()"
   ]
  },
  {
   "cell_type": "markdown",
   "metadata": {},
   "source": [
    "#### Observations\n",
    "\n",
    "- There is seasonality in the monthly tranactions\n",
    "- All other graphs are trending"
   ]
  },
  {
   "cell_type": "markdown",
   "metadata": {},
   "source": [
    "### Checking for gaps in the data"
   ]
  },
  {
   "cell_type": "code",
   "execution_count": 86,
   "metadata": {},
   "outputs": [
    {
     "data": {
      "text/plain": [
       "monthname\n",
       "December     61.209884\n",
       "November     64.062875\n",
       "March        64.706759\n",
       "January      65.082079\n",
       "February     65.727708\n",
       "August       67.323546\n",
       "April        68.629231\n",
       "June         70.277850\n",
       "May          70.355377\n",
       "October      70.963034\n",
       "July         71.243238\n",
       "September    72.134217\n",
       "Name: dcoilwtico, dtype: float64"
      ]
     },
     "execution_count": 86,
     "metadata": {},
     "output_type": "execute_result"
    }
   ],
   "source": [
    "oil = oil_df.groupby('monthname')['dcoilwtico'].mean().sort_values()\n",
    "oil"
   ]
  },
  {
   "cell_type": "code",
   "execution_count": 92,
   "metadata": {},
   "outputs": [
    {
     "data": {
      "text/plain": [
       "dcoilwtico    43\n",
       "date           0\n",
       "monthname      0\n",
       "dayname        0\n",
       "year           0\n",
       "dtype: int64"
      ]
     },
     "execution_count": 92,
     "metadata": {},
     "output_type": "execute_result"
    }
   ],
   "source": [
    "#Checking for missing values\n",
    "oil_df.isnull().sum()"
   ]
  },
  {
   "cell_type": "code",
   "execution_count": 91,
   "metadata": {},
   "outputs": [
    {
     "data": {
      "text/plain": [
       "store_nbr       0\n",
       "transactions    0\n",
       "date            0\n",
       "monthname       0\n",
       "dayname         0\n",
       "year            0\n",
       "dtype: int64"
      ]
     },
     "execution_count": 91,
     "metadata": {},
     "output_type": "execute_result"
    }
   ],
   "source": [
    "#Checking for missing values\n",
    "transact_df.isnull().sum()"
   ]
  },
  {
   "cell_type": "code",
   "execution_count": 89,
   "metadata": {},
   "outputs": [
    {
     "data": {
      "text/plain": [
       "id             0\n",
       "store_nbr      0\n",
       "family         0\n",
       "sales          0\n",
       "onpromotion    0\n",
       "date           0\n",
       "monthname      0\n",
       "dayname        0\n",
       "year           0\n",
       "dtype: int64"
      ]
     },
     "execution_count": 89,
     "metadata": {},
     "output_type": "execute_result"
    }
   ],
   "source": [
    "#Checking for missing values\n",
    "sales_df.isnull().sum()"
   ]
  },
  {
   "cell_type": "code",
   "execution_count": 90,
   "metadata": {},
   "outputs": [
    {
     "data": {
      "text/plain": [
       "type           0\n",
       "locale         0\n",
       "locale_name    0\n",
       "description    0\n",
       "transferred    0\n",
       "date           0\n",
       "monthname      0\n",
       "dayname        0\n",
       "year           0\n",
       "dtype: int64"
      ]
     },
     "execution_count": 90,
     "metadata": {},
     "output_type": "execute_result"
    }
   ],
   "source": [
    "#Checking for missing values\n",
    "hdays_df.isnull().sum()"
   ]
  },
  {
   "cell_type": "markdown",
   "metadata": {},
   "source": [
    "#### Oil"
   ]
  },
  {
   "cell_type": "code",
   "execution_count": 78,
   "metadata": {},
   "outputs": [
    {
     "data": {
      "application/vnd.plotly.v1+json": {
       "config": {
        "plotlyServerURL": "https://plot.ly"
       },
       "data": [
        {
         "hovertemplate": "x=%{x}<br>y=%{y}<extra></extra>",
         "legendgroup": "",
         "line": {
          "color": "#636efa",
          "dash": "solid"
         },
         "marker": {
          "symbol": "circle"
         },
         "mode": "lines",
         "name": "",
         "orientation": "v",
         "showlegend": false,
         "type": "scatter",
         "x": [
          "2013-01-06T00:00:00",
          "2013-01-13T00:00:00",
          "2013-01-20T00:00:00",
          "2013-01-27T00:00:00",
          "2013-02-03T00:00:00",
          "2013-02-10T00:00:00",
          "2013-02-17T00:00:00",
          "2013-02-24T00:00:00",
          "2013-03-03T00:00:00",
          "2013-03-10T00:00:00",
          "2013-03-17T00:00:00",
          "2013-03-24T00:00:00",
          "2013-03-31T00:00:00",
          "2013-04-07T00:00:00",
          "2013-04-14T00:00:00",
          "2013-04-21T00:00:00",
          "2013-04-28T00:00:00",
          "2013-05-05T00:00:00",
          "2013-05-12T00:00:00",
          "2013-05-19T00:00:00",
          "2013-05-26T00:00:00",
          "2013-06-02T00:00:00",
          "2013-06-09T00:00:00",
          "2013-06-16T00:00:00",
          "2013-06-23T00:00:00",
          "2013-06-30T00:00:00",
          "2013-07-07T00:00:00",
          "2013-07-14T00:00:00",
          "2013-07-21T00:00:00",
          "2013-07-28T00:00:00",
          "2013-08-04T00:00:00",
          "2013-08-11T00:00:00",
          "2013-08-18T00:00:00",
          "2013-08-25T00:00:00",
          "2013-09-01T00:00:00",
          "2013-09-08T00:00:00",
          "2013-09-15T00:00:00",
          "2013-09-22T00:00:00",
          "2013-09-29T00:00:00",
          "2013-10-06T00:00:00",
          "2013-10-13T00:00:00",
          "2013-10-20T00:00:00",
          "2013-10-27T00:00:00",
          "2013-11-03T00:00:00",
          "2013-11-10T00:00:00",
          "2013-11-17T00:00:00",
          "2013-11-24T00:00:00",
          "2013-12-01T00:00:00",
          "2013-12-08T00:00:00",
          "2013-12-15T00:00:00",
          "2013-12-22T00:00:00",
          "2013-12-29T00:00:00",
          "2014-01-05T00:00:00",
          "2014-01-12T00:00:00",
          "2014-01-19T00:00:00",
          "2014-01-26T00:00:00",
          "2014-02-02T00:00:00",
          "2014-02-09T00:00:00",
          "2014-02-16T00:00:00",
          "2014-02-23T00:00:00",
          "2014-03-02T00:00:00",
          "2014-03-09T00:00:00",
          "2014-03-16T00:00:00",
          "2014-03-23T00:00:00",
          "2014-03-30T00:00:00",
          "2014-04-06T00:00:00",
          "2014-04-13T00:00:00",
          "2014-04-20T00:00:00",
          "2014-04-27T00:00:00",
          "2014-05-04T00:00:00",
          "2014-05-11T00:00:00",
          "2014-05-18T00:00:00",
          "2014-05-25T00:00:00",
          "2014-06-01T00:00:00",
          "2014-06-08T00:00:00",
          "2014-06-15T00:00:00",
          "2014-06-22T00:00:00",
          "2014-06-29T00:00:00",
          "2014-07-06T00:00:00",
          "2014-07-13T00:00:00",
          "2014-07-20T00:00:00",
          "2014-07-27T00:00:00",
          "2014-08-03T00:00:00",
          "2014-08-10T00:00:00",
          "2014-08-17T00:00:00",
          "2014-08-24T00:00:00",
          "2014-08-31T00:00:00",
          "2014-09-07T00:00:00",
          "2014-09-14T00:00:00",
          "2014-09-21T00:00:00",
          "2014-09-28T00:00:00",
          "2014-10-05T00:00:00",
          "2014-10-12T00:00:00",
          "2014-10-19T00:00:00",
          "2014-10-26T00:00:00",
          "2014-11-02T00:00:00",
          "2014-11-09T00:00:00",
          "2014-11-16T00:00:00",
          "2014-11-23T00:00:00",
          "2014-11-30T00:00:00",
          "2014-12-07T00:00:00",
          "2014-12-14T00:00:00",
          "2014-12-21T00:00:00",
          "2014-12-28T00:00:00",
          "2015-01-04T00:00:00",
          "2015-01-11T00:00:00",
          "2015-01-18T00:00:00",
          "2015-01-25T00:00:00",
          "2015-02-01T00:00:00",
          "2015-02-08T00:00:00",
          "2015-02-15T00:00:00",
          "2015-02-22T00:00:00",
          "2015-03-01T00:00:00",
          "2015-03-08T00:00:00",
          "2015-03-15T00:00:00",
          "2015-03-22T00:00:00",
          "2015-03-29T00:00:00",
          "2015-04-05T00:00:00",
          "2015-04-12T00:00:00",
          "2015-04-19T00:00:00",
          "2015-04-26T00:00:00",
          "2015-05-03T00:00:00",
          "2015-05-10T00:00:00",
          "2015-05-17T00:00:00",
          "2015-05-24T00:00:00",
          "2015-05-31T00:00:00",
          "2015-06-07T00:00:00",
          "2015-06-14T00:00:00",
          "2015-06-21T00:00:00",
          "2015-06-28T00:00:00",
          "2015-07-05T00:00:00",
          "2015-07-12T00:00:00",
          "2015-07-19T00:00:00",
          "2015-07-26T00:00:00",
          "2015-08-02T00:00:00",
          "2015-08-09T00:00:00",
          "2015-08-16T00:00:00",
          "2015-08-23T00:00:00",
          "2015-08-30T00:00:00",
          "2015-09-06T00:00:00",
          "2015-09-13T00:00:00",
          "2015-09-20T00:00:00",
          "2015-09-27T00:00:00",
          "2015-10-04T00:00:00",
          "2015-10-11T00:00:00",
          "2015-10-18T00:00:00",
          "2015-10-25T00:00:00",
          "2015-11-01T00:00:00",
          "2015-11-08T00:00:00",
          "2015-11-15T00:00:00",
          "2015-11-22T00:00:00",
          "2015-11-29T00:00:00",
          "2015-12-06T00:00:00",
          "2015-12-13T00:00:00",
          "2015-12-20T00:00:00",
          "2015-12-27T00:00:00",
          "2016-01-03T00:00:00",
          "2016-01-10T00:00:00",
          "2016-01-17T00:00:00",
          "2016-01-24T00:00:00",
          "2016-01-31T00:00:00",
          "2016-02-07T00:00:00",
          "2016-02-14T00:00:00",
          "2016-02-21T00:00:00",
          "2016-02-28T00:00:00",
          "2016-03-06T00:00:00",
          "2016-03-13T00:00:00",
          "2016-03-20T00:00:00",
          "2016-03-27T00:00:00",
          "2016-04-03T00:00:00",
          "2016-04-10T00:00:00",
          "2016-04-17T00:00:00",
          "2016-04-24T00:00:00",
          "2016-05-01T00:00:00",
          "2016-05-08T00:00:00",
          "2016-05-15T00:00:00",
          "2016-05-22T00:00:00",
          "2016-05-29T00:00:00",
          "2016-06-05T00:00:00",
          "2016-06-12T00:00:00",
          "2016-06-19T00:00:00",
          "2016-06-26T00:00:00",
          "2016-07-03T00:00:00",
          "2016-07-10T00:00:00",
          "2016-07-17T00:00:00",
          "2016-07-24T00:00:00",
          "2016-07-31T00:00:00",
          "2016-08-07T00:00:00",
          "2016-08-14T00:00:00",
          "2016-08-21T00:00:00",
          "2016-08-28T00:00:00",
          "2016-09-04T00:00:00",
          "2016-09-11T00:00:00",
          "2016-09-18T00:00:00",
          "2016-09-25T00:00:00",
          "2016-10-02T00:00:00",
          "2016-10-09T00:00:00",
          "2016-10-16T00:00:00",
          "2016-10-23T00:00:00",
          "2016-10-30T00:00:00",
          "2016-11-06T00:00:00",
          "2016-11-13T00:00:00",
          "2016-11-20T00:00:00",
          "2016-11-27T00:00:00",
          "2016-12-04T00:00:00",
          "2016-12-11T00:00:00",
          "2016-12-18T00:00:00",
          "2016-12-25T00:00:00",
          "2017-01-01T00:00:00",
          "2017-01-08T00:00:00",
          "2017-01-15T00:00:00",
          "2017-01-22T00:00:00",
          "2017-01-29T00:00:00",
          "2017-02-05T00:00:00",
          "2017-02-12T00:00:00",
          "2017-02-19T00:00:00",
          "2017-02-26T00:00:00",
          "2017-03-05T00:00:00",
          "2017-03-12T00:00:00",
          "2017-03-19T00:00:00",
          "2017-03-26T00:00:00",
          "2017-04-02T00:00:00",
          "2017-04-09T00:00:00",
          "2017-04-16T00:00:00",
          "2017-04-23T00:00:00",
          "2017-04-30T00:00:00",
          "2017-05-07T00:00:00",
          "2017-05-14T00:00:00",
          "2017-05-21T00:00:00",
          "2017-05-28T00:00:00",
          "2017-06-04T00:00:00",
          "2017-06-11T00:00:00",
          "2017-06-18T00:00:00",
          "2017-06-25T00:00:00",
          "2017-07-02T00:00:00",
          "2017-07-09T00:00:00",
          "2017-07-16T00:00:00",
          "2017-07-23T00:00:00",
          "2017-07-30T00:00:00",
          "2017-08-06T00:00:00",
          "2017-08-13T00:00:00",
          "2017-08-20T00:00:00",
          "2017-08-27T00:00:00",
          "2017-09-03T00:00:00"
         ],
         "xaxis": "x",
         "y": [
          279.2300033569336,
          466.8999938964844,
          472.90999603271484,
          381.6499938964844,
          486.6600036621094,
          480.87999725341797,
          484.77000427246094,
          377.52000427246094,
          460.94998931884766,
          455.0199966430664,
          463.5,
          465.2300033569336,
          384.30999755859375,
          475.37000274658203,
          466.8000030517578,
          440.00000762939453,
          454.989990234375,
          466.99999237060547,
          479.2199935913086,
          473.23999786376953,
          473.7800064086914,
          373.2799987792969,
          471.25000762939453,
          481.7900085449219,
          483.25999450683594,
          479.1500015258789,
          402.5999984741211,
          523.5199966430664,
          534.4099960327148,
          529.3800048828125,
          527.7200012207031,
          525.8300018310547,
          534.870002746582,
          527.3800048828125,
          541.6500015258789,
          435.0800018310547,
          541.7800064086914,
          531.0900039672852,
          515.4800033569336,
          515.7200012207031,
          513.4899978637695,
          507.54000091552734,
          487.86000061035156,
          484.6899948120117,
          471.5299987792969,
          469.72000885009766,
          469.59999084472656,
          371.87001037597656,
          481.0300064086914,
          486.1499938964844,
          489.2699966430664,
          396.6100082397461,
          385.87000274658203,
          462.0800018310547,
          464.87999725341797,
          384.75000762939453,
          486.4499969482422,
          488.9000015258789,
          501.0399932861328,
          411.72999572753906,
          513.859992980957,
          515.3699951171875,
          497.77000427246094,
          498.87000274658203,
          503.30001068115234,
          502.3100051879883,
          513.6000061035156,
          415.79000091552734,
          510.55999755859375,
          502.5399932861328,
          501.44998931884766,
          509.57999420166016,
          519.0999984741211,
          415.8100051879883,
          516.1699905395508,
          529.8399887084961,
          536.1399917602539,
          533.4599990844727,
          422.0699996948242,
          516.2700042724609,
          511.8399963378906,
          521.7299957275391,
          510.97000885009766,
          487.47999572753906,
          485.86000061035156,
          474.77000427246094,
          481.29000091552734,
          376.25,
          462.1500015258789,
          467.6000061035156,
          465.75,
          457.2199935913086,
          438.14000701904297,
          414.40000915527344,
          410.60999298095703,
          406.45999908447266,
          391.20999908447266,
          382.4800033569336,
          376.88999938964844,
          289.4199981689453,
          335.89000701904297,
          305.68000411987305,
          279.45000076293945,
          222.31999969482422,
          213.77000045776367,
          243.8699951171875,
          235.3300018310547,
          185.82999801635742,
          226.63000106811523,
          252.88000106811523,
          255.68000030517578,
          206.76000213623047,
          245.78000259399414,
          251.9199981689453,
          238.43000030517578,
          221.97000122070312,
          243.42000198364258,
          195.63000106811523,
          258.8900032043457,
          273.89999771118164,
          280.689998626709,
          289.87999725341797,
          298.63000106811523,
          300.0699996948242,
          294.7599983215332,
          232.73999786376953,
          298.3199996948242,
          300.3600044250488,
          299.4599952697754,
          300.06999588012695,
          231.68999862670898,
          261.9200019836426,
          258.4200019836426,
          246.06000137329102,
          239.54999923706055,
          224.68999862670898,
          215.9900016784668,
          206.71000289916992,
          203.6300048828125,
          233.6500015258789,
          180.64999771118164,
          227.4099998474121,
          227.85999298095703,
          224.99000549316406,
          241.79999542236328,
          234.10000228881836,
          225.78000259399414,
          224.9499969482422,
          229.9099998474121,
          213.47999954223633,
          203.0999984741211,
          161.95000076293945,
          202.02000427246094,
          184.6699981689453,
          178.88000106811523,
          145.04999542236328,
          147.96000289916992,
          173.24000549316406,
          152.93000030517578,
          116.76999855041504,
          159.0399990081787,
          156.30000114440918,
          140.7199993133545,
          120.09000015258789,
          156.61000061035156,
          172.17000198364258,
          188.46999740600586,
          191.5900001525879,
          157.77999877929688,
          184.11000061035156,
          183.60000228881836,
          206.13000106811523,
          209.28000259399414,
          221.48999786376953,
          221.08000564575195,
          227.20000076293945,
          239.95999908447266,
          243.61999893188477,
          195.99999618530273,
          250.9199981689453,
          239.43999862670898,
          243.5500030517578,
          240.86999893188477,
          184.68999862670898,
          227.98999786376953,
          222.1999969482422,
          209.1300048828125,
          204.0999984741211,
          215.56999969482422,
          235.78000259399414,
          235.2400016784668,
          225.52999877929688,
          183.8300018310547,
          221.6999969482422,
          222.97999954223633,
          232.76000213623047,
          247.41999435424805,
          251.43999862670898,
          252.78000259399414,
          246.81000137329102,
          227.54000091552734,
          223.04999923706055,
          225.77000045776367,
          188.9900016784668,
          243.1400032043457,
          254.86999893188477,
          259.5700035095215,
          259.7799987792969,
          214.37999725341797,
          213.36999893188477,
          260.3299980163574,
          207.29000091552734,
          263.7100028991699,
          266.6400032043457,
          264.39999771118164,
          266.0999984741211,
          216.10000228881836,
          267.8200035095215,
          252.5,
          240.17000198364258,
          236.4000015258789,
          245.69000244140625,
          256.3199996948242,
          212.75,
          255.46999740600586,
          245.61000442504883,
          236.0500030517578,
          235.22000122070312,
          246.22000122070312,
          251.07000350952148,
          193.92000198364258,
          232.8300018310547,
          226.5,
          215.45000076293945,
          223.1300048828125,
          134.88000106811523,
          227.53000259399414,
          232.02999877929688,
          241.3300018310547,
          247.59999465942383,
          245.38000106811523,
          237.61999893188477,
          238.3800048828125,
          186.07999801635742
         ],
         "yaxis": "y"
        }
       ],
       "layout": {
        "legend": {
         "tracegroupgap": 0
        },
        "margin": {
         "t": 60
        },
        "template": {
         "data": {
          "bar": [
           {
            "error_x": {
             "color": "#2a3f5f"
            },
            "error_y": {
             "color": "#2a3f5f"
            },
            "marker": {
             "line": {
              "color": "#E5ECF6",
              "width": 0.5
             },
             "pattern": {
              "fillmode": "overlay",
              "size": 10,
              "solidity": 0.2
             }
            },
            "type": "bar"
           }
          ],
          "barpolar": [
           {
            "marker": {
             "line": {
              "color": "#E5ECF6",
              "width": 0.5
             },
             "pattern": {
              "fillmode": "overlay",
              "size": 10,
              "solidity": 0.2
             }
            },
            "type": "barpolar"
           }
          ],
          "carpet": [
           {
            "aaxis": {
             "endlinecolor": "#2a3f5f",
             "gridcolor": "white",
             "linecolor": "white",
             "minorgridcolor": "white",
             "startlinecolor": "#2a3f5f"
            },
            "baxis": {
             "endlinecolor": "#2a3f5f",
             "gridcolor": "white",
             "linecolor": "white",
             "minorgridcolor": "white",
             "startlinecolor": "#2a3f5f"
            },
            "type": "carpet"
           }
          ],
          "choropleth": [
           {
            "colorbar": {
             "outlinewidth": 0,
             "ticks": ""
            },
            "type": "choropleth"
           }
          ],
          "contour": [
           {
            "colorbar": {
             "outlinewidth": 0,
             "ticks": ""
            },
            "colorscale": [
             [
              0,
              "#0d0887"
             ],
             [
              0.1111111111111111,
              "#46039f"
             ],
             [
              0.2222222222222222,
              "#7201a8"
             ],
             [
              0.3333333333333333,
              "#9c179e"
             ],
             [
              0.4444444444444444,
              "#bd3786"
             ],
             [
              0.5555555555555556,
              "#d8576b"
             ],
             [
              0.6666666666666666,
              "#ed7953"
             ],
             [
              0.7777777777777778,
              "#fb9f3a"
             ],
             [
              0.8888888888888888,
              "#fdca26"
             ],
             [
              1,
              "#f0f921"
             ]
            ],
            "type": "contour"
           }
          ],
          "contourcarpet": [
           {
            "colorbar": {
             "outlinewidth": 0,
             "ticks": ""
            },
            "type": "contourcarpet"
           }
          ],
          "heatmap": [
           {
            "colorbar": {
             "outlinewidth": 0,
             "ticks": ""
            },
            "colorscale": [
             [
              0,
              "#0d0887"
             ],
             [
              0.1111111111111111,
              "#46039f"
             ],
             [
              0.2222222222222222,
              "#7201a8"
             ],
             [
              0.3333333333333333,
              "#9c179e"
             ],
             [
              0.4444444444444444,
              "#bd3786"
             ],
             [
              0.5555555555555556,
              "#d8576b"
             ],
             [
              0.6666666666666666,
              "#ed7953"
             ],
             [
              0.7777777777777778,
              "#fb9f3a"
             ],
             [
              0.8888888888888888,
              "#fdca26"
             ],
             [
              1,
              "#f0f921"
             ]
            ],
            "type": "heatmap"
           }
          ],
          "heatmapgl": [
           {
            "colorbar": {
             "outlinewidth": 0,
             "ticks": ""
            },
            "colorscale": [
             [
              0,
              "#0d0887"
             ],
             [
              0.1111111111111111,
              "#46039f"
             ],
             [
              0.2222222222222222,
              "#7201a8"
             ],
             [
              0.3333333333333333,
              "#9c179e"
             ],
             [
              0.4444444444444444,
              "#bd3786"
             ],
             [
              0.5555555555555556,
              "#d8576b"
             ],
             [
              0.6666666666666666,
              "#ed7953"
             ],
             [
              0.7777777777777778,
              "#fb9f3a"
             ],
             [
              0.8888888888888888,
              "#fdca26"
             ],
             [
              1,
              "#f0f921"
             ]
            ],
            "type": "heatmapgl"
           }
          ],
          "histogram": [
           {
            "marker": {
             "pattern": {
              "fillmode": "overlay",
              "size": 10,
              "solidity": 0.2
             }
            },
            "type": "histogram"
           }
          ],
          "histogram2d": [
           {
            "colorbar": {
             "outlinewidth": 0,
             "ticks": ""
            },
            "colorscale": [
             [
              0,
              "#0d0887"
             ],
             [
              0.1111111111111111,
              "#46039f"
             ],
             [
              0.2222222222222222,
              "#7201a8"
             ],
             [
              0.3333333333333333,
              "#9c179e"
             ],
             [
              0.4444444444444444,
              "#bd3786"
             ],
             [
              0.5555555555555556,
              "#d8576b"
             ],
             [
              0.6666666666666666,
              "#ed7953"
             ],
             [
              0.7777777777777778,
              "#fb9f3a"
             ],
             [
              0.8888888888888888,
              "#fdca26"
             ],
             [
              1,
              "#f0f921"
             ]
            ],
            "type": "histogram2d"
           }
          ],
          "histogram2dcontour": [
           {
            "colorbar": {
             "outlinewidth": 0,
             "ticks": ""
            },
            "colorscale": [
             [
              0,
              "#0d0887"
             ],
             [
              0.1111111111111111,
              "#46039f"
             ],
             [
              0.2222222222222222,
              "#7201a8"
             ],
             [
              0.3333333333333333,
              "#9c179e"
             ],
             [
              0.4444444444444444,
              "#bd3786"
             ],
             [
              0.5555555555555556,
              "#d8576b"
             ],
             [
              0.6666666666666666,
              "#ed7953"
             ],
             [
              0.7777777777777778,
              "#fb9f3a"
             ],
             [
              0.8888888888888888,
              "#fdca26"
             ],
             [
              1,
              "#f0f921"
             ]
            ],
            "type": "histogram2dcontour"
           }
          ],
          "mesh3d": [
           {
            "colorbar": {
             "outlinewidth": 0,
             "ticks": ""
            },
            "type": "mesh3d"
           }
          ],
          "parcoords": [
           {
            "line": {
             "colorbar": {
              "outlinewidth": 0,
              "ticks": ""
             }
            },
            "type": "parcoords"
           }
          ],
          "pie": [
           {
            "automargin": true,
            "type": "pie"
           }
          ],
          "scatter": [
           {
            "fillpattern": {
             "fillmode": "overlay",
             "size": 10,
             "solidity": 0.2
            },
            "type": "scatter"
           }
          ],
          "scatter3d": [
           {
            "line": {
             "colorbar": {
              "outlinewidth": 0,
              "ticks": ""
             }
            },
            "marker": {
             "colorbar": {
              "outlinewidth": 0,
              "ticks": ""
             }
            },
            "type": "scatter3d"
           }
          ],
          "scattercarpet": [
           {
            "marker": {
             "colorbar": {
              "outlinewidth": 0,
              "ticks": ""
             }
            },
            "type": "scattercarpet"
           }
          ],
          "scattergeo": [
           {
            "marker": {
             "colorbar": {
              "outlinewidth": 0,
              "ticks": ""
             }
            },
            "type": "scattergeo"
           }
          ],
          "scattergl": [
           {
            "marker": {
             "colorbar": {
              "outlinewidth": 0,
              "ticks": ""
             }
            },
            "type": "scattergl"
           }
          ],
          "scattermapbox": [
           {
            "marker": {
             "colorbar": {
              "outlinewidth": 0,
              "ticks": ""
             }
            },
            "type": "scattermapbox"
           }
          ],
          "scatterpolar": [
           {
            "marker": {
             "colorbar": {
              "outlinewidth": 0,
              "ticks": ""
             }
            },
            "type": "scatterpolar"
           }
          ],
          "scatterpolargl": [
           {
            "marker": {
             "colorbar": {
              "outlinewidth": 0,
              "ticks": ""
             }
            },
            "type": "scatterpolargl"
           }
          ],
          "scatterternary": [
           {
            "marker": {
             "colorbar": {
              "outlinewidth": 0,
              "ticks": ""
             }
            },
            "type": "scatterternary"
           }
          ],
          "surface": [
           {
            "colorbar": {
             "outlinewidth": 0,
             "ticks": ""
            },
            "colorscale": [
             [
              0,
              "#0d0887"
             ],
             [
              0.1111111111111111,
              "#46039f"
             ],
             [
              0.2222222222222222,
              "#7201a8"
             ],
             [
              0.3333333333333333,
              "#9c179e"
             ],
             [
              0.4444444444444444,
              "#bd3786"
             ],
             [
              0.5555555555555556,
              "#d8576b"
             ],
             [
              0.6666666666666666,
              "#ed7953"
             ],
             [
              0.7777777777777778,
              "#fb9f3a"
             ],
             [
              0.8888888888888888,
              "#fdca26"
             ],
             [
              1,
              "#f0f921"
             ]
            ],
            "type": "surface"
           }
          ],
          "table": [
           {
            "cells": {
             "fill": {
              "color": "#EBF0F8"
             },
             "line": {
              "color": "white"
             }
            },
            "header": {
             "fill": {
              "color": "#C8D4E3"
             },
             "line": {
              "color": "white"
             }
            },
            "type": "table"
           }
          ]
         },
         "layout": {
          "annotationdefaults": {
           "arrowcolor": "#2a3f5f",
           "arrowhead": 0,
           "arrowwidth": 1
          },
          "autotypenumbers": "strict",
          "coloraxis": {
           "colorbar": {
            "outlinewidth": 0,
            "ticks": ""
           }
          },
          "colorscale": {
           "diverging": [
            [
             0,
             "#8e0152"
            ],
            [
             0.1,
             "#c51b7d"
            ],
            [
             0.2,
             "#de77ae"
            ],
            [
             0.3,
             "#f1b6da"
            ],
            [
             0.4,
             "#fde0ef"
            ],
            [
             0.5,
             "#f7f7f7"
            ],
            [
             0.6,
             "#e6f5d0"
            ],
            [
             0.7,
             "#b8e186"
            ],
            [
             0.8,
             "#7fbc41"
            ],
            [
             0.9,
             "#4d9221"
            ],
            [
             1,
             "#276419"
            ]
           ],
           "sequential": [
            [
             0,
             "#0d0887"
            ],
            [
             0.1111111111111111,
             "#46039f"
            ],
            [
             0.2222222222222222,
             "#7201a8"
            ],
            [
             0.3333333333333333,
             "#9c179e"
            ],
            [
             0.4444444444444444,
             "#bd3786"
            ],
            [
             0.5555555555555556,
             "#d8576b"
            ],
            [
             0.6666666666666666,
             "#ed7953"
            ],
            [
             0.7777777777777778,
             "#fb9f3a"
            ],
            [
             0.8888888888888888,
             "#fdca26"
            ],
            [
             1,
             "#f0f921"
            ]
           ],
           "sequentialminus": [
            [
             0,
             "#0d0887"
            ],
            [
             0.1111111111111111,
             "#46039f"
            ],
            [
             0.2222222222222222,
             "#7201a8"
            ],
            [
             0.3333333333333333,
             "#9c179e"
            ],
            [
             0.4444444444444444,
             "#bd3786"
            ],
            [
             0.5555555555555556,
             "#d8576b"
            ],
            [
             0.6666666666666666,
             "#ed7953"
            ],
            [
             0.7777777777777778,
             "#fb9f3a"
            ],
            [
             0.8888888888888888,
             "#fdca26"
            ],
            [
             1,
             "#f0f921"
            ]
           ]
          },
          "colorway": [
           "#636efa",
           "#EF553B",
           "#00cc96",
           "#ab63fa",
           "#FFA15A",
           "#19d3f3",
           "#FF6692",
           "#B6E880",
           "#FF97FF",
           "#FECB52"
          ],
          "font": {
           "color": "#2a3f5f"
          },
          "geo": {
           "bgcolor": "white",
           "lakecolor": "white",
           "landcolor": "#E5ECF6",
           "showlakes": true,
           "showland": true,
           "subunitcolor": "white"
          },
          "hoverlabel": {
           "align": "left"
          },
          "hovermode": "closest",
          "mapbox": {
           "style": "light"
          },
          "paper_bgcolor": "white",
          "plot_bgcolor": "#E5ECF6",
          "polar": {
           "angularaxis": {
            "gridcolor": "white",
            "linecolor": "white",
            "ticks": ""
           },
           "bgcolor": "#E5ECF6",
           "radialaxis": {
            "gridcolor": "white",
            "linecolor": "white",
            "ticks": ""
           }
          },
          "scene": {
           "xaxis": {
            "backgroundcolor": "#E5ECF6",
            "gridcolor": "white",
            "gridwidth": 2,
            "linecolor": "white",
            "showbackground": true,
            "ticks": "",
            "zerolinecolor": "white"
           },
           "yaxis": {
            "backgroundcolor": "#E5ECF6",
            "gridcolor": "white",
            "gridwidth": 2,
            "linecolor": "white",
            "showbackground": true,
            "ticks": "",
            "zerolinecolor": "white"
           },
           "zaxis": {
            "backgroundcolor": "#E5ECF6",
            "gridcolor": "white",
            "gridwidth": 2,
            "linecolor": "white",
            "showbackground": true,
            "ticks": "",
            "zerolinecolor": "white"
           }
          },
          "shapedefaults": {
           "line": {
            "color": "#2a3f5f"
           }
          },
          "ternary": {
           "aaxis": {
            "gridcolor": "white",
            "linecolor": "white",
            "ticks": ""
           },
           "baxis": {
            "gridcolor": "white",
            "linecolor": "white",
            "ticks": ""
           },
           "bgcolor": "#E5ECF6",
           "caxis": {
            "gridcolor": "white",
            "linecolor": "white",
            "ticks": ""
           }
          },
          "title": {
           "x": 0.05
          },
          "xaxis": {
           "automargin": true,
           "gridcolor": "white",
           "linecolor": "white",
           "ticks": "",
           "title": {
            "standoff": 15
           },
           "zerolinecolor": "white",
           "zerolinewidth": 2
          },
          "yaxis": {
           "automargin": true,
           "gridcolor": "white",
           "linecolor": "white",
           "ticks": "",
           "title": {
            "standoff": 15
           },
           "zerolinecolor": "white",
           "zerolinewidth": 2
          }
         }
        },
        "xaxis": {
         "anchor": "y",
         "domain": [
          0,
          1
         ],
         "title": {
          "text": "x"
         }
        },
        "yaxis": {
         "anchor": "x",
         "domain": [
          0,
          1
         ],
         "title": {
          "text": "y"
         }
        }
       }
      }
     },
     "metadata": {},
     "output_type": "display_data"
    },
    {
     "name": "stderr",
     "output_type": "stream",
     "text": [
      "C:\\Users\\chrap\\AppData\\Local\\Temp\\ipykernel_8180\\2446099799.py:9: FutureWarning:\n",
      "\n",
      "'M' is deprecated and will be removed in a future version, please use 'ME' instead.\n",
      "\n"
     ]
    },
    {
     "data": {
      "application/vnd.plotly.v1+json": {
       "config": {
        "plotlyServerURL": "https://plot.ly"
       },
       "data": [
        {
         "hovertemplate": "x=%{x}<br>y=%{y}<extra></extra>",
         "legendgroup": "",
         "line": {
          "color": "#636efa",
          "dash": "solid"
         },
         "marker": {
          "symbol": "circle"
         },
         "mode": "lines",
         "name": "",
         "orientation": "v",
         "showlegend": false,
         "type": "scatter",
         "x": [
          "2013-01-31T00:00:00",
          "2013-02-28T00:00:00",
          "2013-03-31T00:00:00",
          "2013-04-30T00:00:00",
          "2013-05-31T00:00:00",
          "2013-06-30T00:00:00",
          "2013-07-31T00:00:00",
          "2013-08-31T00:00:00",
          "2013-09-30T00:00:00",
          "2013-10-31T00:00:00",
          "2013-11-30T00:00:00",
          "2013-12-31T00:00:00",
          "2014-01-31T00:00:00",
          "2014-02-28T00:00:00",
          "2014-03-31T00:00:00",
          "2014-04-30T00:00:00",
          "2014-05-31T00:00:00",
          "2014-06-30T00:00:00",
          "2014-07-31T00:00:00",
          "2014-08-31T00:00:00",
          "2014-09-30T00:00:00",
          "2014-10-31T00:00:00",
          "2014-11-30T00:00:00",
          "2014-12-31T00:00:00",
          "2015-01-31T00:00:00",
          "2015-02-28T00:00:00",
          "2015-03-31T00:00:00",
          "2015-04-30T00:00:00",
          "2015-05-31T00:00:00",
          "2015-06-30T00:00:00",
          "2015-07-31T00:00:00",
          "2015-08-31T00:00:00",
          "2015-09-30T00:00:00",
          "2015-10-31T00:00:00",
          "2015-11-30T00:00:00",
          "2015-12-31T00:00:00",
          "2016-01-31T00:00:00",
          "2016-02-29T00:00:00",
          "2016-03-31T00:00:00",
          "2016-04-30T00:00:00",
          "2016-05-31T00:00:00",
          "2016-06-30T00:00:00",
          "2016-07-31T00:00:00",
          "2016-08-31T00:00:00",
          "2016-09-30T00:00:00",
          "2016-10-31T00:00:00",
          "2016-11-30T00:00:00",
          "2016-12-31T00:00:00",
          "2017-01-31T00:00:00",
          "2017-02-28T00:00:00",
          "2017-03-31T00:00:00",
          "2017-04-30T00:00:00",
          "2017-05-31T00:00:00",
          "2017-06-30T00:00:00",
          "2017-07-31T00:00:00",
          "2017-08-31T00:00:00"
         ],
         "xaxis": "x",
         "y": [
          1989.889991760254,
          1810.8699951171875,
          1858.7699966430664,
          2024.4700012207031,
          2079.209991455078,
          1915.4500122070312,
          2302.759994506836,
          2344.60001373291,
          2125.7900161743164,
          2312.379997253418,
          1877.2800064086914,
          2050.1300048828125,
          1986.9600067138672,
          1915.5299835205078,
          2116.880012512207,
          2143.4500045776367,
          2145.719985961914,
          2221.6799697875977,
          2278.9500045776367,
          2027.2600021362305,
          1957.4500045776367,
          1941.1300048828125,
          1440,
          1304.3900108337402,
          944.379997253418,
          961.1000061035156,
          1052.120002746582,
          1143.5099983215332,
          1185.2999954223633,
          1316.0299949645996,
          1119.8200035095215,
          900.2200088500977,
          955.069995880127,
          1016.9199981689453,
          848.8699989318848,
          818.1500015258789,
          601.9800033569336,
          606.4600028991699,
          826.0199966430664,
          855.8600044250488,
          980.9600028991699,
          1072.6599960327148,
          893.0299987792969,
          1028.6600036621094,
          948.8299980163574,
          1045.2799987792969,
          958.8800010681152,
          1091.3800010681152,
          1050.0800018310547,
          1015.9000015258789,
          1134.5400085449219,
          970.1500015258789,
          1066.4800109863281,
          993.9100074768066,
          885.9800033569336,
          1104.849998474121
         ],
         "yaxis": "y"
        }
       ],
       "layout": {
        "legend": {
         "tracegroupgap": 0
        },
        "margin": {
         "t": 60
        },
        "template": {
         "data": {
          "bar": [
           {
            "error_x": {
             "color": "#2a3f5f"
            },
            "error_y": {
             "color": "#2a3f5f"
            },
            "marker": {
             "line": {
              "color": "#E5ECF6",
              "width": 0.5
             },
             "pattern": {
              "fillmode": "overlay",
              "size": 10,
              "solidity": 0.2
             }
            },
            "type": "bar"
           }
          ],
          "barpolar": [
           {
            "marker": {
             "line": {
              "color": "#E5ECF6",
              "width": 0.5
             },
             "pattern": {
              "fillmode": "overlay",
              "size": 10,
              "solidity": 0.2
             }
            },
            "type": "barpolar"
           }
          ],
          "carpet": [
           {
            "aaxis": {
             "endlinecolor": "#2a3f5f",
             "gridcolor": "white",
             "linecolor": "white",
             "minorgridcolor": "white",
             "startlinecolor": "#2a3f5f"
            },
            "baxis": {
             "endlinecolor": "#2a3f5f",
             "gridcolor": "white",
             "linecolor": "white",
             "minorgridcolor": "white",
             "startlinecolor": "#2a3f5f"
            },
            "type": "carpet"
           }
          ],
          "choropleth": [
           {
            "colorbar": {
             "outlinewidth": 0,
             "ticks": ""
            },
            "type": "choropleth"
           }
          ],
          "contour": [
           {
            "colorbar": {
             "outlinewidth": 0,
             "ticks": ""
            },
            "colorscale": [
             [
              0,
              "#0d0887"
             ],
             [
              0.1111111111111111,
              "#46039f"
             ],
             [
              0.2222222222222222,
              "#7201a8"
             ],
             [
              0.3333333333333333,
              "#9c179e"
             ],
             [
              0.4444444444444444,
              "#bd3786"
             ],
             [
              0.5555555555555556,
              "#d8576b"
             ],
             [
              0.6666666666666666,
              "#ed7953"
             ],
             [
              0.7777777777777778,
              "#fb9f3a"
             ],
             [
              0.8888888888888888,
              "#fdca26"
             ],
             [
              1,
              "#f0f921"
             ]
            ],
            "type": "contour"
           }
          ],
          "contourcarpet": [
           {
            "colorbar": {
             "outlinewidth": 0,
             "ticks": ""
            },
            "type": "contourcarpet"
           }
          ],
          "heatmap": [
           {
            "colorbar": {
             "outlinewidth": 0,
             "ticks": ""
            },
            "colorscale": [
             [
              0,
              "#0d0887"
             ],
             [
              0.1111111111111111,
              "#46039f"
             ],
             [
              0.2222222222222222,
              "#7201a8"
             ],
             [
              0.3333333333333333,
              "#9c179e"
             ],
             [
              0.4444444444444444,
              "#bd3786"
             ],
             [
              0.5555555555555556,
              "#d8576b"
             ],
             [
              0.6666666666666666,
              "#ed7953"
             ],
             [
              0.7777777777777778,
              "#fb9f3a"
             ],
             [
              0.8888888888888888,
              "#fdca26"
             ],
             [
              1,
              "#f0f921"
             ]
            ],
            "type": "heatmap"
           }
          ],
          "heatmapgl": [
           {
            "colorbar": {
             "outlinewidth": 0,
             "ticks": ""
            },
            "colorscale": [
             [
              0,
              "#0d0887"
             ],
             [
              0.1111111111111111,
              "#46039f"
             ],
             [
              0.2222222222222222,
              "#7201a8"
             ],
             [
              0.3333333333333333,
              "#9c179e"
             ],
             [
              0.4444444444444444,
              "#bd3786"
             ],
             [
              0.5555555555555556,
              "#d8576b"
             ],
             [
              0.6666666666666666,
              "#ed7953"
             ],
             [
              0.7777777777777778,
              "#fb9f3a"
             ],
             [
              0.8888888888888888,
              "#fdca26"
             ],
             [
              1,
              "#f0f921"
             ]
            ],
            "type": "heatmapgl"
           }
          ],
          "histogram": [
           {
            "marker": {
             "pattern": {
              "fillmode": "overlay",
              "size": 10,
              "solidity": 0.2
             }
            },
            "type": "histogram"
           }
          ],
          "histogram2d": [
           {
            "colorbar": {
             "outlinewidth": 0,
             "ticks": ""
            },
            "colorscale": [
             [
              0,
              "#0d0887"
             ],
             [
              0.1111111111111111,
              "#46039f"
             ],
             [
              0.2222222222222222,
              "#7201a8"
             ],
             [
              0.3333333333333333,
              "#9c179e"
             ],
             [
              0.4444444444444444,
              "#bd3786"
             ],
             [
              0.5555555555555556,
              "#d8576b"
             ],
             [
              0.6666666666666666,
              "#ed7953"
             ],
             [
              0.7777777777777778,
              "#fb9f3a"
             ],
             [
              0.8888888888888888,
              "#fdca26"
             ],
             [
              1,
              "#f0f921"
             ]
            ],
            "type": "histogram2d"
           }
          ],
          "histogram2dcontour": [
           {
            "colorbar": {
             "outlinewidth": 0,
             "ticks": ""
            },
            "colorscale": [
             [
              0,
              "#0d0887"
             ],
             [
              0.1111111111111111,
              "#46039f"
             ],
             [
              0.2222222222222222,
              "#7201a8"
             ],
             [
              0.3333333333333333,
              "#9c179e"
             ],
             [
              0.4444444444444444,
              "#bd3786"
             ],
             [
              0.5555555555555556,
              "#d8576b"
             ],
             [
              0.6666666666666666,
              "#ed7953"
             ],
             [
              0.7777777777777778,
              "#fb9f3a"
             ],
             [
              0.8888888888888888,
              "#fdca26"
             ],
             [
              1,
              "#f0f921"
             ]
            ],
            "type": "histogram2dcontour"
           }
          ],
          "mesh3d": [
           {
            "colorbar": {
             "outlinewidth": 0,
             "ticks": ""
            },
            "type": "mesh3d"
           }
          ],
          "parcoords": [
           {
            "line": {
             "colorbar": {
              "outlinewidth": 0,
              "ticks": ""
             }
            },
            "type": "parcoords"
           }
          ],
          "pie": [
           {
            "automargin": true,
            "type": "pie"
           }
          ],
          "scatter": [
           {
            "fillpattern": {
             "fillmode": "overlay",
             "size": 10,
             "solidity": 0.2
            },
            "type": "scatter"
           }
          ],
          "scatter3d": [
           {
            "line": {
             "colorbar": {
              "outlinewidth": 0,
              "ticks": ""
             }
            },
            "marker": {
             "colorbar": {
              "outlinewidth": 0,
              "ticks": ""
             }
            },
            "type": "scatter3d"
           }
          ],
          "scattercarpet": [
           {
            "marker": {
             "colorbar": {
              "outlinewidth": 0,
              "ticks": ""
             }
            },
            "type": "scattercarpet"
           }
          ],
          "scattergeo": [
           {
            "marker": {
             "colorbar": {
              "outlinewidth": 0,
              "ticks": ""
             }
            },
            "type": "scattergeo"
           }
          ],
          "scattergl": [
           {
            "marker": {
             "colorbar": {
              "outlinewidth": 0,
              "ticks": ""
             }
            },
            "type": "scattergl"
           }
          ],
          "scattermapbox": [
           {
            "marker": {
             "colorbar": {
              "outlinewidth": 0,
              "ticks": ""
             }
            },
            "type": "scattermapbox"
           }
          ],
          "scatterpolar": [
           {
            "marker": {
             "colorbar": {
              "outlinewidth": 0,
              "ticks": ""
             }
            },
            "type": "scatterpolar"
           }
          ],
          "scatterpolargl": [
           {
            "marker": {
             "colorbar": {
              "outlinewidth": 0,
              "ticks": ""
             }
            },
            "type": "scatterpolargl"
           }
          ],
          "scatterternary": [
           {
            "marker": {
             "colorbar": {
              "outlinewidth": 0,
              "ticks": ""
             }
            },
            "type": "scatterternary"
           }
          ],
          "surface": [
           {
            "colorbar": {
             "outlinewidth": 0,
             "ticks": ""
            },
            "colorscale": [
             [
              0,
              "#0d0887"
             ],
             [
              0.1111111111111111,
              "#46039f"
             ],
             [
              0.2222222222222222,
              "#7201a8"
             ],
             [
              0.3333333333333333,
              "#9c179e"
             ],
             [
              0.4444444444444444,
              "#bd3786"
             ],
             [
              0.5555555555555556,
              "#d8576b"
             ],
             [
              0.6666666666666666,
              "#ed7953"
             ],
             [
              0.7777777777777778,
              "#fb9f3a"
             ],
             [
              0.8888888888888888,
              "#fdca26"
             ],
             [
              1,
              "#f0f921"
             ]
            ],
            "type": "surface"
           }
          ],
          "table": [
           {
            "cells": {
             "fill": {
              "color": "#EBF0F8"
             },
             "line": {
              "color": "white"
             }
            },
            "header": {
             "fill": {
              "color": "#C8D4E3"
             },
             "line": {
              "color": "white"
             }
            },
            "type": "table"
           }
          ]
         },
         "layout": {
          "annotationdefaults": {
           "arrowcolor": "#2a3f5f",
           "arrowhead": 0,
           "arrowwidth": 1
          },
          "autotypenumbers": "strict",
          "coloraxis": {
           "colorbar": {
            "outlinewidth": 0,
            "ticks": ""
           }
          },
          "colorscale": {
           "diverging": [
            [
             0,
             "#8e0152"
            ],
            [
             0.1,
             "#c51b7d"
            ],
            [
             0.2,
             "#de77ae"
            ],
            [
             0.3,
             "#f1b6da"
            ],
            [
             0.4,
             "#fde0ef"
            ],
            [
             0.5,
             "#f7f7f7"
            ],
            [
             0.6,
             "#e6f5d0"
            ],
            [
             0.7,
             "#b8e186"
            ],
            [
             0.8,
             "#7fbc41"
            ],
            [
             0.9,
             "#4d9221"
            ],
            [
             1,
             "#276419"
            ]
           ],
           "sequential": [
            [
             0,
             "#0d0887"
            ],
            [
             0.1111111111111111,
             "#46039f"
            ],
            [
             0.2222222222222222,
             "#7201a8"
            ],
            [
             0.3333333333333333,
             "#9c179e"
            ],
            [
             0.4444444444444444,
             "#bd3786"
            ],
            [
             0.5555555555555556,
             "#d8576b"
            ],
            [
             0.6666666666666666,
             "#ed7953"
            ],
            [
             0.7777777777777778,
             "#fb9f3a"
            ],
            [
             0.8888888888888888,
             "#fdca26"
            ],
            [
             1,
             "#f0f921"
            ]
           ],
           "sequentialminus": [
            [
             0,
             "#0d0887"
            ],
            [
             0.1111111111111111,
             "#46039f"
            ],
            [
             0.2222222222222222,
             "#7201a8"
            ],
            [
             0.3333333333333333,
             "#9c179e"
            ],
            [
             0.4444444444444444,
             "#bd3786"
            ],
            [
             0.5555555555555556,
             "#d8576b"
            ],
            [
             0.6666666666666666,
             "#ed7953"
            ],
            [
             0.7777777777777778,
             "#fb9f3a"
            ],
            [
             0.8888888888888888,
             "#fdca26"
            ],
            [
             1,
             "#f0f921"
            ]
           ]
          },
          "colorway": [
           "#636efa",
           "#EF553B",
           "#00cc96",
           "#ab63fa",
           "#FFA15A",
           "#19d3f3",
           "#FF6692",
           "#B6E880",
           "#FF97FF",
           "#FECB52"
          ],
          "font": {
           "color": "#2a3f5f"
          },
          "geo": {
           "bgcolor": "white",
           "lakecolor": "white",
           "landcolor": "#E5ECF6",
           "showlakes": true,
           "showland": true,
           "subunitcolor": "white"
          },
          "hoverlabel": {
           "align": "left"
          },
          "hovermode": "closest",
          "mapbox": {
           "style": "light"
          },
          "paper_bgcolor": "white",
          "plot_bgcolor": "#E5ECF6",
          "polar": {
           "angularaxis": {
            "gridcolor": "white",
            "linecolor": "white",
            "ticks": ""
           },
           "bgcolor": "#E5ECF6",
           "radialaxis": {
            "gridcolor": "white",
            "linecolor": "white",
            "ticks": ""
           }
          },
          "scene": {
           "xaxis": {
            "backgroundcolor": "#E5ECF6",
            "gridcolor": "white",
            "gridwidth": 2,
            "linecolor": "white",
            "showbackground": true,
            "ticks": "",
            "zerolinecolor": "white"
           },
           "yaxis": {
            "backgroundcolor": "#E5ECF6",
            "gridcolor": "white",
            "gridwidth": 2,
            "linecolor": "white",
            "showbackground": true,
            "ticks": "",
            "zerolinecolor": "white"
           },
           "zaxis": {
            "backgroundcolor": "#E5ECF6",
            "gridcolor": "white",
            "gridwidth": 2,
            "linecolor": "white",
            "showbackground": true,
            "ticks": "",
            "zerolinecolor": "white"
           }
          },
          "shapedefaults": {
           "line": {
            "color": "#2a3f5f"
           }
          },
          "ternary": {
           "aaxis": {
            "gridcolor": "white",
            "linecolor": "white",
            "ticks": ""
           },
           "baxis": {
            "gridcolor": "white",
            "linecolor": "white",
            "ticks": ""
           },
           "bgcolor": "#E5ECF6",
           "caxis": {
            "gridcolor": "white",
            "linecolor": "white",
            "ticks": ""
           }
          },
          "title": {
           "x": 0.05
          },
          "xaxis": {
           "automargin": true,
           "gridcolor": "white",
           "linecolor": "white",
           "ticks": "",
           "title": {
            "standoff": 15
           },
           "zerolinecolor": "white",
           "zerolinewidth": 2
          },
          "yaxis": {
           "automargin": true,
           "gridcolor": "white",
           "linecolor": "white",
           "ticks": "",
           "title": {
            "standoff": 15
           },
           "zerolinecolor": "white",
           "zerolinewidth": 2
          }
         }
        },
        "xaxis": {
         "anchor": "y",
         "domain": [
          0,
          1
         ],
         "title": {
          "text": "x"
         }
        },
        "yaxis": {
         "anchor": "x",
         "domain": [
          0,
          1
         ],
         "title": {
          "text": "y"
         }
        }
       }
      }
     },
     "metadata": {},
     "output_type": "display_data"
    },
    {
     "name": "stderr",
     "output_type": "stream",
     "text": [
      "C:\\Users\\chrap\\AppData\\Local\\Temp\\ipykernel_8180\\2446099799.py:9: FutureWarning:\n",
      "\n",
      "'A' is deprecated and will be removed in a future version, please use 'YE' instead.\n",
      "\n"
     ]
    },
    {
     "data": {
      "application/vnd.plotly.v1+json": {
       "config": {
        "plotlyServerURL": "https://plot.ly"
       },
       "data": [
        {
         "hovertemplate": "x=%{x}<br>y=%{y}<extra></extra>",
         "legendgroup": "",
         "line": {
          "color": "#636efa",
          "dash": "solid"
         },
         "marker": {
          "symbol": "circle"
         },
         "mode": "lines",
         "name": "",
         "orientation": "v",
         "showlegend": false,
         "type": "scatter",
         "x": [
          "2013-12-31T00:00:00",
          "2014-12-31T00:00:00",
          "2015-12-31T00:00:00",
          "2016-12-31T00:00:00",
          "2017-12-31T00:00:00"
         ],
         "xaxis": "x",
         "y": [
          24691.600021362305,
          23479.399990081787,
          12261.490001678467,
          10910.000007629395,
          8221.890033721924
         ],
         "yaxis": "y"
        }
       ],
       "layout": {
        "legend": {
         "tracegroupgap": 0
        },
        "margin": {
         "t": 60
        },
        "template": {
         "data": {
          "bar": [
           {
            "error_x": {
             "color": "#2a3f5f"
            },
            "error_y": {
             "color": "#2a3f5f"
            },
            "marker": {
             "line": {
              "color": "#E5ECF6",
              "width": 0.5
             },
             "pattern": {
              "fillmode": "overlay",
              "size": 10,
              "solidity": 0.2
             }
            },
            "type": "bar"
           }
          ],
          "barpolar": [
           {
            "marker": {
             "line": {
              "color": "#E5ECF6",
              "width": 0.5
             },
             "pattern": {
              "fillmode": "overlay",
              "size": 10,
              "solidity": 0.2
             }
            },
            "type": "barpolar"
           }
          ],
          "carpet": [
           {
            "aaxis": {
             "endlinecolor": "#2a3f5f",
             "gridcolor": "white",
             "linecolor": "white",
             "minorgridcolor": "white",
             "startlinecolor": "#2a3f5f"
            },
            "baxis": {
             "endlinecolor": "#2a3f5f",
             "gridcolor": "white",
             "linecolor": "white",
             "minorgridcolor": "white",
             "startlinecolor": "#2a3f5f"
            },
            "type": "carpet"
           }
          ],
          "choropleth": [
           {
            "colorbar": {
             "outlinewidth": 0,
             "ticks": ""
            },
            "type": "choropleth"
           }
          ],
          "contour": [
           {
            "colorbar": {
             "outlinewidth": 0,
             "ticks": ""
            },
            "colorscale": [
             [
              0,
              "#0d0887"
             ],
             [
              0.1111111111111111,
              "#46039f"
             ],
             [
              0.2222222222222222,
              "#7201a8"
             ],
             [
              0.3333333333333333,
              "#9c179e"
             ],
             [
              0.4444444444444444,
              "#bd3786"
             ],
             [
              0.5555555555555556,
              "#d8576b"
             ],
             [
              0.6666666666666666,
              "#ed7953"
             ],
             [
              0.7777777777777778,
              "#fb9f3a"
             ],
             [
              0.8888888888888888,
              "#fdca26"
             ],
             [
              1,
              "#f0f921"
             ]
            ],
            "type": "contour"
           }
          ],
          "contourcarpet": [
           {
            "colorbar": {
             "outlinewidth": 0,
             "ticks": ""
            },
            "type": "contourcarpet"
           }
          ],
          "heatmap": [
           {
            "colorbar": {
             "outlinewidth": 0,
             "ticks": ""
            },
            "colorscale": [
             [
              0,
              "#0d0887"
             ],
             [
              0.1111111111111111,
              "#46039f"
             ],
             [
              0.2222222222222222,
              "#7201a8"
             ],
             [
              0.3333333333333333,
              "#9c179e"
             ],
             [
              0.4444444444444444,
              "#bd3786"
             ],
             [
              0.5555555555555556,
              "#d8576b"
             ],
             [
              0.6666666666666666,
              "#ed7953"
             ],
             [
              0.7777777777777778,
              "#fb9f3a"
             ],
             [
              0.8888888888888888,
              "#fdca26"
             ],
             [
              1,
              "#f0f921"
             ]
            ],
            "type": "heatmap"
           }
          ],
          "heatmapgl": [
           {
            "colorbar": {
             "outlinewidth": 0,
             "ticks": ""
            },
            "colorscale": [
             [
              0,
              "#0d0887"
             ],
             [
              0.1111111111111111,
              "#46039f"
             ],
             [
              0.2222222222222222,
              "#7201a8"
             ],
             [
              0.3333333333333333,
              "#9c179e"
             ],
             [
              0.4444444444444444,
              "#bd3786"
             ],
             [
              0.5555555555555556,
              "#d8576b"
             ],
             [
              0.6666666666666666,
              "#ed7953"
             ],
             [
              0.7777777777777778,
              "#fb9f3a"
             ],
             [
              0.8888888888888888,
              "#fdca26"
             ],
             [
              1,
              "#f0f921"
             ]
            ],
            "type": "heatmapgl"
           }
          ],
          "histogram": [
           {
            "marker": {
             "pattern": {
              "fillmode": "overlay",
              "size": 10,
              "solidity": 0.2
             }
            },
            "type": "histogram"
           }
          ],
          "histogram2d": [
           {
            "colorbar": {
             "outlinewidth": 0,
             "ticks": ""
            },
            "colorscale": [
             [
              0,
              "#0d0887"
             ],
             [
              0.1111111111111111,
              "#46039f"
             ],
             [
              0.2222222222222222,
              "#7201a8"
             ],
             [
              0.3333333333333333,
              "#9c179e"
             ],
             [
              0.4444444444444444,
              "#bd3786"
             ],
             [
              0.5555555555555556,
              "#d8576b"
             ],
             [
              0.6666666666666666,
              "#ed7953"
             ],
             [
              0.7777777777777778,
              "#fb9f3a"
             ],
             [
              0.8888888888888888,
              "#fdca26"
             ],
             [
              1,
              "#f0f921"
             ]
            ],
            "type": "histogram2d"
           }
          ],
          "histogram2dcontour": [
           {
            "colorbar": {
             "outlinewidth": 0,
             "ticks": ""
            },
            "colorscale": [
             [
              0,
              "#0d0887"
             ],
             [
              0.1111111111111111,
              "#46039f"
             ],
             [
              0.2222222222222222,
              "#7201a8"
             ],
             [
              0.3333333333333333,
              "#9c179e"
             ],
             [
              0.4444444444444444,
              "#bd3786"
             ],
             [
              0.5555555555555556,
              "#d8576b"
             ],
             [
              0.6666666666666666,
              "#ed7953"
             ],
             [
              0.7777777777777778,
              "#fb9f3a"
             ],
             [
              0.8888888888888888,
              "#fdca26"
             ],
             [
              1,
              "#f0f921"
             ]
            ],
            "type": "histogram2dcontour"
           }
          ],
          "mesh3d": [
           {
            "colorbar": {
             "outlinewidth": 0,
             "ticks": ""
            },
            "type": "mesh3d"
           }
          ],
          "parcoords": [
           {
            "line": {
             "colorbar": {
              "outlinewidth": 0,
              "ticks": ""
             }
            },
            "type": "parcoords"
           }
          ],
          "pie": [
           {
            "automargin": true,
            "type": "pie"
           }
          ],
          "scatter": [
           {
            "fillpattern": {
             "fillmode": "overlay",
             "size": 10,
             "solidity": 0.2
            },
            "type": "scatter"
           }
          ],
          "scatter3d": [
           {
            "line": {
             "colorbar": {
              "outlinewidth": 0,
              "ticks": ""
             }
            },
            "marker": {
             "colorbar": {
              "outlinewidth": 0,
              "ticks": ""
             }
            },
            "type": "scatter3d"
           }
          ],
          "scattercarpet": [
           {
            "marker": {
             "colorbar": {
              "outlinewidth": 0,
              "ticks": ""
             }
            },
            "type": "scattercarpet"
           }
          ],
          "scattergeo": [
           {
            "marker": {
             "colorbar": {
              "outlinewidth": 0,
              "ticks": ""
             }
            },
            "type": "scattergeo"
           }
          ],
          "scattergl": [
           {
            "marker": {
             "colorbar": {
              "outlinewidth": 0,
              "ticks": ""
             }
            },
            "type": "scattergl"
           }
          ],
          "scattermapbox": [
           {
            "marker": {
             "colorbar": {
              "outlinewidth": 0,
              "ticks": ""
             }
            },
            "type": "scattermapbox"
           }
          ],
          "scatterpolar": [
           {
            "marker": {
             "colorbar": {
              "outlinewidth": 0,
              "ticks": ""
             }
            },
            "type": "scatterpolar"
           }
          ],
          "scatterpolargl": [
           {
            "marker": {
             "colorbar": {
              "outlinewidth": 0,
              "ticks": ""
             }
            },
            "type": "scatterpolargl"
           }
          ],
          "scatterternary": [
           {
            "marker": {
             "colorbar": {
              "outlinewidth": 0,
              "ticks": ""
             }
            },
            "type": "scatterternary"
           }
          ],
          "surface": [
           {
            "colorbar": {
             "outlinewidth": 0,
             "ticks": ""
            },
            "colorscale": [
             [
              0,
              "#0d0887"
             ],
             [
              0.1111111111111111,
              "#46039f"
             ],
             [
              0.2222222222222222,
              "#7201a8"
             ],
             [
              0.3333333333333333,
              "#9c179e"
             ],
             [
              0.4444444444444444,
              "#bd3786"
             ],
             [
              0.5555555555555556,
              "#d8576b"
             ],
             [
              0.6666666666666666,
              "#ed7953"
             ],
             [
              0.7777777777777778,
              "#fb9f3a"
             ],
             [
              0.8888888888888888,
              "#fdca26"
             ],
             [
              1,
              "#f0f921"
             ]
            ],
            "type": "surface"
           }
          ],
          "table": [
           {
            "cells": {
             "fill": {
              "color": "#EBF0F8"
             },
             "line": {
              "color": "white"
             }
            },
            "header": {
             "fill": {
              "color": "#C8D4E3"
             },
             "line": {
              "color": "white"
             }
            },
            "type": "table"
           }
          ]
         },
         "layout": {
          "annotationdefaults": {
           "arrowcolor": "#2a3f5f",
           "arrowhead": 0,
           "arrowwidth": 1
          },
          "autotypenumbers": "strict",
          "coloraxis": {
           "colorbar": {
            "outlinewidth": 0,
            "ticks": ""
           }
          },
          "colorscale": {
           "diverging": [
            [
             0,
             "#8e0152"
            ],
            [
             0.1,
             "#c51b7d"
            ],
            [
             0.2,
             "#de77ae"
            ],
            [
             0.3,
             "#f1b6da"
            ],
            [
             0.4,
             "#fde0ef"
            ],
            [
             0.5,
             "#f7f7f7"
            ],
            [
             0.6,
             "#e6f5d0"
            ],
            [
             0.7,
             "#b8e186"
            ],
            [
             0.8,
             "#7fbc41"
            ],
            [
             0.9,
             "#4d9221"
            ],
            [
             1,
             "#276419"
            ]
           ],
           "sequential": [
            [
             0,
             "#0d0887"
            ],
            [
             0.1111111111111111,
             "#46039f"
            ],
            [
             0.2222222222222222,
             "#7201a8"
            ],
            [
             0.3333333333333333,
             "#9c179e"
            ],
            [
             0.4444444444444444,
             "#bd3786"
            ],
            [
             0.5555555555555556,
             "#d8576b"
            ],
            [
             0.6666666666666666,
             "#ed7953"
            ],
            [
             0.7777777777777778,
             "#fb9f3a"
            ],
            [
             0.8888888888888888,
             "#fdca26"
            ],
            [
             1,
             "#f0f921"
            ]
           ],
           "sequentialminus": [
            [
             0,
             "#0d0887"
            ],
            [
             0.1111111111111111,
             "#46039f"
            ],
            [
             0.2222222222222222,
             "#7201a8"
            ],
            [
             0.3333333333333333,
             "#9c179e"
            ],
            [
             0.4444444444444444,
             "#bd3786"
            ],
            [
             0.5555555555555556,
             "#d8576b"
            ],
            [
             0.6666666666666666,
             "#ed7953"
            ],
            [
             0.7777777777777778,
             "#fb9f3a"
            ],
            [
             0.8888888888888888,
             "#fdca26"
            ],
            [
             1,
             "#f0f921"
            ]
           ]
          },
          "colorway": [
           "#636efa",
           "#EF553B",
           "#00cc96",
           "#ab63fa",
           "#FFA15A",
           "#19d3f3",
           "#FF6692",
           "#B6E880",
           "#FF97FF",
           "#FECB52"
          ],
          "font": {
           "color": "#2a3f5f"
          },
          "geo": {
           "bgcolor": "white",
           "lakecolor": "white",
           "landcolor": "#E5ECF6",
           "showlakes": true,
           "showland": true,
           "subunitcolor": "white"
          },
          "hoverlabel": {
           "align": "left"
          },
          "hovermode": "closest",
          "mapbox": {
           "style": "light"
          },
          "paper_bgcolor": "white",
          "plot_bgcolor": "#E5ECF6",
          "polar": {
           "angularaxis": {
            "gridcolor": "white",
            "linecolor": "white",
            "ticks": ""
           },
           "bgcolor": "#E5ECF6",
           "radialaxis": {
            "gridcolor": "white",
            "linecolor": "white",
            "ticks": ""
           }
          },
          "scene": {
           "xaxis": {
            "backgroundcolor": "#E5ECF6",
            "gridcolor": "white",
            "gridwidth": 2,
            "linecolor": "white",
            "showbackground": true,
            "ticks": "",
            "zerolinecolor": "white"
           },
           "yaxis": {
            "backgroundcolor": "#E5ECF6",
            "gridcolor": "white",
            "gridwidth": 2,
            "linecolor": "white",
            "showbackground": true,
            "ticks": "",
            "zerolinecolor": "white"
           },
           "zaxis": {
            "backgroundcolor": "#E5ECF6",
            "gridcolor": "white",
            "gridwidth": 2,
            "linecolor": "white",
            "showbackground": true,
            "ticks": "",
            "zerolinecolor": "white"
           }
          },
          "shapedefaults": {
           "line": {
            "color": "#2a3f5f"
           }
          },
          "ternary": {
           "aaxis": {
            "gridcolor": "white",
            "linecolor": "white",
            "ticks": ""
           },
           "baxis": {
            "gridcolor": "white",
            "linecolor": "white",
            "ticks": ""
           },
           "bgcolor": "#E5ECF6",
           "caxis": {
            "gridcolor": "white",
            "linecolor": "white",
            "ticks": ""
           }
          },
          "title": {
           "x": 0.05
          },
          "xaxis": {
           "automargin": true,
           "gridcolor": "white",
           "linecolor": "white",
           "ticks": "",
           "title": {
            "standoff": 15
           },
           "zerolinecolor": "white",
           "zerolinewidth": 2
          },
          "yaxis": {
           "automargin": true,
           "gridcolor": "white",
           "linecolor": "white",
           "ticks": "",
           "title": {
            "standoff": 15
           },
           "zerolinecolor": "white",
           "zerolinewidth": 2
          }
         }
        },
        "xaxis": {
         "anchor": "y",
         "domain": [
          0,
          1
         ],
         "title": {
          "text": "x"
         }
        },
        "yaxis": {
         "anchor": "x",
         "domain": [
          0,
          1
         ],
         "title": {
          "text": "y"
         }
        }
       }
      }
     },
     "metadata": {},
     "output_type": "display_data"
    }
   ],
   "source": [
    "# Graph of trends\n",
    "patterns = ['W','M','A']\n",
    "\n",
    "for pattern in patterns:\n",
    "        #create new DataFrame\n",
    "    resample_df = pd.DataFrame()\n",
    "\n",
    "    #create 'sales' column that summarizes total sales by week\n",
    "    resample_df['sales'] = oil_df['dcoilwtico'].resample(pattern).sum()\n",
    "    #plot weekly sales data\n",
    "    \n",
    "    fig = px.line(x=resample_df.index, y=resample_df.sales) \n",
    "\n",
    "    # Creating the Figure instance\n",
    " \n",
    "# showing the plot\n",
    "    fig.show()"
   ]
  },
  {
   "cell_type": "code",
   "execution_count": 75,
   "metadata": {},
   "outputs": [],
   "source": [
    "# fig = px.line(sales_df, x=sales_df.index, y=\"sales\")\n",
    "# fig.show()"
   ]
  },
  {
   "cell_type": "code",
   "execution_count": 76,
   "metadata": {},
   "outputs": [],
   "source": [
    "# fig = px.line(transact_df, x=transact_df.index, y=\"transactions\")\n",
    "# fig.show()"
   ]
  },
  {
   "cell_type": "code",
   "execution_count": 77,
   "metadata": {},
   "outputs": [],
   "source": [
    "# import plotly.graph_objects as go\n",
    "\n",
    "# # Create random data with numpy\n",
    "# import numpy as np\n",
    "\n",
    "# # Create traces\n",
    "# fig = go.Figure()\n",
    "# # fig.add_trace(go.Scatter(x=oil_df.date, y=oil_df.dcoilwtico,\n",
    "# #                     mode='lines',\n",
    "# #                     name='Oil Price over the years'))\n",
    "# fig.add_trace(go.Scatter(x=sales_df.index, y=sales_df.sales,\n",
    "#                     mode='lines+markers',\n",
    "#                     name='Sales over the years'))\n",
    "# # fig.add_trace(go.Scatter(x=transact_df.index, y=transact_df.transactions,\n",
    "# #                     mode='markers', name='markers'))\n",
    "\n",
    "# fig.show()"
   ]
  }
 ],
 "metadata": {
  "kernelspec": {
   "display_name": "Python 3",
   "language": "python",
   "name": "python3"
  },
  "language_info": {
   "codemirror_mode": {
    "name": "ipython",
    "version": 3
   },
   "file_extension": ".py",
   "mimetype": "text/x-python",
   "name": "python",
   "nbconvert_exporter": "python",
   "pygments_lexer": "ipython3",
   "version": "3.11.0"
  }
 },
 "nbformat": 4,
 "nbformat_minor": 2
}
